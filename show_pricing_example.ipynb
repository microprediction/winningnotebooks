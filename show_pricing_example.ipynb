{
  "nbformat": 4,
  "nbformat_minor": 0,
  "metadata": {
    "colab": {
      "name": "show_pricing_example.ipynb",
      "provenance": [],
      "include_colab_link": true
    },
    "kernelspec": {
      "name": "python3",
      "display_name": "Python 3"
    },
    "language_info": {
      "name": "python"
    }
  },
  "cells": [
    {
      "cell_type": "markdown",
      "metadata": {
        "id": "view-in-github",
        "colab_type": "text"
      },
      "source": [
        "<a href=\"https://colab.research.google.com/github/microprediction/winningnotebooks/blob/main/show_pricing_example.ipynb\" target=\"_parent\"><img src=\"https://colab.research.google.com/assets/colab-badge.svg\" alt=\"Open In Colab\"/></a>"
      ]
    },
    {
      "cell_type": "code",
      "metadata": {
        "id": "mAn-nh44Y1An"
      },
      "source": [
        "!pip install --upgrade winning"
      ],
      "execution_count": null,
      "outputs": []
    },
    {
      "cell_type": "code",
      "metadata": {
        "id": "5wedD_FcY5QD"
      },
      "source": [
        "from winning.lattice_pricing import skew_normal_simulation\n",
        "dividends = [2.0,3.0,12.0,12.0,24.0,24.0]\n",
        "pricing = skew_normal_simulation(dividends=dividends,longshot_expon=1.15,skew_parameter=1.0,nSamples=1000)"
      ],
      "execution_count": null,
      "outputs": []
    },
    {
      "cell_type": "code",
      "metadata": {
        "colab": {
          "base_uri": "https://localhost:8080/"
        },
        "id": "t5fyMTOKY9u_",
        "outputId": "73261e3b-3e11-4ba6-a98c-285905c059ba"
      },
      "source": [
        "pricing['win']"
      ],
      "execution_count": null,
      "outputs": [
        {
          "output_type": "execute_result",
          "data": {
            "text/plain": [
              "[2.2271714922048997,\n",
              " 3.236245954692557,\n",
              " 11.11111111111111,\n",
              " 13.88888888888889,\n",
              " 24.390243902439025,\n",
              " 25.641025641025642]"
            ]
          },
          "metadata": {
            "tags": []
          },
          "execution_count": 4
        }
      ]
    },
    {
      "cell_type": "code",
      "metadata": {
        "colab": {
          "base_uri": "https://localhost:8080/"
        },
        "id": "FSWuwESQZ5Qg",
        "outputId": "cf060b03-9e66-43ae-dd91-8665f286cf7e"
      },
      "source": [
        "pricing['show']"
      ],
      "execution_count": null,
      "outputs": [
        {
          "output_type": "execute_result",
          "data": {
            "text/plain": [
              "[1.183431952662722,\n",
              " 1.335113484646195,\n",
              " 2.3696682464454977,\n",
              " 2.2935779816513757,\n",
              " 3.846153846153846,\n",
              " 3.472222222222222]"
            ]
          },
          "metadata": {
            "tags": []
          },
          "execution_count": 5
        }
      ]
    }
  ]
}