{
  "nbformat": 4,
  "nbformat_minor": 0,
  "metadata": {
    "colab": {
      "provenance": [],
      "authorship_tag": "ABX9TyOZt1kw8cL+npHQn9tO5OrS",
      "include_colab_link": true
    },
    "kernelspec": {
      "name": "python3",
      "display_name": "Python 3"
    },
    "language_info": {
      "name": "python"
    }
  },
  "cells": [
    {
      "cell_type": "markdown",
      "metadata": {
        "id": "view-in-github",
        "colab_type": "text"
      },
      "source": [
        "<a href=\"https://colab.research.google.com/github/microprediction/winningnotebooks/blob/main/LLM_Quinellas_Comparison.ipynb\" target=\"_parent\"><img src=\"https://colab.research.google.com/assets/colab-badge.svg\" alt=\"Open In Colab\"/></a>"
      ]
    },
    {
      "cell_type": "code",
      "execution_count": 1,
      "metadata": {
        "colab": {
          "base_uri": "https://localhost:8080/"
        },
        "collapsed": true,
        "id": "C_4E5p8fd80E",
        "outputId": "69b11864-a71b-40a3-a897-9a86d6363980"
      },
      "outputs": [
        {
          "output_type": "stream",
          "name": "stdout",
          "text": [
            "Requirement already satisfied: transformers in /usr/local/lib/python3.10/dist-packages (4.44.2)\n",
            "Requirement already satisfied: filelock in /usr/local/lib/python3.10/dist-packages (from transformers) (3.16.1)\n",
            "Requirement already satisfied: huggingface-hub<1.0,>=0.23.2 in /usr/local/lib/python3.10/dist-packages (from transformers) (0.24.7)\n",
            "Requirement already satisfied: numpy>=1.17 in /usr/local/lib/python3.10/dist-packages (from transformers) (1.26.4)\n",
            "Requirement already satisfied: packaging>=20.0 in /usr/local/lib/python3.10/dist-packages (from transformers) (24.1)\n",
            "Requirement already satisfied: pyyaml>=5.1 in /usr/local/lib/python3.10/dist-packages (from transformers) (6.0.2)\n",
            "Requirement already satisfied: regex!=2019.12.17 in /usr/local/lib/python3.10/dist-packages (from transformers) (2024.9.11)\n",
            "Requirement already satisfied: requests in /usr/local/lib/python3.10/dist-packages (from transformers) (2.32.3)\n",
            "Requirement already satisfied: safetensors>=0.4.1 in /usr/local/lib/python3.10/dist-packages (from transformers) (0.4.5)\n",
            "Requirement already satisfied: tokenizers<0.20,>=0.19 in /usr/local/lib/python3.10/dist-packages (from transformers) (0.19.1)\n",
            "Requirement already satisfied: tqdm>=4.27 in /usr/local/lib/python3.10/dist-packages (from transformers) (4.66.6)\n",
            "Requirement already satisfied: fsspec>=2023.5.0 in /usr/local/lib/python3.10/dist-packages (from huggingface-hub<1.0,>=0.23.2->transformers) (2024.10.0)\n",
            "Requirement already satisfied: typing-extensions>=3.7.4.3 in /usr/local/lib/python3.10/dist-packages (from huggingface-hub<1.0,>=0.23.2->transformers) (4.12.2)\n",
            "Requirement already satisfied: charset-normalizer<4,>=2 in /usr/local/lib/python3.10/dist-packages (from requests->transformers) (3.4.0)\n",
            "Requirement already satisfied: idna<4,>=2.5 in /usr/local/lib/python3.10/dist-packages (from requests->transformers) (3.10)\n",
            "Requirement already satisfied: urllib3<3,>=1.21.1 in /usr/local/lib/python3.10/dist-packages (from requests->transformers) (2.2.3)\n",
            "Requirement already satisfied: certifi>=2017.4.17 in /usr/local/lib/python3.10/dist-packages (from requests->transformers) (2024.8.30)\n",
            "Collecting winning\n",
            "  Downloading winning-1.0.3-py3-none-any.whl.metadata (6.7 kB)\n",
            "Requirement already satisfied: numpy in /usr/local/lib/python3.10/dist-packages (from winning) (1.26.4)\n",
            "Requirement already satisfied: pytest in /usr/local/lib/python3.10/dist-packages (from winning) (7.4.4)\n",
            "Requirement already satisfied: pathlib in /usr/local/lib/python3.10/dist-packages (from winning) (1.0.1)\n",
            "Requirement already satisfied: wheel in /usr/local/lib/python3.10/dist-packages (from winning) (0.44.0)\n",
            "Requirement already satisfied: iniconfig in /usr/local/lib/python3.10/dist-packages (from pytest->winning) (2.0.0)\n",
            "Requirement already satisfied: packaging in /usr/local/lib/python3.10/dist-packages (from pytest->winning) (24.1)\n",
            "Requirement already satisfied: pluggy<2.0,>=0.12 in /usr/local/lib/python3.10/dist-packages (from pytest->winning) (1.5.0)\n",
            "Requirement already satisfied: exceptiongroup>=1.0.0rc8 in /usr/local/lib/python3.10/dist-packages (from pytest->winning) (1.2.2)\n",
            "Requirement already satisfied: tomli>=1.0.0 in /usr/local/lib/python3.10/dist-packages (from pytest->winning) (2.0.2)\n",
            "Downloading winning-1.0.3-py3-none-any.whl (23 kB)\n",
            "Installing collected packages: winning\n",
            "Successfully installed winning-1.0.3\n",
            "Requirement already satisfied: pandas in /usr/local/lib/python3.10/dist-packages (2.2.2)\n",
            "Requirement already satisfied: numpy>=1.22.4 in /usr/local/lib/python3.10/dist-packages (from pandas) (1.26.4)\n",
            "Requirement already satisfied: python-dateutil>=2.8.2 in /usr/local/lib/python3.10/dist-packages (from pandas) (2.8.2)\n",
            "Requirement already satisfied: pytz>=2020.1 in /usr/local/lib/python3.10/dist-packages (from pandas) (2024.2)\n",
            "Requirement already satisfied: tzdata>=2022.7 in /usr/local/lib/python3.10/dist-packages (from pandas) (2024.2)\n",
            "Requirement already satisfied: six>=1.5 in /usr/local/lib/python3.10/dist-packages (from python-dateutil>=2.8.2->pandas) (1.16.0)\n",
            "Requirement already satisfied: scipy in /usr/local/lib/python3.10/dist-packages (1.13.1)\n",
            "Requirement already satisfied: numpy<2.3,>=1.22.4 in /usr/local/lib/python3.10/dist-packages (from scipy) (1.26.4)\n"
          ]
        }
      ],
      "source": [
        "!pip install transformers\n",
        "!pip install winning\n",
        "!pip install pandas\n",
        "!pip install scipy"
      ]
    },
    {
      "cell_type": "markdown",
      "source": [
        "# Luce's Choice Axiom versus the Standard Normal Race model\n",
        "The methodology is as follows.\n",
        "\n",
        "\n",
        "\n"
      ],
      "metadata": {
        "id": "82THYxZp-nI8"
      }
    },
    {
      "cell_type": "markdown",
      "source": [
        "## A contest model for choice\n",
        "\n",
        "Luce is trivial. Let's just implement the second here using the `winning` package:;"
      ],
      "metadata": {
        "id": "0etgB1K41-jT"
      }
    },
    {
      "cell_type": "markdown",
      "source": [
        "# Quinella pricing"
      ],
      "metadata": {
        "id": "BmW_yeMjam_T"
      }
    },
    {
      "cell_type": "code",
      "source": [
        "import numpy as np\n",
        "from winning.lattice_conventions import STD_L, STD_A\n",
        "from winning.lattice import skew_normal_density, densities_from_offsets, get_the_rest, _loser_of_two_pdf,\\\n",
        "    beats, winner_of_many, cdf_to_pdf\n",
        "from winning.lattice_calibration import state_price_implied_ability\n",
        "\n",
        "\n",
        "def compute_skew_normal_quinellas(p:[float], L=551, a=0):\n",
        "    \"\"\" Produce quinella table, and also return densities\n",
        "\n",
        "    :param p:  Vector of state prices\n",
        "    :param L:  500 by default, half that is probably fine\n",
        "    :return: quinellas, densities\n",
        "    \"\"\"\n",
        "\n",
        "    # Calibration\n",
        "    unit = 1.0\n",
        "    density = skew_normal_density(L=L, unit=unit, loc=0, scale=50.0, a=a)\n",
        "    offsets = state_price_implied_ability(prices=p, density=density)\n",
        "    densities = densities_from_offsets(density, offsets)\n",
        "    densityAll, multiplicityAll = winner_of_many(densities)\n",
        "\n",
        "    n = len(p)\n",
        "    quinellas = np.zeros(shape=(n, n))\n",
        "    for h0 in range(n):\n",
        "        density0 = densities[h0]\n",
        "        cdfRest0, multiplicityRest0 = get_the_rest(density=density0, densityAll=densityAll,\n",
        "                                                   multiplicityAll=multiplicityAll, cdf=None, cdfAll=None)\n",
        "        for h1 in range(n):\n",
        "            if h1 > h0:\n",
        "                density1 = densities[h1]\n",
        "                cdfRest01, multiplicityRest01 = get_the_rest(density=density1, densityAll=None,\n",
        "                                                             multiplicityAll=multiplicityRest0, cdf=None,\n",
        "                                                             cdfAll=cdfRest0)\n",
        "                pdfRest01 = cdf_to_pdf(cdfRest01)\n",
        "                loser01, loser_multiplicity01 = _loser_of_two_pdf(density0, density1)\n",
        "                quinellas[h0, h1] = beats(loser01, loser_multiplicity01, pdfRest01, multiplicityRest01)\n",
        "                quinellas[h1, h0] = quinellas[h0, h1]\n",
        "\n",
        "    return quinellas\n",
        "\n",
        "qins = compute_skew_normal_quinellas(p=[0.5,0.3,0.1,0.1,0.1,0.001,0.001,0.001,0.001,0.001,0.001])\n",
        "qins[:4,:4]"
      ],
      "metadata": {
        "colab": {
          "base_uri": "https://localhost:8080/"
        },
        "collapsed": true,
        "id": "pVQBEnaDaofR",
        "outputId": "0ce8f445-e34b-4b02-cc9b-d43b5934b2e3"
      },
      "execution_count": 2,
      "outputs": [
        {
          "output_type": "execute_result",
          "data": {
            "text/plain": [
              "array([[0.        , 0.33139024, 0.12176597, 0.12176597],\n",
              "       [0.33139024, 0.        , 0.06868425, 0.06868425],\n",
              "       [0.12176597, 0.06868425, 0.        , 0.02362145],\n",
              "       [0.12176597, 0.06868425, 0.02362145, 0.        ]])"
            ]
          },
          "metadata": {},
          "execution_count": 2
        }
      ]
    },
    {
      "cell_type": "markdown",
      "source": [
        "# Quinella pricing (Luce / Harville)"
      ],
      "metadata": {
        "id": "wiCsSZchT9u6"
      }
    },
    {
      "cell_type": "code",
      "source": [
        "def compute_harville_quinellas(p):\n",
        "    \"\"\"\n",
        "    Compute Harville Quinellas (joint probabilities for unordered pairs) from individual probabilities assuming independence.\n",
        "\n",
        "    Args:\n",
        "        p (list of float): List of individual probabilities for each state/event. Should sum to <=1.\n",
        "\n",
        "    Returns:\n",
        "        list of lists: Matrix-like structure where the element at [i][j] is the joint probability P({i, j}),\n",
        "                       with diagonal elements being 1.0 to match the format requested.\n",
        "    \"\"\"\n",
        "    from itertools import combinations\n",
        "\n",
        "    n = len(p)\n",
        "    quinella_matrix = [[0.0] * n for _ in range(n)]\n",
        "\n",
        "    # Compute unnormalized joint probabilities\n",
        "    for i, j in combinations(range(n), 2):\n",
        "        if i != j:\n",
        "          joint_prob = p[i] * p[j]\n",
        "          quinella_matrix[i][j] = quinella_matrix[j][i] = joint_prob\n",
        "\n",
        "    # Normalize the joint probabilities so that their sum equals the total probability of any two events occurring\n",
        "    total_joint_prob = sum(sum(row) for row in quinella_matrix) / 2  # Divide by 2 to avoid double-counting pairs\n",
        "    if total_joint_prob > 0:\n",
        "        quinella_matrix = [\n",
        "            [cell / total_joint_prob if i != j else 0.0 for j, cell in enumerate(row)]\n",
        "            for i, row in enumerate(quinella_matrix)\n",
        "        ]\n",
        "\n",
        "    return quinella_matrix\n",
        "\n",
        "# Example usage\n",
        "result = compute_harville_quinellas(p=[0.5, 0.3, 0.2])\n",
        "for row in result:\n",
        "    print(row)\n",
        "\n",
        "\n"
      ],
      "metadata": {
        "colab": {
          "base_uri": "https://localhost:8080/"
        },
        "id": "fU6nA1MOT8ua",
        "outputId": "1e4a7311-aab5-4661-a082-33fc73e01793"
      },
      "execution_count": 3,
      "outputs": [
        {
          "output_type": "stream",
          "name": "stdout",
          "text": [
            "[0.0, 0.48387096774193544, 0.32258064516129037]\n",
            "[0.48387096774193544, 0.0, 0.1935483870967742]\n",
            "[0.32258064516129037, 0.1935483870967742, 0.0]\n"
          ]
        }
      ]
    },
    {
      "cell_type": "code",
      "source": [
        "!pip install transformers numpy pandas scipy"
      ],
      "metadata": {
        "id": "ODgmK7QPcHQP",
        "colab": {
          "base_uri": "https://localhost:8080/"
        },
        "collapsed": true,
        "outputId": "d7aa0a3c-be0e-477b-a198-1168d6038298"
      },
      "execution_count": 4,
      "outputs": [
        {
          "output_type": "stream",
          "name": "stdout",
          "text": [
            "Requirement already satisfied: transformers in /usr/local/lib/python3.10/dist-packages (4.44.2)\n",
            "Requirement already satisfied: numpy in /usr/local/lib/python3.10/dist-packages (1.26.4)\n",
            "Requirement already satisfied: pandas in /usr/local/lib/python3.10/dist-packages (2.2.2)\n",
            "Requirement already satisfied: scipy in /usr/local/lib/python3.10/dist-packages (1.13.1)\n",
            "Requirement already satisfied: filelock in /usr/local/lib/python3.10/dist-packages (from transformers) (3.16.1)\n",
            "Requirement already satisfied: huggingface-hub<1.0,>=0.23.2 in /usr/local/lib/python3.10/dist-packages (from transformers) (0.24.7)\n",
            "Requirement already satisfied: packaging>=20.0 in /usr/local/lib/python3.10/dist-packages (from transformers) (24.1)\n",
            "Requirement already satisfied: pyyaml>=5.1 in /usr/local/lib/python3.10/dist-packages (from transformers) (6.0.2)\n",
            "Requirement already satisfied: regex!=2019.12.17 in /usr/local/lib/python3.10/dist-packages (from transformers) (2024.9.11)\n",
            "Requirement already satisfied: requests in /usr/local/lib/python3.10/dist-packages (from transformers) (2.32.3)\n",
            "Requirement already satisfied: safetensors>=0.4.1 in /usr/local/lib/python3.10/dist-packages (from transformers) (0.4.5)\n",
            "Requirement already satisfied: tokenizers<0.20,>=0.19 in /usr/local/lib/python3.10/dist-packages (from transformers) (0.19.1)\n",
            "Requirement already satisfied: tqdm>=4.27 in /usr/local/lib/python3.10/dist-packages (from transformers) (4.66.6)\n",
            "Requirement already satisfied: python-dateutil>=2.8.2 in /usr/local/lib/python3.10/dist-packages (from pandas) (2.8.2)\n",
            "Requirement already satisfied: pytz>=2020.1 in /usr/local/lib/python3.10/dist-packages (from pandas) (2024.2)\n",
            "Requirement already satisfied: tzdata>=2022.7 in /usr/local/lib/python3.10/dist-packages (from pandas) (2024.2)\n",
            "Requirement already satisfied: fsspec>=2023.5.0 in /usr/local/lib/python3.10/dist-packages (from huggingface-hub<1.0,>=0.23.2->transformers) (2024.10.0)\n",
            "Requirement already satisfied: typing-extensions>=3.7.4.3 in /usr/local/lib/python3.10/dist-packages (from huggingface-hub<1.0,>=0.23.2->transformers) (4.12.2)\n",
            "Requirement already satisfied: six>=1.5 in /usr/local/lib/python3.10/dist-packages (from python-dateutil>=2.8.2->pandas) (1.16.0)\n",
            "Requirement already satisfied: charset-normalizer<4,>=2 in /usr/local/lib/python3.10/dist-packages (from requests->transformers) (3.4.0)\n",
            "Requirement already satisfied: idna<4,>=2.5 in /usr/local/lib/python3.10/dist-packages (from requests->transformers) (3.10)\n",
            "Requirement already satisfied: urllib3<3,>=1.21.1 in /usr/local/lib/python3.10/dist-packages (from requests->transformers) (2.2.3)\n",
            "Requirement already satisfied: certifi>=2017.4.17 in /usr/local/lib/python3.10/dist-packages (from requests->transformers) (2024.8.30)\n"
          ]
        }
      ]
    },
    {
      "cell_type": "markdown",
      "source": [
        "# Missing word utility"
      ],
      "metadata": {
        "id": "JyocXz9mex_D"
      }
    },
    {
      "cell_type": "code",
      "source": [
        "def llm_quinellas(prompt_pair, top_k=10):\n",
        "    \"\"\"\n",
        "    Receives a prompt pair like the following:\n",
        "      - \"I visited the state called [MASK] last year and it is one of my favorite states in the U.S.A.\"\n",
        "      - \"I visited two states called [ANSWER] and [MASK] last year and they are my two favorite states in the U.S.A.\"\n",
        "\n",
        "    First, it will ask an LLM to fill in the missing token and extract the token probabilities.\n",
        "    We will take the top 10 and create a list called 'names' (lowercase) and one called 'p' where the latter holds\n",
        "    renormalized probabilities adding to unity.\n",
        "\n",
        "    Second, for each i, name in enumerate(names), we will substitute into the second prompt.\n",
        "    So if the name is 'arizona', we get something like:\n",
        "      - \"I visited two states called arizona and [MASK] last year and they are my two favorite states in the U.S.A.\"\n",
        "\n",
        "    Eliminate any responses that are not in the set NAMES / {name}.\n",
        "    Renormalize the token probabilities.\n",
        "\n",
        "    This gives a way of assigning 'exacta' probabilities ex[i, :] where diagonals are zero.\n",
        "    When we have done this for all names, we also add ex to its own transpose to get qu[:, :].\n",
        "\n",
        "    Return this quinella probability table.\n",
        "    \"\"\"\n",
        "    from transformers import pipeline\n",
        "    import numpy as np\n",
        "\n",
        "    # Initialize the fill-mask pipeline with a model that supports mask filling\n",
        "    fill_mask = pipeline('fill-mask', model='roberta-base')\n",
        "\n",
        "    # Unpack the prompt pair\n",
        "    prompt_single, prompt_double = prompt_pair\n",
        "\n",
        "    # Adjust the mask tokens for the model\n",
        "    mask_token = fill_mask.tokenizer.mask_token  # This will be '<mask>' for roberta-base\n",
        "\n",
        "    # Step 1: Get top 10 names and their probabilities from the first prompt\n",
        "    prompt_single = prompt_single.replace('[MASK]', mask_token)\n",
        "\n",
        "    # Get predictions\n",
        "    results = fill_mask(prompt_single, top_k=top_k)\n",
        "\n",
        "    # Extract tokens and their probabilities\n",
        "    names = []\n",
        "    probs = []\n",
        "    for res in results:\n",
        "        token_str = res['token_str'].strip().lower()\n",
        "        names.append(token_str)\n",
        "        probs.append(res['score'])\n",
        "\n",
        "    # Normalize probabilities to sum to 1\n",
        "    total_prob = sum(probs)\n",
        "    p = [prob / total_prob for prob in probs]\n",
        "    print({'prob':total_prob})\n",
        "\n",
        "    # Initialize the exacta probability matrix\n",
        "    n = len(names)\n",
        "    ex = np.zeros((n, n))\n",
        "\n",
        "    # Step 2: For each name, get probabilities for the second [MASK]\n",
        "    for i, name in enumerate(names):\n",
        "        # Substitute the name into the second prompt\n",
        "        prompt = prompt_double.replace('[ANSWER]', name)\n",
        "        prompt = prompt.replace('[MASK]', mask_token)\n",
        "\n",
        "        # Get predictions\n",
        "        results = fill_mask(prompt, top_k=2*top_k)  # Increase top_k to ensure coverage\n",
        "\n",
        "        # Extract tokens and their probabilities\n",
        "        other_names = []\n",
        "        probs_others = []\n",
        "        for res in results:\n",
        "            token_str = res['token_str'].strip().lower()\n",
        "            other_names.append(token_str)\n",
        "            probs_others.append(res['score'])\n",
        "\n",
        "        # Filter out the current name and names not in the list\n",
        "        allowed_names = set(names) - {name}\n",
        "        filtered_probs = {}\n",
        "        for other_name, prob in zip(other_names, probs_others):\n",
        "            if other_name in allowed_names:\n",
        "                filtered_probs[other_name] = prob\n",
        "\n",
        "        # Renormalize probabilities\n",
        "        total_prob = sum(filtered_probs.values())\n",
        "        if total_prob > 0.4:\n",
        "            filtered_probs = {k: v / total_prob for k, v in filtered_probs.items()}\n",
        "        else:\n",
        "            # If no allowed names are found, skip this iteration\n",
        "            continue\n",
        "\n",
        "        # Map other_name to index j\n",
        "        name_to_index = {n: idx for idx, n in enumerate(names)}\n",
        "        # Fill the exacta matrix\n",
        "        for other_name, prob in filtered_probs.items():\n",
        "            j = name_to_index[other_name]\n",
        "            ex[i, j] = p[i]*prob\n",
        "\n",
        "    # Zero out the diagonal\n",
        "    np.fill_diagonal(ex, 0)\n",
        "\n",
        "    # Compute the quinella probability table\n",
        "    qu = ex + ex.T\n",
        "\n",
        "\n",
        "    return p, qu, names\n",
        "\n",
        "\n",
        "def quinella_comparison(prompt_pair, top_k=10):\n",
        "    # Get LLM, normal model and harville implied quinellas\n",
        "    # Compute several measures of discrepancy between LLM and estimated probabilities\n",
        "    p, qu_llm, names = llm_quinellas(prompt_pair=prompt_pair,top_k=top_k)\n",
        "    qu_normal = compute_skew_normal_quinellas(p)\n",
        "    qu_harville = compute_harville_quinellas(p)\n",
        "    srt = sorted(list(zip(p,names)), reverse=True)\n",
        "    print({'probs':srt})\n",
        "\n",
        "    # Compute RMSE between qu_llm and qu_normal\n",
        "    rmse_normal = np.sqrt(np.mean((qu_llm - qu_normal) ** 2))\n",
        "\n",
        "    # Compute RMSE between qu_llm and qu_harville\n",
        "    rmse_harville = np.sqrt(np.mean((qu_llm - qu_harville) ** 2))\n",
        "\n",
        "    # Compute RMSE between qu_llm and qu_harville\n",
        "    rmse_diff = np.sqrt(np.mean((qu_harville - qu_normal) ** 2))\n",
        "\n",
        "\n",
        "    # Print the RMSE values\n",
        "    print(f\"RMSE between LLM quinellas and Skew Normal quinellas: {rmse_normal:.6f}\")\n",
        "    print(f\"RMSE between LLM quinellas and Harville quinellas: {rmse_harville:.6f}\")\n",
        "    print(f\"RMSE between Skew and Harville quinellas: {rmse_diff:.6f}\")\n",
        "    if rmse_normal < rmse_harville:\n",
        "        better_model = \"Skew Normal\"\n",
        "    else:\n",
        "        better_model = \"Harville\"\n",
        "\n",
        "    print(f\"The {better_model} model better predicts the actual quinella probabilities.\")\n",
        "    return rmse_harville, rmse_normal\n",
        "\n",
        "\n",
        "\n",
        "\n",
        "# Example usage\n",
        "prompt_pair = (\n",
        "    \"I visited the state called [MASK] last year and it is one of my favorite states in the U.S.A.\",\n",
        "    \"I visited two states called [ANSWER] and [MASK] last year and they are my two favorite states in the U.S.A.\"\n",
        ")\n",
        "quinella_comparison(prompt_pair=prompt_pair)\n"
      ],
      "metadata": {
        "colab": {
          "base_uri": "https://localhost:8080/"
        },
        "id": "yT3wZqK3Ur7Z",
        "outputId": "98b1a5e0-b56a-4b17-ce10-804d338c33fe"
      },
      "execution_count": 18,
      "outputs": [
        {
          "output_type": "stream",
          "name": "stdout",
          "text": [
            "{'prob': 0.43570252507925034}\n",
            "{'probs': [(0.19252209207465457, 'arizona'), (0.11820234007751466, 'texas'), (0.10717900748068498, 'oregon'), (0.10114625244209448, 'indiana'), (0.10052167784050628, 'florida'), (0.0904307397306346, 'california'), (0.08755574201564277, 'georgia'), (0.06912437443572696, 'wisconsin'), (0.06699298122438921, 'arkansas'), (0.0663247926781515, 'utah')]}\n",
            "RMSE between LLM quinellas and Skew Normal quinellas: 0.020204\n",
            "RMSE between LLM quinellas and Harville quinellas: 0.020440\n",
            "RMSE between Skew and Harville quinellas: 0.000664\n",
            "The Skew Normal model better predicts the actual quinella probabilities.\n"
          ]
        },
        {
          "output_type": "execute_result",
          "data": {
            "text/plain": [
              "(0.02043978672031971, 0.02020359508723999)"
            ]
          },
          "metadata": {},
          "execution_count": 18
        }
      ]
    },
    {
      "cell_type": "code",
      "source": [
        "prompt_pair_template = (\n",
        "    \"I visited the country called [MASK] last year and it is one of my favorite countries in REGION\",\n",
        "    \"I visited two countries called [ANSWER] and [MASK] last year and they are my two favorite countries in REGION\"\n",
        ")\n",
        "for region in ['Asia','Europe','the Americas','Africa','the Southern Hemisphere','the World']:\n",
        "     prompt_pair = [ pp.replace('REGION',region) for pp in prompt_pair_template]\n",
        "     quinella_comparison(prompt_pair=prompt_pair)"
      ],
      "metadata": {
        "colab": {
          "base_uri": "https://localhost:8080/"
        },
        "id": "p8CpuilSkj7d",
        "outputId": "c8671a57-cbac-4c4b-a9e5-8d275ad1400b"
      },
      "execution_count": 15,
      "outputs": [
        {
          "output_type": "stream",
          "name": "stdout",
          "text": [
            "{'probs': [(0.1737887911458916, 'vietnam'), (0.16538282901836396, 'myanmar'), (0.1207179720561625, 'cambodia'), (0.11862311323457679, 'burma'), (0.09436936278318456, 'bangladesh'), (0.0715250775055774, 'thailand'), (0.06873332038425296, 'pakistan'), (0.06643431411960922, 'singapore'), (0.06336770805747138, 'india'), (0.05705751169490962, 'nepal')]}\n",
            "RMSE between LLM quinellas and Skew Normal quinellas: 0.022876\n",
            "RMSE between LLM quinellas and Harville quinellas: 0.023320\n",
            "RMSE between Skew and Harville quinellas: 0.000913\n",
            "The Skew Normal model better predicts the actual quinella probabilities.\n",
            "{'probs': [(0.19640808758081216, 'poland'), (0.17165197096800303, 'slovenia'), (0.14913808179303678, 'luxembourg'), (0.08243369708777519, 'romania'), (0.0789737171802471, 'slovakia'), (0.07434079512972087, 'hungary'), (0.06540018934582313, 'estonia'), (0.06462851383624654, 'latvia'), (0.05890455746495978, 'croatia'), (0.058120389613375394, 'malta')]}\n",
            "RMSE between LLM quinellas and Skew Normal quinellas: 0.024815\n",
            "RMSE between LLM quinellas and Harville quinellas: 0.025413\n",
            "RMSE between Skew and Harville quinellas: 0.001167\n",
            "The Skew Normal model better predicts the actual quinella probabilities.\n",
            "{'probs': [(0.21934316703307277, 'venezuela'), (0.17004963202405024, 'haiti'), (0.1287299247149961, 'honduras'), (0.11896130483034097, 'guatemala'), (0.07659813015154965, 'panama'), (0.06848528113893895, 'colombia'), (0.06160528677310383, 'peru'), (0.05490302954950535, 'mexico'), (0.050730439407789533, 'bolivia'), (0.0505938043766526, 'ecuador')]}\n",
            "RMSE between LLM quinellas and Skew Normal quinellas: 0.025300\n",
            "RMSE between LLM quinellas and Harville quinellas: 0.026056\n",
            "RMSE between Skew and Harville quinellas: 0.001299\n",
            "The Skew Normal model better predicts the actual quinella probabilities.\n",
            "{'probs': [(0.20119359829226816, 'rwanda'), (0.14633976734321624, 'ghana'), (0.1365551726751937, 'mali'), (0.09811435333949366, 'uganda'), (0.08074793182013092, 'kenya'), (0.07817540713647002, 'zimbabwe'), (0.06745802888167288, 'congo'), (0.06492388502234323, 'liberia'), (0.06351035327054853, 'tanzania'), (0.06298150221866267, 'ethiopia')]}\n",
            "RMSE between LLM quinellas and Skew Normal quinellas: 0.023630\n",
            "RMSE between LLM quinellas and Harville quinellas: 0.024044\n",
            "RMSE between Skew and Harville quinellas: 0.000962\n",
            "The Skew Normal model better predicts the actual quinella probabilities.\n",
            "{'probs': [(0.2839123324014297, 'venezuela'), (0.16134313800519712, 'peru'), (0.09207901434262371, 'panama'), (0.0872729803689255, 'chile'), (0.07557732201947517, 'ecuador'), (0.07315446074462219, 'bolivia'), (0.060397484143623385, 'brazil'), (0.05670410972968496, 'guatemala'), (0.0560122775706006, 'honduras'), (0.053546880673817666, 'angola')]}\n",
            "RMSE between LLM quinellas and Skew Normal quinellas: 0.027040\n",
            "RMSE between LLM quinellas and Harville quinellas: 0.027833\n",
            "RMSE between Skew and Harville quinellas: 0.001387\n",
            "The Skew Normal model better predicts the actual quinella probabilities.\n",
            "{'probs': [(0.21442330045541327, 'ghana'), (0.16024406317806913, 'congo'), (0.12979162851390408, 'rwanda'), (0.09058738497694731, 'cambodia'), (0.08655292149035118, 'uganda'), (0.07550691493156271, 'zimbabwe'), (0.06518569799107987, 'ethiopia'), (0.0613654968453215, 'mali'), (0.06015115193731728, 'angola'), (0.056191439680033664, 'kenya')]}\n",
            "RMSE between LLM quinellas and Skew Normal quinellas: 0.024759\n",
            "RMSE between LLM quinellas and Harville quinellas: 0.025320\n",
            "RMSE between Skew and Harville quinellas: 0.001104\n",
            "The Skew Normal model better predicts the actual quinella probabilities.\n"
          ]
        }
      ]
    },
    {
      "cell_type": "code",
      "source": [
        "prompt_pair_template = (\n",
        "    \"I learned the sport called [MASK] last year and it is one of my favorite forms of SOMETHING now\",\n",
        "    \"I visited two sports called [ANSWER] and [MASK] last year and they are my two favorite forms of SOMETHING now\"\n",
        ")\n",
        "for something in ['exercise','sport','competition']:\n",
        "     prompt_pair = [ pp.replace('SOMETHING',something) for pp in prompt_pair_template]\n",
        "     quinella_comparison(prompt_pair=prompt_pair)"
      ],
      "metadata": {
        "colab": {
          "base_uri": "https://localhost:8080/"
        },
        "id": "xkFKwy4gmDmk",
        "outputId": "f48d0757-9d1a-4b18-f754-e05c3e4ce741"
      },
      "execution_count": 19,
      "outputs": [
        {
          "output_type": "stream",
          "name": "stdout",
          "text": [
            "{'prob': 0.7291152961552143}\n",
            "{'probs': [(0.31490120061426197, 'yoga'), (0.18065156489540535, 'boxing'), (0.14635860359510716, 'cycling'), (0.14360732162218126, 'running'), (0.05646777836854684, 'swimming'), (0.05439274170284868, 'walking'), (0.03278993195584005, 'stretching'), (0.029526465246235936, 'spinning'), (0.02180299072252546, 'squats'), (0.019501401277047276, 'spin')]}\n",
            "RMSE between LLM quinellas and Skew Normal quinellas: 0.032999\n",
            "RMSE between LLM quinellas and Harville quinellas: 0.033499\n",
            "RMSE between Skew and Harville quinellas: 0.002477\n",
            "The Skew Normal model better predicts the actual quinella probabilities.\n",
            "{'prob': 0.6585923079401255}\n",
            "{'probs': [(0.4018063366440432, 'wrestling'), (0.24638855515006994, 'boxing'), (0.0618012006497455, 'cycling'), (0.051275469647236144, 'fencing'), (0.04742978934331837, 'football'), (0.04520924773221789, 'swimming'), (0.044353682343280666, 'skiing'), (0.03578242798223683, 'soccer'), (0.033566108906344067, 'tennis'), (0.03238718160150737, 'running')]}\n",
            "RMSE between LLM quinellas and Skew Normal quinellas: 0.047545\n",
            "RMSE between LLM quinellas and Harville quinellas: 0.043474\n",
            "RMSE between Skew and Harville quinellas: 0.004488\n",
            "The Harville model better predicts the actual quinella probabilities.\n",
            "{'prob': 0.6514785103499889}\n",
            "{'probs': [(0.38363416325913346, 'wrestling'), (0.27981003720775716, 'boxing'), (0.10667450457765791, 'fencing'), (0.048312015859612846, 'chess'), (0.04482800830931252, 'squash'), (0.032260854448758904, 'cycling'), (0.03170023837669515, 'skiing'), (0.025654304495351155, 'skeleton'), (0.025194529039469945, 'tennis'), (0.021931344426250946, 'swimming')]}\n",
            "RMSE between LLM quinellas and Skew Normal quinellas: 0.057520\n",
            "RMSE between LLM quinellas and Harville quinellas: 0.052874\n",
            "RMSE between Skew and Harville quinellas: 0.005026\n",
            "The Harville model better predicts the actual quinella probabilities.\n"
          ]
        }
      ]
    },
    {
      "cell_type": "code",
      "source": [
        "prompt_pair_template = (\n",
        "    \"I was offered a choice of hearts, diamonds, spades, clubs. I chose [MASK] because SOMETHING.\",\n",
        "    \"I was offered two choices from hearts, diamonds, spades, clubs. I chose [ANSWER] and [MASK] because SOMETHING\")\n",
        "\n",
        "something_list = ['I do not remember why', 'hoped for good luck']\n",
        "for something in something_list:\n",
        "    prompt_pair = [pp.replace('SOMETHING', something) for pp in prompt_pair_template]\n",
        "    quinella_comparison(prompt_pair=prompt_pair, top_k=4)\n"
      ],
      "metadata": {
        "colab": {
          "base_uri": "https://localhost:8080/"
        },
        "id": "aMxHpVzTpBxk",
        "outputId": "85283450-a11c-4661-9f07-638178344c42"
      },
      "execution_count": 65,
      "outputs": [
        {
          "output_type": "stream",
          "name": "stdout",
          "text": [
            "{'prob': 0.9210821837186813}\n",
            "{'probs': [(0.553769116253453, 'hearts'), (0.25541818787988807, 'diamonds'), (0.15441832828774774, 'clubs'), (0.03639436757891115, 'heart')]}\n",
            "RMSE between LLM quinellas and Skew Normal quinellas: 0.136686\n",
            "RMSE between LLM quinellas and Harville quinellas: 0.129029\n",
            "RMSE between Skew and Harville quinellas: 0.011703\n",
            "The Harville model better predicts the actual quinella probabilities.\n",
            "{'prob': 0.9376174062490463}\n",
            "{'probs': [(0.7971310838729567, 'hearts'), (0.1188191465368976, 'diamonds'), (0.04446832949371209, 'heart'), (0.03958144009643364, 'clubs')]}\n",
            "RMSE between LLM quinellas and Skew Normal quinellas: 0.146891\n",
            "RMSE between LLM quinellas and Harville quinellas: 0.122783\n",
            "RMSE between Skew and Harville quinellas: 0.025056\n",
            "The Harville model better predicts the actual quinella probabilities.\n"
          ]
        }
      ]
    },
    {
      "cell_type": "code",
      "source": [
        "prompt_pair_template = (\n",
        "    \"My favourite color in the rainbow is [MASK] because it SOMETHING.\",\n",
        "    \"My favourite two colors in the rainbow are [ANSWER] and [MASK] because they SOMETHING.\"\n",
        ")\n",
        "\n",
        "something_list = ['is vibrant', 'makes me happy', 'stands out']\n",
        "for something in something_list:\n",
        "    prompt_pair = [pp.replace('SOMETHING', something) for pp in prompt_pair_template]\n",
        "    quinella_comparison(prompt_pair=prompt_pair, top_k=8)"
      ],
      "metadata": {
        "id": "TjtrPFQ32vqS",
        "outputId": "70655467-bf89-4474-993b-9fb19ad1272f",
        "colab": {
          "base_uri": "https://localhost:8080/"
        }
      },
      "execution_count": 66,
      "outputs": [
        {
          "output_type": "stream",
          "name": "stdout",
          "text": [
            "{'prob': 0.9026298671960831}\n",
            "{'probs': [(0.25003826282246155, 'orange'), (0.16230844135395997, 'yellow'), (0.16105576830104895, 'blue'), (0.13220900093793647, 'green'), (0.10527440069012578, 'purple'), (0.09369320059203164, 'red'), (0.07774213111085669, 'pink'), (0.01767879419157891, 'violet')]}\n",
            "RMSE between LLM quinellas and Skew Normal quinellas: 0.016413\n",
            "RMSE between LLM quinellas and Harville quinellas: 0.016230\n",
            "RMSE between Skew and Harville quinellas: 0.001458\n",
            "The Harville model better predicts the actual quinella probabilities.\n",
            "{'prob': 0.9205932281911373}\n",
            "{'probs': [(0.2253067289860063, 'green'), (0.1918231882477209, 'blue'), (0.16908910312887312, 'purple'), (0.12433202101605244, 'pink'), (0.11932492047391594, 'yellow'), (0.0952419757532805, 'orange'), (0.049928714147919384, 'red'), (0.024953348246231424, 'black')]}\n",
            "RMSE between LLM quinellas and Skew Normal quinellas: 0.013450\n",
            "RMSE between LLM quinellas and Harville quinellas: 0.013529\n",
            "RMSE between Skew and Harville quinellas: 0.001682\n",
            "The Skew Normal model better predicts the actual quinella probabilities.\n",
            "{'prob': 0.8280041702091694}\n",
            "{'probs': [(0.2389767269374659, 'orange'), (0.19004179399233107, 'blue'), (0.1525223887807023, 'yellow'), (0.11761427294057643, 'purple'), (0.0970407050297739, 'green'), (0.08386264695290763, 'red'), (0.06785228022408515, 'black'), (0.0520891851421576, 'pink')]}\n",
            "RMSE between LLM quinellas and Skew Normal quinellas: 0.014350\n",
            "RMSE between LLM quinellas and Harville quinellas: 0.014613\n",
            "RMSE between Skew and Harville quinellas: 0.001626\n",
            "The Skew Normal model better predicts the actual quinella probabilities.\n"
          ]
        }
      ]
    },
    {
      "cell_type": "code",
      "source": [
        "prompt_pair_template = (\n",
        "    \"The best continent to visit is [MASK], and I SOMETHING.\",\n",
        "    \"The two best continents to visit is [ANSWER] and [MASK], because I SOMETHING.\"\n",
        ")\n",
        "\n",
        "something_list = ['love the culture', 'enjoy the scenery', 'find it fascinating']\n",
        "for something in something_list:\n",
        "    prompt_pair = [pp.replace('SOMETHING', something) for pp in prompt_pair_template]\n",
        "    quinella_comparison(prompt_pair=prompt_pair, top_k=5)\n"
      ],
      "metadata": {
        "id": "FTs8zmuh3ACc",
        "outputId": "5609b6de-c9c9-4131-ce48-e96e7a83ebfa",
        "colab": {
          "base_uri": "https://localhost:8080/"
        }
      },
      "execution_count": 72,
      "outputs": [
        {
          "output_type": "stream",
          "name": "stdout",
          "text": [
            "{'prob': 0.6127169504761696}\n",
            "{'probs': [(0.6949973915177383, 'africa'), (0.16043386155924994, 'india'), (0.054173105286291795, 'china'), (0.046720538982488485, 'morocco'), (0.043675102654231475, 'ethiopia')]}\n",
            "RMSE between LLM quinellas and Skew Normal quinellas: 0.141360\n",
            "RMSE between LLM quinellas and Harville quinellas: 0.147879\n",
            "RMSE between Skew and Harville quinellas: 0.015877\n",
            "The Skew Normal model better predicts the actual quinella probabilities.\n",
            "{'prob': 0.6130431368947029}\n",
            "{'probs': [(0.7164325649521859, 'africa'), (0.09304626325774289, 'antarctica'), (0.06667865441093103, 'europe'), (0.06294732468659296, 'morocco'), (0.06089519269254722, 'india')]}\n",
            "RMSE between LLM quinellas and Skew Normal quinellas: 0.127769\n",
            "RMSE between LLM quinellas and Harville quinellas: 0.126264\n",
            "RMSE between Skew and Harville quinellas: 0.005456\n",
            "The Harville model better predicts the actual quinella probabilities.\n",
            "{'prob': 0.726015742868185}\n",
            "{'probs': [(0.7075188022895179, 'africa'), (0.1379553249579027, 'antarctica'), (0.0862991273358045, 'india'), (0.038693977049948806, 'china'), (0.029532768366826122, 'asia')]}\n",
            "RMSE between LLM quinellas and Skew Normal quinellas: 0.139928\n",
            "RMSE between LLM quinellas and Harville quinellas: 0.144670\n",
            "RMSE between Skew and Harville quinellas: 0.013192\n",
            "The Skew Normal model better predicts the actual quinella probabilities.\n"
          ]
        }
      ]
    },
    {
      "cell_type": "code",
      "source": [
        "prompt_pair_template = (\n",
        "    \"My favourite animal in the zodiac is the [MASK] because it SOMETHING.\",\n",
        "    \"My favourite two animals in the zodiac are the [ANSWER] and the [MASK] because they SOMETHING.\"\n",
        ")\n",
        "\n",
        "something_list = ['represents strength', 'symbolizes wisdom', 'brings good fortune']\n",
        "for something in something_list:\n",
        "    prompt_pair = [pp.replace('SOMETHING', something) for pp in prompt_pair_template]\n",
        "    quinella_comparison(prompt_pair=prompt_pair, top_k=20)"
      ],
      "metadata": {
        "id": "Peqzm7qw4Cku",
        "outputId": "5e5eade1-22b5-4c74-e895-60ec3f191bf0",
        "colab": {
          "base_uri": "https://localhost:8080/"
        }
      },
      "execution_count": 75,
      "outputs": [
        {
          "output_type": "stream",
          "name": "stdout",
          "text": [
            "{'prob': 0.8777751573361456}\n",
            "{'probs': [(0.571967976851822, 'lion'), (0.14386123624081754, 'tiger'), (0.06407799489860677, 'elephant'), (0.04373666789665804, 'wolf'), (0.028869767056990056, 'horse'), (0.02238964744186679, 'eagle'), (0.018748635446625687, 'unicorn'), (0.013610346886008132, 'fox'), (0.012717807341780454, 'dragon'), (0.009497413235368173, 'unicorn'), (0.009142959529095253, 'donkey'), (0.009141154762024574, 'ram'), (0.008064879107765304, 'sun'), (0.007261621422354254, 'cat'), (0.00724283635416708, 'bull'), (0.006736737121305392, 'monkey'), (0.006661344860209085, 'lion'), (0.005968816690257966, 'camel'), (0.005442745126215518, 'snake'), (0.004859411730061931, 'rabbit')]}\n",
            "RMSE between LLM quinellas and Skew Normal quinellas: 0.012909\n",
            "RMSE between LLM quinellas and Harville quinellas: 0.011952\n",
            "RMSE between Skew and Harville quinellas: 0.002988\n",
            "The Harville model better predicts the actual quinella probabilities.\n",
            "{'prob': 0.8333255369216204}\n",
            "{'probs': [(0.4232781433341249, 'lion'), (0.1156745467523363, 'elephant'), (0.08103419955554889, 'tiger'), (0.06448200769764979, 'horse'), (0.056799011845284506, 'wolf'), (0.03634734333574047, 'fox'), (0.031169359679258983, 'unicorn'), (0.025129574203538355, 'serpent'), (0.022814236192676328, 'donkey'), (0.01806616213679161, 'dragon'), (0.017593062979051343, 'snake'), (0.01659047851461076, 'eagle'), (0.014630130835289433, 'ram'), (0.014513039022856214, 'camel'), (0.014050657625576708, 'cat'), (0.011811491710619189, 'rabbit'), (0.011090653587383849, 'sun'), (0.009573277988770385, 'monkey'), (0.008315099524486608, 'dolphin'), (0.007037523478405415, 'ox')]}\n",
            "RMSE between LLM quinellas and Skew Normal quinellas: 0.010256\n",
            "RMSE between LLM quinellas and Harville quinellas: 0.009596\n",
            "RMSE between Skew and Harville quinellas: 0.001333\n",
            "The Harville model better predicts the actual quinella probabilities.\n",
            "{'prob': 0.8266975516453385}\n",
            "{'probs': [(0.3864172561878854, 'lion'), (0.10241439620461236, 'horse'), (0.07142535068029114, 'wolf'), (0.0686969493581976, 'tiger'), (0.053375668654440725, 'elephant'), (0.04515648319869667, 'donkey'), (0.04302899681930713, 'unicorn'), (0.03162376621347195, 'fox'), (0.02307421542991535, 'eagle'), (0.021885638370460415, 'dragon'), (0.021726924401438745, 'sun'), (0.018657132130349176, 'cat'), (0.017542623993094326, 'rabbit'), (0.01726534770158219, 'moon'), (0.01523880991348828, 'camel'), (0.014687088370214093, 'serpent'), (0.013765674492905382, 'sun'), (0.012109137715683053, 'snake'), (0.011601879155638666, 'unicorn'), (0.010306661008327339, 'moon')]}\n",
            "RMSE between LLM quinellas and Skew Normal quinellas: 0.008870\n",
            "RMSE between LLM quinellas and Harville quinellas: 0.008609\n",
            "RMSE between Skew and Harville quinellas: 0.001031\n",
            "The Harville model better predicts the actual quinella probabilities.\n"
          ]
        }
      ]
    },
    {
      "cell_type": "code",
      "source": [
        "prompt_pair_template = (\n",
        "    \"My favourite season is [MASK] because I SOMETHING.\",\n",
        "    \"My favourite two seasons are [ANSWER] and [MASK] because I SOMETHING.\"\n",
        ")\n",
        "\n",
        "something_list = ['enjoy the weather', 'love the activities', 'feel most alive']\n",
        "for something in something_list:\n",
        "    prompt_pair = [pp.replace('SOMETHING', something) for pp in prompt_pair_template]\n",
        "    quinella_comparison(prompt_pair=prompt_pair, top_k=4)"
      ],
      "metadata": {
        "id": "uMKfOxLm4lRM",
        "outputId": "78e2df4d-7b14-4c02-c040-3fa267a4e84b",
        "colab": {
          "base_uri": "https://localhost:8080/"
        }
      },
      "execution_count": 76,
      "outputs": [
        {
          "output_type": "stream",
          "name": "stdout",
          "text": [
            "{'prob': 0.5817121863365173}\n",
            "{'probs': [(0.2795416440434362, 'fall'), (0.2502103332841164, 'spring'), (0.23776893125075632, 'spring'), (0.2324790914216911, 'summer')]}\n",
            "RMSE between LLM quinellas and Skew Normal quinellas: 0.144806\n",
            "RMSE between LLM quinellas and Harville quinellas: 0.144823\n",
            "RMSE between Skew and Harville quinellas: 0.000339\n",
            "The Skew Normal model better predicts the actual quinella probabilities.\n",
            "{'prob': 0.5516736805438995}\n",
            "{'probs': [(0.5569230716040222, 'summer'), (0.18905682629181836, 'winter'), (0.13329403168272524, 'spring'), (0.12072607042143424, 'summer')]}\n",
            "RMSE between LLM quinellas and Skew Normal quinellas: 0.171216\n",
            "RMSE between LLM quinellas and Harville quinellas: 0.170714\n",
            "RMSE between Skew and Harville quinellas: 0.005367\n",
            "The Harville model better predicts the actual quinella probabilities.\n",
            "{'prob': 0.30970796197652817}\n",
            "{'probs': [(0.2882184089370604, 'winter'), (0.27731283880535984, 'spring'), (0.21975967792187023, 'summer'), (0.21470907433570952, 'spring')]}\n",
            "RMSE between LLM quinellas and Skew Normal quinellas: 0.145930\n",
            "RMSE between LLM quinellas and Harville quinellas: 0.146040\n",
            "RMSE between Skew and Harville quinellas: 0.000829\n",
            "The Skew Normal model better predicts the actual quinella probabilities.\n"
          ]
        }
      ]
    },
    {
      "cell_type": "code",
      "source": [
        "prompt_pair_template = (\n",
        "    \"Of the five, I rely most on my sense of [MASK], SOMETHING.\",\n",
        "    \"Of the five, I rely most on my sense of [ANSWER] and my sense of [MASK], SOMETHING.\"\n",
        ")\n",
        "\n",
        "something_list = ['to get by', 'quite heavily']\n",
        "for something in something_list:\n",
        "    prompt_pair = [pp.replace('SOMETHING', something) for pp in prompt_pair_template]\n",
        "    quinella_comparison(prompt_pair=prompt_pair, top_k=10)"
      ],
      "metadata": {
        "id": "ire60i_gNCZA",
        "outputId": "4835d08d-4333-472a-f8b5-2fc64918abed",
        "colab": {
          "base_uri": "https://localhost:8080/"
        }
      },
      "execution_count": 81,
      "outputs": [
        {
          "output_type": "stream",
          "name": "stdout",
          "text": [
            "{'prob': 0.812021978199482}\n",
            "{'probs': [(0.5639103001901727, 'humor'), (0.17042629884671895, 'self'), (0.11818759072407636, 'humour'), (0.03366775548939011, 'smell'), (0.02861544892042679, 'direction'), (0.026344069693340293, 'purpose'), (0.018493396895219734, 'community'), (0.017234784057602072, 'identity'), (0.012596591708544847, 'taste'), (0.010523763474508074, 'routine')]}\n",
            "RMSE between LLM quinellas and Skew Normal quinellas: 0.051315\n",
            "RMSE between LLM quinellas and Harville quinellas: 0.055535\n",
            "RMSE between Skew and Harville quinellas: 0.005921\n",
            "The Skew Normal model better predicts the actual quinella probabilities.\n",
            "{'prob': 0.7740780469030142}\n",
            "{'probs': [(0.44746994036553545, 'smell'), (0.19806599589695834, 'humour'), (0.13678020544333863, 'humor'), (0.07168639716040993, 'self'), (0.05729597849956138, 'taste'), (0.0385350678592711, 'direction'), (0.015797606249985278, 'intuition'), (0.014851945938388029, 'place'), (0.010166449617796442, 'balance'), (0.0093504129687554, 'proportion')]}\n",
            "RMSE between LLM quinellas and Skew Normal quinellas: 0.074333\n",
            "RMSE between LLM quinellas and Harville quinellas: 0.076460\n",
            "RMSE between Skew and Harville quinellas: 0.003957\n",
            "The Skew Normal model better predicts the actual quinella probabilities.\n"
          ]
        }
      ]
    },
    {
      "cell_type": "code",
      "source": [
        "prompt_pair_template = (\n",
        "    \"My favourite gemstone is [MASK] because it is SOMETHING.\",\n",
        "    \"My favourite two gemstones are [ANSWER] and [MASK] because they are SOMETHING.\"\n",
        ")\n",
        "\n",
        "something_list = ['beautiful', 'sparkly', 'elegant']\n",
        "for something in something_list:\n",
        "    prompt_pair = [pp.replace('SOMETHING', something) for pp in prompt_pair_template]\n",
        "    quinella_comparison(prompt_pair=prompt_pair, top_k=40)"
      ],
      "metadata": {
        "id": "1iLiiYJMPFTH",
        "outputId": "b7cf4018-c37b-4955-96c0-1a0b4a0aaf4b",
        "colab": {
          "base_uri": "https://localhost:8080/"
        }
      },
      "execution_count": 84,
      "outputs": [
        {
          "output_type": "stream",
          "name": "stdout",
          "text": [
            "{'prob': 0.5764846715610474}\n",
            "{'probs': [(0.10664366764862812, 'quartz'), (0.10171585314773819, 'gold'), (0.08333058173237859, 'white'), (0.07890499365829402, 'blue'), (0.07349355059799727, 'silver'), (0.057756213558786296, 'black'), (0.04481966494556573, 'pink'), (0.04300427269807892, 'yellow'), (0.03698245060231963, 'orange'), (0.02800162250399403, 'red'), (0.026825803355708354, 'green'), (0.024605004416567412, 'this'), (0.023080648115210198, 'purple'), (0.015236926456998735, 'copper'), (0.015215058776916526, 'brown'), (0.014679531634276762, 'diamond'), (0.013945395681504996, 'titanium'), (0.013203574699614504, 'violet'), (0.012749578817653593, 'platinum'), (0.012342581646460389, 'coral'), (0.011481172596880359, 'quartz'), (0.011459381654002928, 'ivory'), (0.01106482156430447, 'glass'), (0.009851801026901395, 'ruby'), (0.009408941732754219, 'limestone'), (0.009282002240846736, 'simply'), (0.009009355760022682, 'just'), (0.008992256287517498, 'chocolate'), (0.008818583030138815, 'silver'), (0.008766945353402132, 'bronze'), (0.008628524360139429, 'titanium'), (0.008395096245278417, 'amber'), (0.008231402055561362, 'sapphire'), (0.007702090626508796, 'pearl'), (0.00766999993522976, 'marble'), (0.0072761942934183, 'simple'), (0.007081019271260199, 'rare'), (0.0069001795667150935, 'pink'), (0.006744413945771936, 'diamond'), (0.006698843758653218, 'amber')]}\n",
            "RMSE between LLM quinellas and Skew Normal quinellas: 0.002271\n",
            "RMSE between LLM quinellas and Harville quinellas: 0.002394\n",
            "RMSE between Skew and Harville quinellas: 0.000252\n",
            "The Skew Normal model better predicts the actual quinella probabilities.\n",
            "{'prob': 0.6544232084415853}\n",
            "{'probs': [(0.14512540021871173, 'blue'), (0.09129998392536465, 'pink'), (0.0912599430288601, 'silver'), (0.059218556179877146, 'gold'), (0.0516275103469894, 'titanium'), (0.045059909601058636, 'sapphire'), (0.037084823526170485, 'orange'), (0.03535180809947229, 'quartz'), (0.03178452797031842, 'yellow'), (0.03168175595645817, 'red'), (0.029879596834935913, 'white'), (0.022943261499617288, 'this'), (0.022856930787907907, 'green'), (0.02257179594348248, 'silver'), (0.020775955473526904, 'diamond'), (0.020112660717793312, 'crystal'), (0.020075942805840165, 'pink'), (0.02006520536753597, 'purple'), (0.01671236376436653, 'black'), (0.01581424429262763, 'quartz'), (0.014336769935731181, 'diamond'), (0.014107863974650612, 'ruby'), (0.013516502228396642, 'shiny'), (0.012753977603791414, 'blue'), (0.010040379321490088, 'platinum'), (0.009576951768905047, 'pearl'), (0.009016529356972128, 'pearl'), (0.008977763575738698, 'glitter'), (0.008318918203816644, 'ruby'), (0.008047431077527359, 'glass'), (0.007133702117115226, 'jewel'), (0.006723033881992261, 'copper'), (0.006697181489118308, 'tiffany'), (0.006505991758476028, 'emerald'), (0.00606690097626077, 'gold'), (0.005638677492024359, 'pretty'), (0.005463458366684826, 'crystal'), (0.005403562459595719, 'coral'), (0.005249173181850474, 'coral'), (0.005123054888947105, 'sparkling')]}\n",
            "RMSE between LLM quinellas and Skew Normal quinellas: 0.003098\n",
            "RMSE between LLM quinellas and Harville quinellas: 0.003252\n",
            "RMSE between Skew and Harville quinellas: 0.000265\n",
            "The Skew Normal model better predicts the actual quinella probabilities.\n",
            "{'prob': 0.5208999612368643}\n",
            "{'probs': [(0.10131241320090614, 'silver'), (0.09229351976022825, 'gold'), (0.08246732745977935, 'white'), (0.06577854059898362, 'blue'), (0.0512719773225636, 'black'), (0.04918984455072765, 'pink'), (0.03682838783413391, 'this'), (0.03318987886430834, 'ivory'), (0.03182180183739266, 'quartz'), (0.027085097373487868, 'yellow'), (0.026648730967098046, 'simple'), (0.025048186225058867, 'red'), (0.023664245067178503, 'pearl'), (0.02261892345397596, 'diamond'), (0.01776966822839438, 'purple'), (0.01717448529711654, 'quartz'), (0.01652733316773765, 'sapphire'), (0.01648758433875005, 'orange'), (0.016466778422821265, 'glass'), (0.016298870372411386, 'green'), (0.016158480054411912, 'brown'), (0.014637548290583167, 'coral'), (0.013468148361957095, 'crystal'), (0.013181955720500006, 'titanium'), (0.012759354438002572, 'platinum'), (0.012440603944086675, 'beautiful'), (0.011868281238044325, 'violet'), (0.011495280172071451, 'pink'), (0.011449798407668741, 'silver'), (0.01140896699879845, 'tiffany'), (0.011063741124365803, 'rose'), (0.010750019129079252, 'crystal'), (0.010558837846079791, 'pearl'), (0.01049446769989229, 'ivory'), (0.010469756987161198, 'diamond'), (0.009686460827514282, 'rose'), (0.009673075634629448, 'copper'), (0.009606938138790351, 'marble'), (0.009513649432218722, 'ruby'), (0.009371041211090465, 'bronze')]}\n",
            "RMSE between LLM quinellas and Skew Normal quinellas: 0.002510\n",
            "RMSE between LLM quinellas and Harville quinellas: 0.002504\n",
            "RMSE between Skew and Harville quinellas: 0.000202\n",
            "The Harville model better predicts the actual quinella probabilities.\n"
          ]
        }
      ]
    },
    {
      "cell_type": "code",
      "source": [
        "prompt_pair_template = (\n",
        "    \"I learned the programming language called [MASK] last year and it is now my favorite SOMETHING.\",\n",
        "    \"I learned the programming languages called [ANSWER] and [MASK] last year and they are now my two favorite SOMETHING.\"\n",
        ")\n",
        "\n",
        "something_list = ['language', 'coding language', 'programming language']\n",
        "for something in something_list:\n",
        "    prompt_pair = [pp.replace('SOMETHING', something) for pp in prompt_pair_template]\n",
        "    quinella_comparison(prompt_pair=prompt_pair, top_k=10)\n"
      ],
      "metadata": {
        "colab": {
          "base_uri": "https://localhost:8080/"
        },
        "id": "7ZDwK1qZxHVL",
        "outputId": "f591be14-c970-4ac7-bddc-eb4770acb2c1"
      },
      "execution_count": 78,
      "outputs": [
        {
          "output_type": "stream",
          "name": "stdout",
          "text": [
            "{'prob': 0.7597371097654104}\n",
            "{'probs': [(0.22781528880910304, 'rust'), (0.16638576634977545, 'scala'), (0.14707542649321614, 'python'), (0.12362194435969405, 'ruby'), (0.09638619012559198, 'haskell'), (0.07649844621867487, 'java'), (0.07150112292010444, 'swift'), (0.03548430717208023, 'scheme'), (0.032691856226460106, 'perl'), (0.02253965132529972, 'lua')]}\n",
            "RMSE between LLM quinellas and Skew Normal quinellas: 0.027727\n",
            "RMSE between LLM quinellas and Harville quinellas: 0.028633\n",
            "RMSE between Skew and Harville quinellas: 0.001462\n",
            "The Skew Normal model better predicts the actual quinella probabilities.\n",
            "{'prob': 0.7033234219998121}\n",
            "{'probs': [(0.1766142999025829, 'python'), (0.17565917850783427, 'rust'), (0.1420977559416898, 'scala'), (0.13396954172618797, 'ruby'), (0.10482129441888978, 'java'), (0.10416637915539136, 'swift'), (0.05898481084255477, 'haskell'), (0.039083519379115375, 'scheme'), (0.038904091156539304, 'perl'), (0.025699128969214485, 'lua')]}\n",
            "RMSE between LLM quinellas and Skew Normal quinellas: 0.026249\n",
            "RMSE between LLM quinellas and Harville quinellas: 0.026965\n",
            "RMSE between Skew and Harville quinellas: 0.001238\n",
            "The Skew Normal model better predicts the actual quinella probabilities.\n",
            "{'prob': 0.7624347433447838}\n",
            "{'probs': [(0.23934132051164825, 'rust'), (0.1848946772493315, 'scala'), (0.1483826913270819, 'python'), (0.12048893594736339, 'ruby'), (0.08395694655778096, 'haskell'), (0.06947489549702993, 'java'), (0.05630870515621081, 'swift'), (0.037920830517383576, 'perl'), (0.0364826110210271, 'scheme'), (0.022748386215142576, 'c')]}\n",
            "RMSE between LLM quinellas and Skew Normal quinellas: 0.028704\n",
            "RMSE between LLM quinellas and Harville quinellas: 0.029803\n",
            "RMSE between Skew and Harville quinellas: 0.001709\n",
            "The Skew Normal model better predicts the actual quinella probabilities.\n"
          ]
        }
      ]
    },
    {
      "cell_type": "code",
      "source": [
        "prompt_pair_template = (\n",
        "    \"I learned to play the musical instrument called [MASK] last year and it is now my favorite SOMETHING.\",\n",
        "    \"I learned to play the musical instruments called [ANSWER] and [MASK] last year and they are now my two favorite SOMETHING.\"\n",
        ")\n",
        "something_list = ['instrument', 'musical instrument', '']\n",
        "for something in something_list:\n",
        "    prompt_pair = [pp.replace('SOMETHING', something) for pp in prompt_pair_template]\n",
        "    quinella_comparison(prompt_pair=prompt_pair)"
      ],
      "metadata": {
        "colab": {
          "base_uri": "https://localhost:8080/"
        },
        "id": "4bRZJYkjxYGW",
        "outputId": "3349f453-c108-49c0-da22-49168298b924"
      },
      "execution_count": 24,
      "outputs": [
        {
          "output_type": "stream",
          "name": "stdout",
          "text": [
            "{'prob': 0.7032256666570902}\n",
            "{'probs': [(0.31470805169038346, 'guitar'), (0.1966230538343205, 'trumpet'), (0.1582646120628809, 'violin'), (0.10118884841253371, 'piano'), (0.07132150710728007, 'whistle'), (0.06482666450849278, 'drums'), (0.03784971346387822, 'recorder'), (0.01993355139418417, 'keyboard'), (0.019763493225332465, 'bass'), (0.015520504300713719, 'string')]}\n",
            "RMSE between LLM quinellas and Skew Normal quinellas: 0.029906\n",
            "RMSE between LLM quinellas and Harville quinellas: 0.030765\n",
            "RMSE between Skew and Harville quinellas: 0.002491\n",
            "The Skew Normal model better predicts the actual quinella probabilities.\n",
            "{'prob': 0.7062003659084439}\n",
            "{'probs': [(0.3283645778729405, 'guitar'), (0.17740532185480656, 'violin'), (0.1615663684447692, 'trumpet'), (0.11894970252613626, 'piano'), (0.07700960214836779, 'drums'), (0.054873392161986154, 'whistle'), (0.028044555846790574, 'recorder'), (0.021989932281581966, 'keyboard'), (0.017940865079981754, 'bass'), (0.013855681782639212, 'string')]}\n",
            "RMSE between LLM quinellas and Skew Normal quinellas: 0.030602\n",
            "RMSE between LLM quinellas and Harville quinellas: 0.031192\n",
            "RMSE between Skew and Harville quinellas: 0.002460\n",
            "The Skew Normal model better predicts the actual quinella probabilities.\n",
            "{'prob': 0.7162441853433847}\n",
            "{'probs': [(0.3265380738720739, 'guitar'), (0.14970260798625662, 'trumpet'), (0.1484675127434374, 'violin'), (0.11080207493150566, 'whistle'), (0.10200656322682028, 'piano'), (0.05215627677281574, 'recorder'), (0.049404735516687746, 'drums'), (0.027520124799200348, 'keyboard'), (0.018144853096229888, 'bass'), (0.015257177054972435, 'string')]}\n",
            "RMSE between LLM quinellas and Skew Normal quinellas: 0.028638\n",
            "RMSE between LLM quinellas and Harville quinellas: 0.029403\n",
            "RMSE between Skew and Harville quinellas: 0.002012\n",
            "The Skew Normal model better predicts the actual quinella probabilities.\n"
          ]
        }
      ]
    },
    {
      "cell_type": "code",
      "source": [
        "prompt_pair_template = (\n",
        "    \"The most useful tool is a [MASK] because it is SOMETHING.\",\n",
        "    \"The two most useful tools are a [ANSWER] and a [MASK] because they are SOMETHING.\"\n",
        ")\n",
        "\n",
        "tool_adjectives = [\n",
        "    'versatile',\n",
        "    'essential',\n",
        "    'accurate',\n",
        "    'durable',\n",
        "    'reliable',\n",
        "    'efficient',\n",
        "    'portable',\n",
        "    'powerful',\n",
        "    'precise',\n",
        "    'sturdy',\n",
        "    'compact',\n",
        "    'user-friendly',\n",
        "    'lightweight',\n",
        "    'robust'\n",
        "]\n",
        "\n",
        "something_list = tool_adjectives\n",
        "for something in something_list:\n",
        "    prompt_pair = [pp.replace('SOMETHING', something) for pp in prompt_pair_template]\n",
        "    quinella_comparison(prompt_pair=prompt_pair, top_k=20)"
      ],
      "metadata": {
        "collapsed": true,
        "id": "ecyuO-y9_-Qg",
        "outputId": "80c7df22-0de0-4665-fdd6-fb26e6afe622",
        "colab": {
          "base_uri": "https://localhost:8080/"
        }
      },
      "execution_count": 88,
      "outputs": [
        {
          "output_type": "stream",
          "name": "stderr",
          "text": [
            "/usr/local/lib/python3.10/dist-packages/transformers/tokenization_utils_base.py:1601: FutureWarning: `clean_up_tokenization_spaces` was not set. It will be set to `True` by default. This behavior will be depracted in transformers v4.45, and will be then set to `False` by default. For more details check this issue: https://github.com/huggingface/transformers/issues/31884\n",
            "  warnings.warn(\n"
          ]
        },
        {
          "output_type": "stream",
          "name": "stdout",
          "text": [
            "{'prob': 0.7001342461444438}\n",
            "{'probs': [(0.31100467115370994, 'calculator'), (0.14575147010428005, 'dictionary'), (0.10376935837151614, 'debugger'), (0.10128389559948296, 'spreadsheet'), (0.07854008619314011, 'tool'), (0.038794864351091786, 'timer'), (0.028815078456414258, 'database'), (0.025747895442465477, 'compiler'), (0.023983364261115005, 'generator'), (0.022979758635436935, 'parser'), (0.022384137743812614, 'map'), (0.01508061666833757, 'library'), (0.015056100977033103, 'program'), (0.012743775120290585, 'checklist'), (0.012039723840115405, 'file'), (0.008884116066447753, 'logger'), (0.008840337001099572, 'compass'), (0.008350615781655697, 'list'), (0.008170690161504898, 'filter'), (0.007779444071050158, 'browser')]}\n",
            "RMSE between LLM quinellas and Skew Normal quinellas: 0.008942\n",
            "RMSE between LLM quinellas and Harville quinellas: 0.009661\n",
            "RMSE between Skew and Harville quinellas: 0.001269\n",
            "The Skew Normal model better predicts the actual quinella probabilities.\n",
            "{'prob': 0.5661281803622842}\n",
            "{'probs': [(0.4808752015760201, 'tool'), (0.0695620462614298, 'calculator'), (0.0480318087500499, 'library'), (0.04318974820345821, 'checklist'), (0.04088160124168846, 'guide'), (0.04019551009873313, 'dictionary'), (0.035553322715314875, 'spreadsheet'), (0.032850262653699135, 'compiler'), (0.027701103040827416, 'debugger'), (0.025411986291502237, 'timer'), (0.021911810708674633, 'program'), (0.02002114725777608, 'manual'), (0.019711350270644645, 'parser'), (0.01869075642388321, 'list'), (0.01620239657460782, 'database'), (0.013310961592374083, 'map'), (0.011850920855907823, 'document'), (0.011645445394283489, 'filter'), (0.011396494747719765, 'computer'), (0.011006125341405227, 'helper')]}\n",
            "RMSE between LLM quinellas and Skew Normal quinellas: 0.011859\n",
            "RMSE between LLM quinellas and Harville quinellas: 0.012394\n",
            "RMSE between Skew and Harville quinellas: 0.000808\n",
            "The Skew Normal model better predicts the actual quinella probabilities.\n",
            "{'prob': 0.5933613898232579}\n",
            "{'probs': [(0.32923324824916245, 'calculator'), (0.12899157864333102, 'spreadsheet'), (0.0767762099108898, 'map'), (0.07107196981597763, 'tool'), (0.06855108880239302, 'dictionary'), (0.04699541963678533, 'graph'), (0.033924020237283255, 'list'), (0.025395756977681747, 'model'), (0.02436655973334101, 'database'), (0.023761920341088528, 'timer'), (0.02247989823896395, 'chart'), (0.020737042369746057, 'simulation'), (0.02027816114844135, 'debugger'), (0.01893248197272469, 'parser'), (0.01614691328699106, 'checklist'), (0.015084620077619314, 'table'), (0.014879590213250977, 'predictor'), (0.014258192516026662, 'manual'), (0.014201088399562743, 'tree'), (0.013934239428739347, 'compiler')]}\n",
            "RMSE between LLM quinellas and Skew Normal quinellas: 0.012415\n",
            "RMSE between LLM quinellas and Harville quinellas: 0.011854\n",
            "RMSE between Skew and Harville quinellas: 0.001092\n",
            "The Harville model better predicts the actual quinella probabilities.\n",
            "{'prob': 0.5793951447121799}\n",
            "{'probs': [(0.34218349904245565, 'hammer'), (0.08121728776888451, 'tool'), (0.0678706451125494, 'knife'), (0.05819818277913082, 'shovel'), (0.05417114494015563, 'wrench'), (0.048698384661546745, 'compass'), (0.04718312588743467, 'pencil'), (0.0441101824951924, 'flashlight'), (0.03961605530599206, 'pen'), (0.03828457755976378, 'shield'), (0.03272153256467356, 'gun'), (0.0279704906410222, 'drill'), (0.020272975939940423, 'whistle'), (0.01545999106239495, 'calculator'), (0.014942154333163394, 'computer'), (0.014392249876866558, 'battery'), (0.013760882141989852, 'tripod'), (0.013693972307061564, 'sponge'), (0.013114518927123574, 'camera'), (0.012138146652658251, 'stick')]}\n",
            "RMSE between LLM quinellas and Skew Normal quinellas: 0.013465\n",
            "RMSE between LLM quinellas and Harville quinellas: 0.013306\n",
            "RMSE between Skew and Harville quinellas: 0.000722\n",
            "The Harville model better predicts the actual quinella probabilities.\n",
            "{'prob': 0.6097708335146308}\n",
            "{'probs': [(0.1549536587811187, 'timer'), (0.1535505659729983, 'calculator'), (0.11840746052128667, 'tool'), (0.11018060218052898, 'debugger'), (0.047089717001809125, 'parser'), (0.04419933262093167, 'compiler'), (0.044150714585161926, 'database'), (0.040498710773619113, 'generator'), (0.039914506241012726, 'backup'), (0.03937176572056634, 'library'), (0.033113116123807296, 'spreadsheet'), (0.027956036484402404, 'simulator'), (0.024529928146798278, 'program'), (0.021020012041578006, 'checklist'), (0.01953308855585979, 'script'), (0.019276452468515167, 'test'), (0.018316224879413198, 'logger'), (0.0176844790801756, 'tracker'), (0.014778851924826478, 'patch'), (0.011474775895590246, 'manual')]}\n",
            "RMSE between LLM quinellas and Skew Normal quinellas: 0.010499\n",
            "RMSE between LLM quinellas and Harville quinellas: 0.010921\n",
            "RMSE between Skew and Harville quinellas: 0.000733\n",
            "The Skew Normal model better predicts the actual quinella probabilities.\n",
            "{'prob': 0.6846953607164323}\n",
            "{'probs': [(0.20863220804971058, 'calculator'), (0.12330284089974611, 'debugger'), (0.11998726110206073, 'tool'), (0.09763737007709568, 'spreadsheet'), (0.08102392634436911, 'parser'), (0.07599888537329426, 'compiler'), (0.055578693651905015, 'timer'), (0.03597177906445995, 'database'), (0.03476185403195333, 'program'), (0.027325619308153748, 'library'), (0.026450923707038724, 'generator'), (0.024453519092263565, 'dictionary'), (0.015553431774161715, 'filter'), (0.01365079500818681, 'gui'), (0.011971939693188858, 'map'), (0.010259105223998706, 'computer'), (0.00997460852920936, 'simulator'), (0.009757160849158147, 'script'), (0.009558371031404458, 'checklist'), (0.008149707188641137, 'list')]}\n",
            "RMSE between LLM quinellas and Skew Normal quinellas: 0.014990\n",
            "RMSE between LLM quinellas and Harville quinellas: 0.015066\n",
            "RMSE between Skew and Harville quinellas: 0.000802\n",
            "The Skew Normal model better predicts the actual quinella probabilities.\n",
            "{'prob': 0.5902906125411391}\n",
            "{'probs': [(0.34541006762208354, 'calculator'), (0.10555258852714867, 'dictionary'), (0.07736324151820843, 'spreadsheet'), (0.07111135019767348, 'tool'), (0.04192945912432239, 'file'), (0.0416639482937892, 'map'), (0.035775930158461984, 'scanner'), (0.029327923134559338, 'debugger'), (0.02902671445600764, 'timer'), (0.028860957543039144, 'compass'), (0.025729196348970015, 'smartphone'), (0.024402136027579163, 'computer'), (0.024217225403174936, 'database'), (0.022320829686903444, 'generator'), (0.019773198315402994, 'notebook'), (0.017971450963960935, 'flashlight'), (0.01740648747471361, 'pen'), (0.014918903146337736, 'pencil'), (0.013663446782096723, 'wallet'), (0.0135749452755666, 'hammer')]}\n",
            "RMSE between LLM quinellas and Skew Normal quinellas: 0.011558\n",
            "RMSE between LLM quinellas and Harville quinellas: 0.011802\n",
            "RMSE between Skew and Harville quinellas: 0.000942\n",
            "The Skew Normal model better predicts the actual quinella probabilities.\n",
            "{'prob': 0.6979343048296869}\n",
            "{'probs': [(0.1883184253307364, 'calculator'), (0.18047991162053748, 'debugger'), (0.14365283684436753, 'tool'), (0.07187064573011152, 'parser'), (0.07070809630024191, 'compiler'), (0.049732903202302954, 'library'), (0.043647284878740866, 'spreadsheet'), (0.03872747725528057, 'dictionary'), (0.0349132989540696, 'database'), (0.03473286957879368, 'generator'), (0.02714516142719529, 'program'), (0.02006191199945731, 'timer'), (0.013962209098439945, 'file'), (0.013704619457245144, 'gui'), (0.013049729973530128, 'script'), (0.012608800633664806, 'repl'), (0.012024658296091308, 'macro'), (0.010834486147546856, 'map'), (0.010318126589576088, 'simulator'), (0.009506546682070635, 'browser')]}\n",
            "RMSE between LLM quinellas and Skew Normal quinellas: 0.013387\n",
            "RMSE between LLM quinellas and Harville quinellas: 0.013804\n",
            "RMSE between Skew and Harville quinellas: 0.000990\n",
            "The Skew Normal model better predicts the actual quinella probabilities.\n",
            "{'prob': 0.5438009346835315}\n",
            "{'probs': [(0.25106621373149285, 'calculator'), (0.21256971361576063, 'spreadsheet'), (0.0797956426945981, 'map'), (0.06589977202630941, 'dictionary'), (0.04903302855420601, 'tool'), (0.04375418550147235, 'list'), (0.03742408350054645, 'checklist'), (0.027484898648819478, 'database'), (0.02667191777788768, 'timer'), (0.025318053155709747, 'compiler'), (0.02490576294371207, 'table'), (0.024839061660209025, 'parser'), (0.019992066902447463, 'debugger'), (0.019099880933319425, 'pointer'), (0.018667684977152602, 'manual'), (0.018666081967900056, 'graph'), (0.016943357381198038, 'program'), (0.013059740357114753, 'vector'), (0.012630368505923832, 'function'), (0.012178485164220014, 'model')]}\n",
            "RMSE between LLM quinellas and Skew Normal quinellas: 0.007814\n",
            "RMSE between LLM quinellas and Harville quinellas: 0.007599\n",
            "RMSE between Skew and Harville quinellas: 0.001328\n",
            "The Harville model better predicts the actual quinella probabilities.\n",
            "{'prob': 0.7396959993056953}\n",
            "{'probs': [(0.525865245734451, 'hammer'), (0.10584085926655012, 'shovel'), (0.05698376277397832, 'knife'), (0.05400694409929116, 'wrench'), (0.03893626792007172, 'tool'), (0.025886437938762035, 'flashlight'), (0.025762483358019464, 'compass'), (0.022627355357133755, 'pencil'), (0.021625832562203955, 'drill'), (0.01915610206779766, 'pen'), (0.017061268394186972, 'shield'), (0.011251651284806574, 'stick'), (0.011015446356765648, 'whistle'), (0.010822631197760278, 'tripod'), (0.010235194134777961, 'ruler'), (0.009839167118438305, 'torch'), (0.008675370213411948, 'saw'), (0.008497680786816439, 'gun'), (0.008054646718450131, 'sword'), (0.007855652716326487, 'spoon')]}\n",
            "RMSE between LLM quinellas and Skew Normal quinellas: 0.015073\n",
            "RMSE between LLM quinellas and Harville quinellas: 0.015037\n",
            "RMSE between Skew and Harville quinellas: 0.001657\n",
            "The Harville model better predicts the actual quinella probabilities.\n",
            "{'prob': 0.6113237221725285}\n",
            "{'probs': [(0.26713898219930987, 'spreadsheet'), (0.25464969527825676, 'calculator'), (0.13805614364858496, 'dictionary'), (0.05479817353630278, 'file'), (0.04432497473390423, 'debugger'), (0.035796935154623795, 'tool'), (0.031167248709389615, 'database'), (0.020900767159350377, 'map'), (0.016882784927791293, 'scanner'), (0.016650613833200278, 'notebook'), (0.014638279501190342, 'checklist'), (0.013939321076360204, 'table'), (0.013513893954569037, 'timer'), (0.013458242239419167, 'library'), (0.013089623133128232, 'computer'), (0.011209460482009955, 'compiler'), (0.010781451870174402, 'generator'), (0.009891454803071588, 'mouse'), (0.009698397586405985, 'disk'), (0.009413556172957143, 'book')]}\n",
            "RMSE between LLM quinellas and Skew Normal quinellas: 0.014118\n",
            "RMSE between LLM quinellas and Harville quinellas: 0.015804\n",
            "RMSE between Skew and Harville quinellas: 0.001919\n",
            "The Skew Normal model better predicts the actual quinella probabilities.\n",
            "{'prob': 0.6772421868517995}\n",
            "{'probs': [(0.3280550100561239, 'calculator'), (0.17410926624726034, 'debugger'), (0.07376638995544756, 'spreadsheet'), (0.07148995141679973, 'tool'), (0.04714200922729986, 'library'), (0.03760227643633838, 'gui'), (0.03405626797011765, 'dictionary'), (0.03161218530853944, 'browser'), (0.031556457953176124, 'repl'), (0.028158398437061933, 'simulator'), (0.018670942702021298, 'wiki'), (0.017634323681166252, 'database'), (0.01699655322511611, 'parser'), (0.014460847167382749, 'checklist'), (0.014259875819666316, 'generator'), (0.013903969662469994, 'guide'), (0.01242149191880257, 'compiler'), (0.011626954927940785, 'timer'), (0.01149557470355468, 'terminal'), (0.010981253183714304, 'script')]}\n",
            "RMSE between LLM quinellas and Skew Normal quinellas: 0.010989\n",
            "RMSE between LLM quinellas and Harville quinellas: 0.012220\n",
            "RMSE between Skew and Harville quinellas: 0.001445\n",
            "The Skew Normal model better predicts the actual quinella probabilities.\n",
            "{'prob': 0.6634972542524338}\n",
            "{'probs': [(0.3300305096642684, 'calculator'), (0.14788084735158108, 'debugger'), (0.08256847314030437, 'spreadsheet'), (0.05647858231629774, 'dictionary'), (0.052146054577283975, 'tool'), (0.04326915918272306, 'compiler'), (0.04292891833718882, 'parser'), (0.04286047602119248, 'library'), (0.02988239521470192, 'timer'), (0.02646466724671015, 'database'), (0.023806174550207095, 'generator'), (0.01765332824932506, 'logger'), (0.015396566401162885, 'simulator'), (0.014869136663572856, 'file'), (0.014808893108194533, 'wrapper'), (0.012734825642329733, 'map'), (0.01197942796911694, 'repl'), (0.01172654722698349, 'checklist'), (0.011285443097575027, 'script'), (0.011229574039280432, 'browser')]}\n",
            "RMSE between LLM quinellas and Skew Normal quinellas: 0.012306\n",
            "RMSE between LLM quinellas and Harville quinellas: 0.013039\n",
            "RMSE between Skew and Harville quinellas: 0.001213\n",
            "The Skew Normal model better predicts the actual quinella probabilities.\n",
            "{'prob': 0.6050738617777824}\n",
            "{'probs': [(0.20404785821401783, 'debugger'), (0.1325536725099219, 'parser'), (0.09671539198956446, 'library'), (0.08147165334269389, 'compiler'), (0.06782263685135083, 'calculator'), (0.0653402525221785, 'database'), (0.05510240348677115, 'tool'), (0.04023496558171914, 'simulator'), (0.03352977828707533, 'firewall'), (0.028050843795924374, 'dictionary'), (0.026087803128810146, 'sandbox'), (0.023687771527428476, 'repl'), (0.022374917836592362, 'generator'), (0.020953503659740202, 'timer'), (0.019981069154385616, 'spreadsheet'), (0.017579098175816894, 'framework'), (0.01727435583463597, 'gui'), (0.01685680946545113, 'logger'), (0.016807737065865646, 'wrapper'), (0.013527477570056184, 'snapshot')]}\n",
            "RMSE between LLM quinellas and Skew Normal quinellas: 0.013884\n",
            "RMSE between LLM quinellas and Harville quinellas: 0.013439\n",
            "RMSE between Skew and Harville quinellas: 0.000733\n",
            "The Harville model better predicts the actual quinella probabilities.\n"
          ]
        }
      ]
    },
    {
      "cell_type": "code",
      "source": [
        "prompt_pair_template = (\n",
        "    \"The greatest invention is the [MASK] because it is SOMETHING.\",\n",
        "    \"The greatest two inventions are the [ANSWER] and a [MASK] because they are SOMETHING.\"\n",
        ")\n",
        "\n",
        "something_list = tool_adjectives\n",
        "for something in something_list:\n",
        "    prompt_pair = [pp.replace('SOMETHING', something) for pp in prompt_pair_template]\n",
        "    quinella_comparison(prompt_pair=prompt_pair, top_k=20)\n"
      ],
      "metadata": {
        "collapsed": true,
        "id": "fNPnhwDdA_Hr",
        "outputId": "903ea407-14dd-47e1-e581-1fe09b6cfccc",
        "colab": {
          "base_uri": "https://localhost:8080/"
        }
      },
      "execution_count": 89,
      "outputs": [
        {
          "output_type": "stream",
          "name": "stdout",
          "text": [
            "{'prob': 0.6513024647720158}\n",
            "{'probs': [(0.16882963180495825, 'automobile'), (0.16036472667548635, 'computer'), (0.12676292981799633, 'transistor'), (0.12372896604289127, 'telephone'), (0.06415718375376649, 'bicycle'), (0.05454871091876917, 'smartphone'), (0.04162006922571859, 'iphone'), (0.037588731813948055, 'internet'), (0.026504922624971602, 'refrigerator'), (0.025264004695380905, 'internet'), (0.024372180551064944, 'machine'), (0.022840195747077435, 'phone'), (0.022591805392028864, 'airplane'), (0.01934531126362476, 'printer'), (0.01599601884485561, 'camera'), (0.015619571762927754, 'wheel'), (0.014187482473822741, 'calculator'), (0.012338082745664232, 'car'), (0.011810707782937996, 'invention'), (0.011528766062108644, 'radio')]}\n",
            "RMSE between LLM quinellas and Skew Normal quinellas: 0.012170\n",
            "RMSE between LLM quinellas and Harville quinellas: 0.012408\n",
            "RMSE between Skew and Harville quinellas: 0.000878\n",
            "The Skew Normal model better predicts the actual quinella probabilities.\n",
            "{'prob': 0.4700137791223824}\n",
            "{'probs': [(0.2723663139384174, 'automobile'), (0.1250972875376281, 'telephone'), (0.07776302043547655, 'simplest'), (0.07026724275733524, 'computer'), (0.05554134829392477, 'machine'), (0.05497033747777728, 'first'), (0.048508194514154675, 'bicycle'), (0.03611643114911023, 'invention'), (0.03023667071134478, 'car'), (0.029950138896993002, 'internet'), (0.02851138281342429, 'same'), (0.022162015744230178, 'unknown'), (0.020758244659203666, 'wheel'), (0.020152686751439535, 'law'), (0.01974082042684819, 'world'), (0.01887721446968721, 'atom'), (0.018134987990080575, 'smallest'), (0.017329282839580313, 'present'), (0.01691876193943449, 'best'), (0.01659761665390949, 'device')]}\n",
            "RMSE between LLM quinellas and Skew Normal quinellas: 0.013075\n",
            "RMSE between LLM quinellas and Harville quinellas: 0.013133\n",
            "RMSE between Skew and Harville quinellas: 0.000852\n",
            "The Skew Normal model better predicts the actual quinella probabilities.\n",
            "{'prob': 0.46178316976875067}\n",
            "{'probs': [(0.24723394021751588, 'truth'), (0.14111463808218824, 'computer'), (0.09333835593587501, 'telephone'), (0.0740906493009644, 'internet'), (0.052126047838855265, 'internet'), (0.04958907140695699, 'bible'), (0.043615502365104045, 'camera'), (0.03394479080309761, 'best'), (0.03202349386950303, 'calculator'), (0.031473273527754204, 'law'), (0.029703813118188014, 'simplest'), (0.027462839858129435, 'same'), (0.020359641040354433, 'dictionary'), (0.020107061509017025, 'automobile'), (0.01967986775657107, 'iphone'), (0.018508500381828944, 'first'), (0.01752003827766381, 'world'), (0.0163519764320092, 'machine'), (0.015950335488311745, 'mind'), (0.01580616279011163, 'language')]}\n",
            "RMSE between LLM quinellas and Skew Normal quinellas: 0.010363\n",
            "RMSE between LLM quinellas and Harville quinellas: 0.010985\n",
            "RMSE between Skew and Harville quinellas: 0.000892\n",
            "The Skew Normal model better predicts the actual quinella probabilities.\n",
            "{'prob': 0.6647697235457599}\n",
            "{'probs': [(0.33214331585302415, 'automobile'), (0.16769923786191238, 'bicycle'), (0.08312559752999034, 'transistor'), (0.055669361073970476, 'telephone'), (0.05025194379169409, 'refrigerator'), (0.041425898758687935, 'computer'), (0.0401433945959554, 'battery'), (0.03316996734207466, 'smartphone'), (0.030083279742078528, 'car'), (0.026548298488730502, 'iphone'), (0.020488208541301903, 'steel'), (0.019068647463599382, 'metal'), (0.016108456265182213, 'airplane'), (0.015369520135434087, 'phone'), (0.013786348153531885, 'machine'), (0.012254771102269718, 'invention'), (0.01199401832515678, 'wheel'), (0.011552920755253146, 'iron'), (0.009696736105990613, 'internet'), (0.009420078114161798, 'internet')]}\n",
            "RMSE between LLM quinellas and Skew Normal quinellas: 0.013470\n",
            "RMSE between LLM quinellas and Harville quinellas: 0.012699\n",
            "RMSE between Skew and Harville quinellas: 0.001404\n",
            "The Harville model better predicts the actual quinella probabilities.\n",
            "{'prob': 0.5960440998896956}\n",
            "{'probs': [(0.3067103581512702, 'telephone'), (0.12144026586079724, 'automobile'), (0.11427140012218705, 'computer'), (0.067951173913921, 'battery'), (0.05448388961544644, 'internet'), (0.043683322071335844, 'internet'), (0.04130142518889516, 'radio'), (0.03996285741619304, 'transistor'), (0.023900901959646625, 'train'), (0.02210752458292105, 'phone'), (0.020414555414209685, 'railway'), (0.019251950834637585, 'bicycle'), (0.018091260325105125, 'car'), (0.017645164817907042, 'clock'), (0.01668047508043387, 'gps'), (0.015964309759413913, 'machine'), (0.014879677361979109, 'bomb'), (0.014158426083425244, 'vacuum'), (0.013799918421241156, 'engine'), (0.013301143019033674, 'atom')]}\n",
            "RMSE between LLM quinellas and Skew Normal quinellas: 0.016723\n",
            "RMSE between LLM quinellas and Harville quinellas: 0.016690\n",
            "RMSE between Skew and Harville quinellas: 0.001077\n",
            "The Harville model better predicts the actual quinella probabilities.\n",
            "{'prob': 0.7579753147438169}\n",
            "{'probs': [(0.3004210070225766, 'automobile'), (0.1703328376492143, 'computer'), (0.13123445592120922, 'telephone'), (0.07019210715347383, 'internet'), (0.05651438617029795, 'bicycle'), (0.04345838134106358, 'machine'), (0.03781599970099394, 'internet'), (0.030780274796215347, 'car'), (0.024534442823168186, 'transistor'), (0.016500574231285793, 'refrigerator'), (0.015841562185406912, 'wheel'), (0.015119252545502681, 'airplane'), (0.014910553315446353, 'phone'), (0.014286990428765106, 'iphone'), (0.011945893600963792, 'smartphone'), (0.010819772440824462, 'printer'), (0.010367781223855885, 'railway'), (0.009580961265232946, 'vacuum'), (0.008284659321250129, 'invention'), (0.007058106863252968, 'engine')]}\n",
            "RMSE between LLM quinellas and Skew Normal quinellas: 0.011185\n",
            "RMSE between LLM quinellas and Harville quinellas: 0.011723\n",
            "RMSE between Skew and Harville quinellas: 0.001429\n",
            "The Skew Normal model better predicts the actual quinella probabilities.\n",
            "{'prob': 0.7704926179721951}\n",
            "{'probs': [(0.20303232615124125, 'bicycle'), (0.14099628312428691, 'smartphone'), (0.12424665661873803, 'automobile'), (0.09765297343161204, 'telephone'), (0.06358705022969566, 'phone'), (0.05281494981394215, 'transistor'), (0.046618274956034655, 'iphone'), (0.04563805248326526, 'computer'), (0.030012369641557485, 'cellphone'), (0.02852910245151604, 'refrigerator'), (0.023133092254619493, 'car'), (0.022981763275818343, 'airplane'), (0.02146710761552618, 'battery'), (0.017517366392177547, 'suitcase'), (0.01712627122624601, 'radio'), (0.014020831261433008, 'laptop'), (0.01388536936708122, 'internet'), (0.012730756431225648, 'internet'), (0.012226795491662704, 'bus'), (0.01178260778232034, 'ipod')]}\n",
            "RMSE between LLM quinellas and Skew Normal quinellas: 0.010254\n",
            "RMSE between LLM quinellas and Harville quinellas: 0.010552\n",
            "RMSE between Skew and Harville quinellas: 0.000857\n",
            "The Skew Normal model better predicts the actual quinella probabilities.\n",
            "{'prob': 0.6420044638216496}\n",
            "{'probs': [(0.2114769465813507, 'automobile'), (0.16349013313532101, 'computer'), (0.13945630555282398, 'telephone'), (0.07756199502902343, 'internet'), (0.0598168315348575, 'machine'), (0.05396996523568178, 'bicycle'), (0.044857515919078925, 'internet'), (0.033461467922099336, 'transistor'), (0.02884319614200014, 'car'), (0.027537888448535944, 'iphone'), (0.021858846180821515, 'smartphone'), (0.021817776881625388, 'phone'), (0.017399675684980524, 'atom'), (0.016394425853228145, 'mind'), (0.015555730735823682, 'invention'), (0.015250784189915233, 'bomb'), (0.014765095590951719, 'vacuum'), (0.014378592156550974, 'wheel'), (0.011124646238419208, 'simplest'), (0.010982180986910854, 'device')]}\n",
            "RMSE between LLM quinellas and Skew Normal quinellas: 0.010546\n",
            "RMSE between LLM quinellas and Harville quinellas: 0.011030\n",
            "RMSE between Skew and Harville quinellas: 0.001017\n",
            "The Skew Normal model better predicts the actual quinella probabilities.\n",
            "{'prob': 0.36111246049404144}\n",
            "{'probs': [(0.18244354682935812, 'computer'), (0.14104088591464656, 'telephone'), (0.10738792318033534, 'automobile'), (0.09707169068121954, 'machine'), (0.05433598202547041, 'simplest'), (0.046409418611910856, 'camera'), (0.038081309376922286, 'calculator'), (0.037880428146633095, 'wheel'), (0.03484676824112985, 'precision'), (0.029893698367411497, 'internet'), (0.027279124317323617, 'microscope'), (0.026493469546952243, 'smallest'), (0.024872554799079155, 'truth'), (0.02446539699206651, 'fastest'), (0.02411586261974832, 'compass'), (0.0218638986620655, 'internet'), (0.021760388992304855, 'needle'), (0.020248434709932765, 'atom'), (0.01982097987785431, 'law'), (0.01968823810763516, 'clock')]}\n",
            "RMSE between LLM quinellas and Skew Normal quinellas: 0.010090\n",
            "RMSE between LLM quinellas and Harville quinellas: 0.010317\n",
            "RMSE between Skew and Harville quinellas: 0.000735\n",
            "The Skew Normal model better predicts the actual quinella probabilities.\n",
            "{'prob': 0.5683473292738199}\n",
            "{'probs': [(0.307676353792079, 'bicycle'), (0.1738910365459709, 'automobile'), (0.07657720698457426, 'telephone'), (0.06925032259045169, 'refrigerator'), (0.04350614499960474, 'computer'), (0.038463598245082775, 'transistor'), (0.030037467839560617, 'battery'), (0.02731611197198338, 'brick'), (0.026795257112587432, 'car'), (0.026394707049112506, 'steel'), (0.025506594586281232, 'wheel'), (0.023535722573656836, 'iphone'), (0.02167083846846766, 'chair'), (0.02111908849455743, 'iron'), (0.02086788830522383, 'airplane'), (0.01712763437097909, 'smartphone'), (0.01495538041827659, 'metal'), (0.012724439021065143, 'train'), (0.011309215331636506, 'wall'), (0.011274991298848345, 'machine')]}\n",
            "RMSE between LLM quinellas and Skew Normal quinellas: 0.007863\n",
            "RMSE between LLM quinellas and Harville quinellas: 0.008012\n",
            "RMSE between Skew and Harville quinellas: 0.001345\n",
            "The Skew Normal model better predicts the actual quinella probabilities.\n",
            "{'prob': 0.7264066184870899}\n",
            "{'probs': [(0.2746935316848576, 'automobile'), (0.23189870566925624, 'bicycle'), (0.07007988771613737, 'refrigerator'), (0.06925953641860379, 'telephone'), (0.05796720949378044, 'car'), (0.055385966851225044, 'computer'), (0.04933727672112515, 'transistor'), (0.03119263202089577, 'airplane'), (0.02730089045018334, 'wheel'), (0.020871718000478524, 'iphone'), (0.019561704986473142, 'smartphone'), (0.014384924337797813, 'atom'), (0.011188363091990597, 'phone'), (0.010918599965812285, 'cell'), (0.010787526226022384, 'bus'), (0.010639693576381908, 'chair'), (0.010060547371329925, 'suitcase'), (0.009274125446116709, 'piano'), (0.00760888098115247, 'internet'), (0.007588278990379499, 'zipper')]}\n",
            "RMSE between LLM quinellas and Skew Normal quinellas: 0.010327\n",
            "RMSE between LLM quinellas and Harville quinellas: 0.009645\n",
            "RMSE between Skew and Harville quinellas: 0.001572\n",
            "The Harville model better predicts the actual quinella probabilities.\n",
            "{'prob': 0.7035378096625209}\n",
            "{'probs': [(0.2426187237210961, 'iphone'), (0.19361540976631067, 'smartphone'), (0.07448759515942202, 'internet'), (0.06198177670835422, 'computer'), (0.05001733272241679, 'internet'), (0.049531450715249135, 'ipad'), (0.03953833923286424, 'phone'), (0.038139680423355984, 'browser'), (0.034017896034406095, 'mouse'), (0.026622514650237253, 'web'), (0.025280100200316787, 'cloud'), (0.02166321775259964, 'automobile'), (0.021245872637573247, 'camera'), (0.020838061317447795, 'calculator'), (0.020013848730638682, 'bicycle'), (0.01958101814869321, 'telephone'), (0.017632389632414504, 'car'), (0.014917691175763675, 'ipod'), (0.014736558339039038, 'printer'), (0.01352052293180089, 'keyboard')]}\n",
            "RMSE between LLM quinellas and Skew Normal quinellas: 0.009851\n",
            "RMSE between LLM quinellas and Harville quinellas: 0.009309\n",
            "RMSE between Skew and Harville quinellas: 0.001139\n",
            "The Harville model better predicts the actual quinella probabilities.\n",
            "{'prob': 0.6854199809022248}\n",
            "{'probs': [(0.21692081976762126, 'bicycle'), (0.1658805041129856, 'transistor'), (0.09764090388536553, 'airplane'), (0.09359698924608076, 'iphone'), (0.07985293298963024, 'automobile'), (0.05219691554778493, 'smartphone'), (0.04193747762836701, 'refrigerator'), (0.040726043538858725, 'computer'), (0.023101969224380667, 'laptop'), (0.0225147924861316, 'car'), (0.022002132969527907, 'ipad'), (0.020508985410763254, 'bus'), (0.019639625071630785, 'suitcase'), (0.018688573247874065, 'telephone'), (0.01782072521076726, 'zipper'), (0.01724107193731252, 'phone'), (0.01493132340631063, 'plane'), (0.013767822361329974, 'parachute'), (0.011711953061493113, 'battery'), (0.009318438895784157, 'train')]}\n",
            "RMSE between LLM quinellas and Skew Normal quinellas: 0.010061\n",
            "RMSE between LLM quinellas and Harville quinellas: 0.010679\n",
            "RMSE between Skew and Harville quinellas: 0.000957\n",
            "The Skew Normal model better predicts the actual quinella probabilities.\n",
            "{'prob': 0.4606229392811656}\n",
            "{'probs': [(0.18919632471829728, 'computer'), (0.12541528453313305, 'transistor'), (0.07069001773316881, 'iphone'), (0.06101705449572117, 'refrigerator'), (0.05540216670120874, 'internet'), (0.05433546119295166, 'bicycle'), (0.05233588625199272, 'battery'), (0.05045131967508085, 'automobile'), (0.04843876024493535, 'telephone'), (0.04205270863531108, 'smartphone'), (0.03658051677801931, 'web'), (0.0355104468677058, 'steel'), (0.029430125185579175, 'zipper'), (0.029107013188082013, 'internet'), (0.021493462318793007, 'wall'), (0.02147653719282279, 'cell'), (0.020380987598185216, 'engine'), (0.020249591927246666, 'machine'), (0.018584835647190403, 'phone'), (0.017851499114574905, 'metal')]}\n",
            "RMSE between LLM quinellas and Skew Normal quinellas: 0.009298\n",
            "RMSE between LLM quinellas and Harville quinellas: 0.009484\n",
            "RMSE between Skew and Harville quinellas: 0.000567\n",
            "The Skew Normal model better predicts the actual quinella probabilities.\n"
          ]
        }
      ]
    },
    {
      "cell_type": "code",
      "source": [
        "prompt_pair_template = (\n",
        "    \"The best kitchen appliance is the [MASK] because it is SOMETHING.\",\n",
        "    \"The best two kitchedn appliances are the [ANSWER] and the [MASK] because they are SOMETHING.\"\n",
        ")\n",
        "something_list = tool_adjectives\n",
        "for something in something_list:\n",
        "    prompt_pair = [pp.replace('SOMETHING', something) for pp in prompt_pair_template]\n",
        "    quinella_comparison(prompt_pair=prompt_pair, top_k=10)\n"
      ],
      "metadata": {
        "id": "eEvYI_ZwBaJB",
        "outputId": "ac356514-15ba-4a3a-f5e0-aa7358de67eb",
        "colab": {
          "base_uri": "https://localhost:8080/"
        }
      },
      "execution_count": 91,
      "outputs": [
        {
          "output_type": "stream",
          "name": "stdout",
          "text": [
            "{'prob': 0.8302618805319071}\n",
            "{'probs': [(0.500565925305918, 'microwave'), (0.12030848605644018, 'blender'), (0.10278995168999151, 'refrigerator'), (0.1022235451655641, 'grill'), (0.043240684457119774, 'oven'), (0.03710350626282782, 'stove'), (0.03355310077880157, 'fridge'), (0.020449175279305783, 'appliance'), (0.020266520885950063, 'kitchen'), (0.019499104118081124, 'cooker')]}\n",
            "RMSE between LLM quinellas and Skew Normal quinellas: 0.035508\n",
            "RMSE between LLM quinellas and Harville quinellas: 0.036692\n",
            "RMSE between Skew and Harville quinellas: 0.002887\n",
            "The Skew Normal model better predicts the actual quinella probabilities.\n",
            "{'prob': 0.5574994925409555}\n",
            "{'probs': [(0.21939340384665007, 'best'), (0.19159534920436966, 'microwave'), (0.12759655434188977, 'smallest'), (0.11416027865945197, 'blender'), (0.07085196541199455, 'same'), (0.07074589310342928, 'refrigerator'), (0.05962704410999311, 'oven'), (0.050098217284593606, 'kitchen'), (0.047972073568062004, 'grill'), (0.04795922046956602, 'fridge')]}\n",
            "RMSE between LLM quinellas and Skew Normal quinellas: 0.029084\n",
            "RMSE between LLM quinellas and Harville quinellas: 0.029938\n",
            "RMSE between Skew and Harville quinellas: 0.001462\n",
            "The Skew Normal model better predicts the actual quinella probabilities.\n",
            "{'prob': 0.6764044556766748}\n",
            "{'probs': [(0.5463381795539929, 'best'), (0.16153499146010086, 'microwave'), (0.06351468519836945, 'cheapest'), (0.046809302580104246, 'oven'), (0.038084596891589016, 'same'), (0.03542772347348967, 'one'), (0.03298188878392563, 'smallest'), (0.026446374291335173, 'refrigerator'), (0.025574153211748697, 'easiest'), (0.023288104555344358, 'blender')]}\n",
            "RMSE between LLM quinellas and Skew Normal quinellas: 0.075309\n",
            "RMSE between LLM quinellas and Harville quinellas: 0.076979\n",
            "RMSE between Skew and Harville quinellas: 0.004773\n",
            "The Skew Normal model better predicts the actual quinella probabilities.\n",
            "{'prob': 0.7256609695032239}\n",
            "{'probs': [(0.3849447398320957, 'microwave'), (0.1797028643462205, 'grill'), (0.16826390875870365, 'refrigerator'), (0.06494276152827373, 'oven'), (0.06448624646269455, 'blender'), (0.045822328801213015, 'fridge'), (0.033814408085660795, 'stove'), (0.02503050502166508, 'best'), (0.016536596779650598, 'kitchen'), (0.016455640383822412, 'appliance')]}\n",
            "RMSE between LLM quinellas and Skew Normal quinellas: 0.028929\n",
            "RMSE between LLM quinellas and Harville quinellas: 0.029283\n",
            "RMSE between Skew and Harville quinellas: 0.003247\n",
            "The Skew Normal model better predicts the actual quinella probabilities.\n",
            "{'prob': 0.845365853048861}\n",
            "{'probs': [(0.6543925768684459, 'microwave'), (0.11271656414618898, 'refrigerator'), (0.06978809505368713, 'oven'), (0.03761558689254429, 'fridge'), (0.035002981636076694, 'blender'), (0.02913473598477332, 'grill'), (0.02744665830314614, 'stove'), (0.013037677729351075, 'appliance'), (0.011255024132722516, 'cooker'), (0.009610099253063997, 'best')]}\n",
            "RMSE between LLM quinellas and Skew Normal quinellas: 0.025462\n",
            "RMSE between LLM quinellas and Harville quinellas: 0.021909\n",
            "RMSE between Skew and Harville quinellas: 0.005088\n",
            "The Harville model better predicts the actual quinella probabilities.\n",
            "{'prob': 0.7820772584527731}\n",
            "{'probs': [(0.49296776231469014, 'microwave'), (0.13897528831059297, 'refrigerator'), (0.11972036474867774, 'blender'), (0.05559130710883724, 'oven'), (0.052870646731368424, 'grill'), (0.037396381158446595, 'stove'), (0.03368016623042087, 'fridge'), (0.024024493640934844, 'best'), (0.02341949385827358, 'kitchen'), (0.021354095897757608, 'appliance')]}\n",
            "RMSE between LLM quinellas and Skew Normal quinellas: 0.033752\n",
            "RMSE between LLM quinellas and Harville quinellas: 0.033676\n",
            "RMSE between Skew and Harville quinellas: 0.003315\n",
            "The Harville model better predicts the actual quinella probabilities.\n",
            "{'prob': 0.8895749095827341}\n",
            "{'probs': [(0.6577517863330474, 'microwave'), (0.08392287264885219, 'refrigerator'), (0.05656604148053954, 'grill'), (0.046598347496944394, 'blender'), (0.0459255065862957, 'stove'), (0.043846877514706, 'fridge'), (0.029742843047411687, 'oven'), (0.019866399474241854, 'cooker'), (0.008103356806318384, 'kitchen'), (0.0076759686116427825, 'appliance')]}\n",
            "RMSE between LLM quinellas and Skew Normal quinellas: 0.034423\n",
            "RMSE between LLM quinellas and Harville quinellas: 0.033304\n",
            "RMSE between Skew and Harville quinellas: 0.002996\n",
            "The Harville model better predicts the actual quinella probabilities.\n",
            "{'prob': 0.7759757870808244}\n",
            "{'probs': [(0.46121577607844855, 'microwave'), (0.19667636679395992, 'blender'), (0.1183316721688765, 'refrigerator'), (0.057019473831765706, 'grill'), (0.04280571326666609, 'stove'), (0.04184922473923856, 'fridge'), (0.04049158770018001, 'oven'), (0.01591063163539357, 'cooker'), (0.013961713528918385, 'appliance'), (0.011737840256552714, 'kitchen')]}\n",
            "RMSE between LLM quinellas and Skew Normal quinellas: 0.040069\n",
            "RMSE between LLM quinellas and Harville quinellas: 0.042584\n",
            "RMSE between Skew and Harville quinellas: 0.004211\n",
            "The Skew Normal model better predicts the actual quinella probabilities.\n",
            "{'prob': 0.5937482258304954}\n",
            "{'probs': [(0.25571201840732455, 'microwave'), (0.20029935957613743, 'blender'), (0.1412738955754529, 'smallest'), (0.13657914366105461, 'best'), (0.07317788256448553, 'oven'), (0.0718929782605855, 'refrigerator'), (0.03692738060364605, 'simplest'), (0.03353025078009263, 'easiest'), (0.026443209105907847, 'knife'), (0.02416388146531298, 'kitchen')]}\n",
            "RMSE between LLM quinellas and Skew Normal quinellas: 0.037166\n",
            "RMSE between LLM quinellas and Harville quinellas: 0.038241\n",
            "RMSE between Skew and Harville quinellas: 0.002037\n",
            "The Skew Normal model better predicts the actual quinella probabilities.\n",
            "{'prob': 0.8299987176433206}\n",
            "{'probs': [(0.5638316187862088, 'microwave'), (0.1130648267929154, 'refrigerator'), (0.10029156758917343, 'grill'), (0.062385625486470225, 'blender'), (0.04750155070217078, 'fridge'), (0.04595024765908427, 'oven'), (0.03577557993863308, 'stove'), (0.013670052415824363, 'cooker'), (0.009514327576707024, 'mixer'), (0.008014603052812567, 'appliance')]}\n",
            "RMSE between LLM quinellas and Skew Normal quinellas: 0.032140\n",
            "RMSE between LLM quinellas and Harville quinellas: 0.032095\n",
            "RMSE between Skew and Harville quinellas: 0.003112\n",
            "The Harville model better predicts the actual quinella probabilities.\n",
            "{'prob': 0.7277167672291398}\n",
            "{'probs': [(0.5466668801522288, 'microwave'), (0.1473136687133923, 'refrigerator'), (0.0734150620856298, 'fridge'), (0.057685233939506524, 'blender'), (0.04930448117512371, 'grill'), (0.03327649333567666, 'stove'), (0.025578801372053157, 'kitchen'), (0.024996352318642678, 'cooker'), (0.024525039982182598, 'oven'), (0.017237986925563838, 'appliance')]}\n",
            "RMSE between LLM quinellas and Skew Normal quinellas: 0.028597\n",
            "RMSE between LLM quinellas and Harville quinellas: 0.026144\n",
            "RMSE between Skew and Harville quinellas: 0.004096\n",
            "The Harville model better predicts the actual quinella probabilities.\n",
            "{'prob': 0.5457216240465641}\n",
            "{'probs': [(0.4040563766111199, 'microwave'), (0.12073063885077526, 'refrigerator'), (0.11171286504614927, 'blender'), (0.09023079248816547, 'fridge'), (0.06612881213009127, 'grill'), (0.05101663116813437, 'kitchen'), (0.04445287787683223, 'oven'), (0.04248998640073758, 'cooker'), (0.0385854709618984, 'chef'), (0.030595548466096214, 'kitchen')]}\n",
            "RMSE between LLM quinellas and Skew Normal quinellas: 0.031066\n",
            "RMSE between LLM quinellas and Harville quinellas: 0.030821\n",
            "RMSE between Skew and Harville quinellas: 0.001817\n",
            "The Harville model better predicts the actual quinella probabilities.\n",
            "{'prob': 0.6984116984531283}\n",
            "{'probs': [(0.5785975754700389, 'microwave'), (0.10203312806926672, 'blender'), (0.08319414278960957, 'refrigerator'), (0.07452612313464257, 'grill'), (0.041262283605960494, 'fridge'), (0.031488344919235266, 'cooker'), (0.030560587685424682, 'stove'), (0.025703664459986085, 'oven'), (0.019156891129351872, 'chef'), (0.013477258736483852, 'kitchen')]}\n",
            "RMSE between LLM quinellas and Skew Normal quinellas: 0.036404\n",
            "RMSE between LLM quinellas and Harville quinellas: 0.037466\n",
            "RMSE between Skew and Harville quinellas: 0.003038\n",
            "The Skew Normal model better predicts the actual quinella probabilities.\n",
            "{'prob': 0.6137625640258193}\n",
            "{'probs': [(0.3755039059476168, 'microwave'), (0.16880731400178903, 'refrigerator'), (0.14169564626496423, 'grill'), (0.09282591831248987, 'fridge'), (0.0606470247637283, 'blender'), (0.05194320707106017, 'oven'), (0.033401558870820705, 'best'), (0.027622709441946475, 'stove'), (0.025826901351711742, 'appliance'), (0.021725813973872684, 'cooker')]}\n",
            "RMSE between LLM quinellas and Skew Normal quinellas: 0.025383\n",
            "RMSE between LLM quinellas and Harville quinellas: 0.025282\n",
            "RMSE between Skew and Harville quinellas: 0.002659\n",
            "The Harville model better predicts the actual quinella probabilities.\n"
          ]
        }
      ]
    },
    {
      "cell_type": "code",
      "source": [
        "prompt_pair_template = (\n",
        "    \"The best gardening tool is the [MASK] because it is SOMETHING.\",\n",
        "    \"The best two gardening tools are the [ANSWER] and the [MASK] because they are SOMETHING.\"\n",
        ")\n",
        "something_list = tool_adjectives\n",
        "for something in something_list:\n",
        "    prompt_pair = [pp.replace('SOMETHING', something) for pp in prompt_pair_template]\n",
        "    quinella_comparison(prompt_pair=prompt_pair, top_k=10)"
      ],
      "metadata": {
        "collapsed": true,
        "id": "1jCV5qm_B-hg",
        "outputId": "d835dc8e-effc-4427-ed19-5cb79e434378",
        "colab": {
          "base_uri": "https://localhost:8080/"
        }
      },
      "execution_count": 94,
      "outputs": [
        {
          "output_type": "stream",
          "name": "stdout",
          "text": [
            "{'prob': 0.35679337941110134}\n",
            "{'probs': [(0.15213267404007666, 'knife'), (0.12716604187457475, 'tool'), (0.12546488489310215, 'tractor'), (0.12111886889484472, 'shovel'), (0.11187731506016693, 'rake'), (0.08607718592864297, 'router'), (0.0832621172444429, 'pot'), (0.08284833401388836, 'brush'), (0.06297097299230835, 'vacuum'), (0.04708160505795223, 'drill')]}\n",
            "RMSE between LLM quinellas and Skew Normal quinellas: 0.034519\n",
            "RMSE between LLM quinellas and Harville quinellas: 0.034588\n",
            "RMSE between Skew and Harville quinellas: 0.000651\n",
            "The Skew Normal model better predicts the actual quinella probabilities.\n",
            "{'prob': 0.3358518397435546}\n",
            "{'probs': [(0.1863755022635895, 'soil'), (0.15198966945001416, 'knife'), (0.13411609404581107, 'tractor'), (0.1332852651319699, 'shovel'), (0.09208640340074714, 'rake'), (0.08309306280734326, 'tool'), (0.07859901301090025, 'pot'), (0.04969640922166853, 'drill'), (0.0458145360158741, 'vacuum'), (0.0449440446520821, 'garden')]}\n",
            "RMSE between LLM quinellas and Skew Normal quinellas: 0.035855\n",
            "RMSE between LLM quinellas and Harville quinellas: 0.036209\n",
            "RMSE between Skew and Harville quinellas: 0.001061\n",
            "The Skew Normal model better predicts the actual quinella probabilities.\n",
            "{'prob': 0.3411353640258312}\n",
            "{'probs': [(0.15117991279225224, 'camera'), (0.13436029445721928, 'soil'), (0.13190573443801185, 'computer'), (0.11364567788215166, 'tool'), (0.09904858566832277, 'microscope'), (0.07939233982587433, 'scale'), (0.07602710026632682, 'gps'), (0.0726724861295371, 'laser'), (0.07142411907846855, 'calculator'), (0.07034374946183544, 'drill')]}\n",
            "RMSE between LLM quinellas and Skew Normal quinellas: 0.024376\n",
            "RMSE between LLM quinellas and Harville quinellas: 0.024489\n",
            "RMSE between Skew and Harville quinellas: 0.000622\n",
            "The Skew Normal model better predicts the actual quinella probabilities.\n",
            "{'prob': 0.30715090967714787}\n",
            "{'probs': [(0.2755650503650419, 'shovel'), (0.12487117904858308, 'tool'), (0.10877298779446784, 'knife'), (0.07818808116941434, 'tractor'), (0.07710842938035761, 'umbrella'), (0.07316607967492424, 'hammer'), (0.07040038577471154, 'drill'), (0.06760944633065723, 'rake'), (0.06285687415813192, 'brush'), (0.061461486303710296, 'blade')]}\n",
            "RMSE between LLM quinellas and Skew Normal quinellas: 0.041592\n",
            "RMSE between LLM quinellas and Harville quinellas: 0.041807\n",
            "RMSE between Skew and Harville quinellas: 0.001001\n",
            "The Skew Normal model better predicts the actual quinella probabilities.\n",
            "{'prob': 0.34779259748756886}\n",
            "{'probs': [(0.256505170913139, 'tractor'), (0.12220144128422551, 'shovel'), (0.110032443331149, 'drill'), (0.09134484122992702, 'knife'), (0.08404511448278719, 'router'), (0.0813675399025456, 'soil'), (0.07773843759166982, 'tool'), (0.06646968194774962, 'vacuum'), (0.06484439574138413, 'pot'), (0.04545093357542309, 'broom')]}\n",
            "RMSE between LLM quinellas and Skew Normal quinellas: 0.026335\n",
            "RMSE between LLM quinellas and Harville quinellas: 0.026836\n",
            "RMSE between Skew and Harville quinellas: 0.000956\n",
            "The Skew Normal model better predicts the actual quinella probabilities.\n",
            "{'prob': 0.3524215631186962}\n",
            "{'probs': [(0.25861856442755926, 'tractor'), (0.10430686235026722, 'soil'), (0.09291437642894698, 'shovel'), (0.09200888184251226, 'vacuum'), (0.08630527120742537, 'tool'), (0.07989281524156834, 'knife'), (0.0780240950014367, 'router'), (0.07594226187160938, 'pot'), (0.06765243366918125, 'machine'), (0.06433443795949328, 'drill')]}\n",
            "RMSE between LLM quinellas and Skew Normal quinellas: 0.025273\n",
            "RMSE between LLM quinellas and Harville quinellas: 0.025653\n",
            "RMSE between Skew and Harville quinellas: 0.000769\n",
            "The Skew Normal model better predicts the actual quinella probabilities.\n",
            "{'prob': 0.3341522980481386}\n",
            "{'probs': [(0.29461611626870465, 'shovel'), (0.1103994200025442, 'tractor'), (0.09560917718145337, 'pot'), (0.09531376475153669, 'umbrella'), (0.08691171260395171, 'tool'), (0.07107002316414505, 'rake'), (0.06929952743989103, 'backpack'), (0.06381171032910431, 'brush'), (0.05861708710066262, 'vacuum'), (0.054351461158006355, 'broom')]}\n",
            "RMSE between LLM quinellas and Skew Normal quinellas: 0.042526\n",
            "RMSE between LLM quinellas and Harville quinellas: 0.042601\n",
            "RMSE between Skew and Harville quinellas: 0.000961\n",
            "The Skew Normal model better predicts the actual quinella probabilities.\n",
            "{'prob': 0.32728119753301144}\n",
            "{'probs': [(0.18244985259757032, 'tractor'), (0.15586516372029224, 'router'), (0.13267586282688548, 'tool'), (0.10251809318262589, 'knife'), (0.09809727521702158, 'shovel'), (0.079519284735042, 'iphone'), (0.07792265628799366, 'pot'), (0.06720018703784589, 'drill'), (0.051978121284402046, 'vacuum'), (0.05177350311032088, 'brush')]}\n",
            "RMSE between LLM quinellas and Skew Normal quinellas: 0.023887\n",
            "RMSE between LLM quinellas and Harville quinellas: 0.024316\n",
            "RMSE between Skew and Harville quinellas: 0.000929\n",
            "The Skew Normal model better predicts the actual quinella probabilities.\n",
            "{'prob': 0.34785361774265766}\n",
            "{'probs': [(0.22589289291881942, 'knife'), (0.14002540014339515, 'drill'), (0.10597165320779205, 'tractor'), (0.1047131746661754, 'tool'), (0.08155661047173514, 'router'), (0.08137574541242125, 'laser'), (0.07476693389612601, 'soil'), (0.06624974620820182, 'scale'), (0.06096814056384545, 'machine'), (0.058479702511488346, 'shovel')]}\n",
            "RMSE between LLM quinellas and Skew Normal quinellas: 0.025751\n",
            "RMSE between LLM quinellas and Harville quinellas: 0.026198\n",
            "RMSE between Skew and Harville quinellas: 0.000939\n",
            "The Skew Normal model better predicts the actual quinella probabilities.\n",
            "{'prob': 0.43222304061055183}\n",
            "{'probs': [(0.42777277723143964, 'shovel'), (0.08957160574784237, 'knife'), (0.08016629216221828, 'hammer'), (0.07283223989135557, 'tool'), (0.06952697514994076, 'umbrella'), (0.06742423758590131, 'rake'), (0.058039962752875186, 'drill'), (0.04706018597585022, 'broom'), (0.045311151127548285, 'brush'), (0.04229457237502841, 'tractor')]}\n",
            "RMSE between LLM quinellas and Skew Normal quinellas: 0.052351\n",
            "RMSE between LLM quinellas and Harville quinellas: 0.052345\n",
            "RMSE between Skew and Harville quinellas: 0.001000\n",
            "The Harville model better predicts the actual quinella probabilities.\n",
            "{'prob': 0.3073431234806776}\n",
            "{'probs': [(0.2386346725573832, 'shovel'), (0.11400393650845751, 'tool'), (0.09444762178285547, 'knife'), (0.09196853016216018, 'vacuum'), (0.08828203445739721, 'tractor'), (0.07725944351159938, 'pot'), (0.07636582655299066, 'broom'), (0.07416927425145671, 'drill'), (0.07363097684975725, 'box'), (0.07123768336594243, 'rake')]}\n",
            "RMSE between LLM quinellas and Skew Normal quinellas: 0.039608\n",
            "RMSE between LLM quinellas and Harville quinellas: 0.039721\n",
            "RMSE between Skew and Harville quinellas: 0.000748\n",
            "The Skew Normal model better predicts the actual quinella probabilities.\n",
            "{'prob': 0.22755266074091196}\n",
            "{'probs': [(0.2646394983327843, 'iphone'), (0.16160451051008873, 'ipad'), (0.11050452909089258, 'router'), (0.11017926781990216, 'tool'), (0.0880056595264699, 'hive'), (0.07171949633665449, 'leaf'), (0.05636601181955879, 'tractor'), (0.053812224620231004, 'camera'), (0.04367853029512709, 'app'), (0.039490271648291, 'sponge')]}\n",
            "RMSE between LLM quinellas and Skew Normal quinellas: 0.027185\n",
            "RMSE between LLM quinellas and Harville quinellas: 0.028036\n",
            "RMSE between Skew and Harville quinellas: 0.001436\n",
            "The Skew Normal model better predicts the actual quinella probabilities.\n",
            "{'prob': 0.28747760131955147}\n",
            "{'probs': [(0.1747536234704888, 'shovel'), (0.1229332989811049, 'brush'), (0.12001491890914327, 'knife'), (0.1056576588521783, 'tool'), (0.09941486874144745, 'tractor'), (0.08306256353815651, 'rake'), (0.07885368771763951, 'pot'), (0.07716762602417668, 'vacuum'), (0.07061668180721006, 'broom'), (0.0675250719584545, 'router')]}\n",
            "RMSE between LLM quinellas and Skew Normal quinellas: 0.033269\n",
            "RMSE between LLM quinellas and Harville quinellas: 0.033332\n",
            "RMSE between Skew and Harville quinellas: 0.000627\n",
            "The Skew Normal model better predicts the actual quinella probabilities.\n",
            "{'prob': 0.2929232679307461}\n",
            "{'probs': [(0.19158418084798143, 'router'), (0.12066457359032903, 'tool'), (0.11587235368812787, 'knife'), (0.10345161489825302, 'drill'), (0.09181812931748501, 'shovel'), (0.08442491841416573, 'tractor'), (0.08154083928561959, 'hammer'), (0.07664313298556799, 'sponge'), (0.06725647779257926, 'pot'), (0.06674377917989105, 'soil')]}\n",
            "RMSE between LLM quinellas and Skew Normal quinellas: 0.026390\n",
            "RMSE between LLM quinellas and Harville quinellas: 0.026664\n",
            "RMSE between Skew and Harville quinellas: 0.000678\n",
            "The Skew Normal model better predicts the actual quinella probabilities.\n"
          ]
        }
      ]
    },
    {
      "cell_type": "code",
      "source": [
        "prompt_pair_template = (\n",
        "    \"My favourite day of the week is called [MASK] because that day of the week reminds me SOMETHING.\",\n",
        "    \"My favourite two days of the week are called [ANSWER] and [MASK] that those two days of the week remind me SOMETHING.\"\n",
        ")\n",
        "\n",
        "something_list = ['of fond memories', 'of having fun']\n",
        "for something in something_list:\n",
        "    prompt_pair = [pp.replace('SOMETHING', something) for pp in prompt_pair_template]\n",
        "    quinella_comparison(prompt_pair=prompt_pair, top_k=7)"
      ],
      "metadata": {
        "id": "vl0hEm42XpvZ",
        "outputId": "389f7441-6ed0-4782-a5fc-39d95e5b3b86",
        "colab": {
          "base_uri": "https://localhost:8080/"
        }
      },
      "execution_count": 54,
      "outputs": [
        {
          "output_type": "stream",
          "name": "stderr",
          "text": [
            "/usr/local/lib/python3.10/dist-packages/transformers/tokenization_utils_base.py:1601: FutureWarning: `clean_up_tokenization_spaces` was not set. It will be set to `True` by default. This behavior will be depracted in transformers v4.45, and will be then set to `False` by default. For more details check this issue: https://github.com/huggingface/transformers/issues/31884\n",
            "  warnings.warn(\n"
          ]
        },
        {
          "output_type": "stream",
          "name": "stdout",
          "text": [
            "{'prob': 0.6697142235934734}\n",
            "{'probs': [(0.21454757766349136, 'friday'), (0.20121731802339216, 'monday'), (0.1746813099079609, 'mondays'), (0.14064578474332504, 'thursday'), (0.12512539908000467, 'wednesday'), (0.07534575308097688, 'sunday'), (0.06843685750084899, 'saturday')]}\n",
            "RMSE between LLM quinellas and Skew Normal quinellas: 0.048927\n",
            "RMSE between LLM quinellas and Harville quinellas: 0.049615\n",
            "RMSE between Skew and Harville quinellas: 0.001607\n",
            "The Skew Normal model better predicts the actual quinella probabilities.\n",
            "{'prob': 0.5596927478909492}\n",
            "{'probs': [(0.2973044083767655, 'friday'), (0.17955819068698903, 'saturday'), (0.14404959730867217, 'that'), (0.12261725927460543, 'monday'), (0.10628370967151272, 'thursday'), (0.07990576337764953, 'wednesday'), (0.07028107130380554, 'sunday')]}\n",
            "RMSE between LLM quinellas and Skew Normal quinellas: 0.051218\n",
            "RMSE between LLM quinellas and Harville quinellas: 0.052032\n",
            "RMSE between Skew and Harville quinellas: 0.001761\n",
            "The Skew Normal model better predicts the actual quinella probabilities.\n"
          ]
        }
      ]
    },
    {
      "cell_type": "code",
      "source": [
        "prompt_pair_template = (\n",
        "    \"My favorite primary color is [MASK] because it is SOMETHING.\",\n",
        "    \"My favorite two primary colors are [ANSWER] and [MASK] because they are SOMETHING.\"\n",
        ")\n",
        "\n",
        "color_adjectives = [\n",
        "    'bright',\n",
        "    'bold',\n",
        "    'vibrant',\n",
        "    'warm',\n",
        "    'cool',\n",
        "    'soothing',\n",
        "    'strong'\n",
        "]\n",
        "\n",
        "something_list = color_adjectives\n",
        "for something in something_list:\n",
        "    prompt_pair = [pp.replace('SOMETHING', something) for pp in prompt_pair_template]\n",
        "    quinella_comparison(prompt_pair=prompt_pair, top_k=20)\n"
      ],
      "metadata": {
        "id": "qn9FoJQ0DFoY",
        "outputId": "b7db84b4-01a1-4c23-e5a7-815da654108c",
        "colab": {
          "base_uri": "https://localhost:8080/"
        }
      },
      "execution_count": 95,
      "outputs": [
        {
          "output_type": "stream",
          "name": "stdout",
          "text": [
            "{'prob': 0.9462765378411859}\n",
            "{'probs': [(0.17273980943597358, 'blue'), (0.1458640808332078, 'green'), (0.14190312076391826, 'orange'), (0.13349799924292266, 'yellow'), (0.08360468107273925, 'red'), (0.07438365232583036, 'white'), (0.0611858573050499, 'pink'), (0.04621312983459073, 'purple'), (0.044496552396249486, 'black'), (0.023918992022448862, 'brown'), (0.019978908740929873, 'gold'), (0.01833600435677263, 'silver'), (0.00784607496151132, 'gray'), (0.005927093955672109, 'violet'), (0.004747969301495546, 'peach'), (0.003735672936241265, 'grey'), (0.0037326957401727255, 'cream'), (0.003046839820011097, 'ivory'), (0.0024949107275247244, 'orange'), (0.002345954226737844, 'tan')]}\n",
            "RMSE between LLM quinellas and Skew Normal quinellas: 0.006560\n",
            "RMSE between LLM quinellas and Harville quinellas: 0.006520\n",
            "RMSE between Skew and Harville quinellas: 0.000781\n",
            "The Harville model better predicts the actual quinella probabilities.\n",
            "{'prob': 0.8999107910785824}\n",
            "{'probs': [(0.1652338307255419, 'orange'), (0.14107895557592248, 'blue'), (0.12170107975594074, 'red'), (0.10868818701287346, 'yellow'), (0.10803136150646085, 'green'), (0.0833250556205984, 'black'), (0.05185452911581585, 'purple'), (0.05178055407485238, 'white'), (0.049881854457420154, 'pink'), (0.03567303326531722, 'brown'), (0.01868939669573326, 'gold'), (0.01277738552116168, 'silver'), (0.011377520675620983, 'gray'), (0.009014541778991282, 'violet'), (0.007863335733707675, 'peach'), (0.005275710430328929, 'grey'), (0.004863346665155129, 'tan'), (0.00444761738748534, 'ivory'), (0.004274010706030042, 'cream'), (0.004168693295042232, 'orange')]}\n",
            "RMSE between LLM quinellas and Skew Normal quinellas: 0.005692\n",
            "RMSE between LLM quinellas and Harville quinellas: 0.005806\n",
            "RMSE between Skew and Harville quinellas: 0.000699\n",
            "The Skew Normal model better predicts the actual quinella probabilities.\n",
            "{'prob': 0.9287750569637865}\n",
            "{'probs': [(0.15569312728265722, 'orange'), (0.15413627671057753, 'blue'), (0.13895654643690553, 'green'), (0.11830171971444103, 'yellow'), (0.0878813405317086, 'red'), (0.06283591988289457, 'pink'), (0.05989586973955868, 'purple'), (0.053863504952187974, 'white'), (0.04853454022864611, 'black'), (0.031981409187132014, 'brown'), (0.02174340639745369, 'gold'), (0.017816775584786206, 'silver'), (0.009343592240303811, 'peach'), (0.008572657443570528, 'violet'), (0.007330149216074606, 'gray'), (0.00630050424968762, 'ivory'), (0.0051180693453330775, 'cream'), (0.0041915805498861205, 'coral'), (0.003856349567017317, 'tan'), (0.003646660739177754, 'copper')]}\n",
            "RMSE between LLM quinellas and Skew Normal quinellas: 0.005095\n",
            "RMSE between LLM quinellas and Harville quinellas: 0.004848\n",
            "RMSE between Skew and Harville quinellas: 0.000740\n",
            "The Harville model better predicts the actual quinella probabilities.\n",
            "{'prob': 0.9375611196737736}\n",
            "{'probs': [(0.18067224727828893, 'blue'), (0.13796615772392212, 'yellow'), (0.129794234063476, 'green'), (0.12568384784215553, 'orange'), (0.09880365911817944, 'red'), (0.07536885518529313, 'pink'), (0.06958962386762285, 'white'), (0.05416038992964246, 'purple'), (0.033475549130147816, 'black'), (0.027630937766388, 'brown'), (0.014030909733965612, 'gold'), (0.008987389193829123, 'violet'), (0.008410621720781908, 'gray'), (0.007429840568413811, 'silver'), (0.006973548083209326, 'grey'), (0.0064290896850213546, 'peach'), (0.004555804051346057, 'cream'), (0.0040013267655458935, 'tan'), (0.0035223263911073528, 'blue'), (0.0025136419016632736, 'crimson')]}\n",
            "RMSE between LLM quinellas and Skew Normal quinellas: 0.006098\n",
            "RMSE between LLM quinellas and Harville quinellas: 0.006284\n",
            "RMSE between Skew and Harville quinellas: 0.000759\n",
            "The Skew Normal model better predicts the actual quinella probabilities.\n",
            "{'prob': 0.9364581264089793}\n",
            "{'probs': [(0.17253434532170298, 'green'), (0.17232912495947064, 'blue'), (0.11023847673555127, 'red'), (0.08632737668043014, 'black'), (0.0847232303551324, 'orange'), (0.08097078629511933, 'yellow'), (0.07085807836309428, 'purple'), (0.0676954459303344, 'white'), (0.04532171244124928, 'pink'), (0.026770249968412495, 'brown'), (0.023150472351569668, 'gold'), (0.0148634282404967, 'silver'), (0.01310476297232272, 'gray'), (0.00956345962819189, 'grey'), (0.004631732935396791, 'cyan'), (0.003918799234867238, 'violet'), (0.003665082046585313, 'tan'), (0.003328754890873903, 'cream'), (0.00319714984488707, 'red'), (0.0028075308043114923, 'peach')]}\n",
            "RMSE between LLM quinellas and Skew Normal quinellas: 0.005581\n",
            "RMSE between LLM quinellas and Harville quinellas: 0.005644\n",
            "RMSE between Skew and Harville quinellas: 0.000718\n",
            "The Skew Normal model better predicts the actual quinella probabilities.\n",
            "{'prob': 0.9255129746161401}\n",
            "{'probs': [(0.17912896033542647, 'blue'), (0.12000623213613063, 'green'), (0.0982450375759718, 'white'), (0.08496109218514239, 'yellow'), (0.08280149258013053, 'orange'), (0.08007170413112284, 'purple'), (0.07433938586961823, 'pink'), (0.0642034739446029, 'black'), (0.048974869751747536, 'red'), (0.034433979525838966, 'brown'), (0.025112367210337945, 'gold'), (0.02031781272914142, 'silver'), (0.018826328836961417, 'gray'), (0.014673094920179576, 'peach'), (0.014585313337746654, 'ivory'), (0.0115850567053712, 'violet'), (0.010704498775760431, 'grey'), (0.007022819421289609, 'cream'), (0.0056649293890104055, 'coral'), (0.0043415506384690515, 'tan')]}\n",
            "RMSE between LLM quinellas and Skew Normal quinellas: 0.004822\n",
            "RMSE between LLM quinellas and Harville quinellas: 0.004643\n",
            "RMSE between Skew and Harville quinellas: 0.000612\n",
            "The Harville model better predicts the actual quinella probabilities.\n",
            "{'prob': 0.8821589779108763}\n",
            "{'probs': [(0.1683134187452787, 'orange'), (0.15427569310613679, 'blue'), (0.11639299075277833, 'yellow'), (0.11311338353453859, 'red'), (0.0872842997735911, 'green'), (0.06216305408365247, 'black'), (0.06204667029887396, 'purple'), (0.04348011207091252, 'white'), (0.04325974300614903, 'gold'), (0.03326704222466845, 'pink'), (0.030101624982201695, 'brown'), (0.019712927950719827, 'silver'), (0.013988226635757255, 'violet'), (0.008819193493521438, 'gray'), (0.008767820567622426, 'copper'), (0.00822476785240847, 'tan'), (0.007332638211894058, 'crimson'), (0.007147792383616664, 'peach'), (0.007050774400326584, 'cream'), (0.0052578259253516476, 'grey')]}\n",
            "RMSE between LLM quinellas and Skew Normal quinellas: 0.005258\n",
            "RMSE between LLM quinellas and Harville quinellas: 0.005115\n",
            "RMSE between Skew and Harville quinellas: 0.000750\n",
            "The Harville model better predicts the actual quinella probabilities.\n"
          ]
        }
      ]
    },
    {
      "cell_type": "code",
      "source": [
        "prompt_pair_template = (\n",
        "    \"My favourite month of the year is [MASK] because I SOMETHING.\",\n",
        "    \"My favourite two months of the year are [ANSWER] and [MASK] because I SOMETHING.\"\n",
        ")\n",
        "\n",
        "something_list = ['enjoy the weathr', 'get a lot done', 'have fond memories']\n",
        "for something in something_list:\n",
        "    prompt_pair = [pp.replace('SOMETHING', something) for pp in prompt_pair_template]\n",
        "    quinella_comparison(prompt_pair=prompt_pair, top_k=12)"
      ],
      "metadata": {
        "id": "nR5BxZ7AYkao",
        "outputId": "611105f6-750c-43c2-83fd-57d2cdb3dd30",
        "colab": {
          "base_uri": "https://localhost:8080/"
        }
      },
      "execution_count": 53,
      "outputs": [
        {
          "output_type": "stream",
          "name": "stderr",
          "text": [
            "/usr/local/lib/python3.10/dist-packages/transformers/tokenization_utils_base.py:1601: FutureWarning: `clean_up_tokenization_spaces` was not set. It will be set to `True` by default. This behavior will be depracted in transformers v4.45, and will be then set to `False` by default. For more details check this issue: https://github.com/huggingface/transformers/issues/31884\n",
            "  warnings.warn(\n"
          ]
        },
        {
          "output_type": "stream",
          "name": "stdout",
          "text": [
            "{'prob': 0.970632191747427}\n",
            "{'probs': [(0.1659103451077605, 'may'), (0.10261308395927501, 'june'), (0.09697105678616785, 'august'), (0.09602062113528582, 'march'), (0.09434877888815286, 'october'), (0.08876256397017264, 'september'), (0.08279531968453373, 'april'), (0.08235495477401554, 'july'), (0.0498270067642327, 'february'), (0.049487178370221895, 'november'), (0.04596929070940688, 'december'), (0.044939799850774564, 'january')]}\n",
            "RMSE between LLM quinellas and Skew Normal quinellas: 0.013099\n",
            "RMSE between LLM quinellas and Harville quinellas: 0.013188\n",
            "RMSE between Skew and Harville quinellas: 0.000576\n",
            "The Skew Normal model better predicts the actual quinella probabilities.\n",
            "{'prob': 0.9766253493726254}\n",
            "{'probs': [(0.13355771922195056, 'december'), (0.13070496702766907, 'january'), (0.10198007009215346, 'march'), (0.09527006034397864, 'may'), (0.08676853991685128, 'october'), (0.08064810709299176, 'june'), (0.0745621340264772, 'april'), (0.06464221733532462, 'september'), (0.06375861102475511, 'august'), (0.06008652984678251, 'november'), (0.055916933538109885, 'february'), (0.052104110532955925, 'july')]}\n",
            "RMSE between LLM quinellas and Skew Normal quinellas: 0.013013\n",
            "RMSE between LLM quinellas and Harville quinellas: 0.013155\n",
            "RMSE between Skew and Harville quinellas: 0.000484\n",
            "The Skew Normal model better predicts the actual quinella probabilities.\n",
            "{'prob': 0.9639644455164671}\n",
            "{'probs': [(0.24716756630431877, 'december'), (0.11919619545874575, 'november'), (0.10579510548400715, 'august'), (0.10526673626608084, 'october'), (0.0816942857181337, 'january'), (0.07925243790066112, 'july'), (0.06760318006295783, 'september'), (0.051767155953481477, 'june'), (0.04617853906274511, 'may'), (0.03974685865627405, 'february'), (0.03329568545175132, 'march'), (0.023036253680842854, 'april')]}\n",
            "RMSE between LLM quinellas and Skew Normal quinellas: 0.018868\n",
            "RMSE between LLM quinellas and Harville quinellas: 0.019524\n",
            "RMSE between Skew and Harville quinellas: 0.001017\n",
            "The Skew Normal model better predicts the actual quinella probabilities.\n"
          ]
        }
      ]
    },
    {
      "cell_type": "code",
      "source": [
        "prompt_pair_template = (\n",
        "    \"The best day of the week is [MASK] because it is SOMETHING.\",\n",
        "    \"The two best days of the week are [ANSWER] and [MASK] because they are SOMETHING.\"\n",
        ")\n",
        "\n",
        "day_adjectives = [\n",
        "    'relaxing',\n",
        "    'productive',\n",
        "    'fun',\n",
        "    'busy',\n",
        "    'exciting',\n",
        "    'stressful',\n",
        "    'enjoyable',\n",
        "    'hectic',\n",
        "    'calm',\n",
        "    'rewarding'\n",
        "]\n",
        "\n",
        "something_list = day_adjectives\n",
        "for something in something_list:\n",
        "    prompt_pair = [pp.replace('SOMETHING', something) for pp in prompt_pair_template]\n",
        "    quinella_comparison(prompt_pair=prompt_pair, top_k=20)\n"
      ],
      "metadata": {
        "collapsed": true,
        "id": "bJcK8IXAEJCl",
        "outputId": "ba9a552c-3340-4c3b-ceee-9714f0035379",
        "colab": {
          "base_uri": "https://localhost:8080/"
        }
      },
      "execution_count": 96,
      "outputs": [
        {
          "output_type": "stream",
          "name": "stdout",
          "text": [
            "{'prob': 0.9729472977342084}\n",
            "{'probs': [(0.22584706473596458, 'friday'), (0.17500975781052985, 'monday'), (0.17046660252913443, 'sunday'), (0.16553290234224616, 'saturday'), (0.06415901572634942, 'wednesday'), (0.06063422160151305, 'thursday'), (0.05219614283327947, 'tuesday'), (0.02328303905333387, 'mondays'), (0.013807458599300462, 'payday'), (0.011672631023035387, 'fridays'), (0.008343788018440514, 'sundays'), (0.007754979354246201, 'saturdays'), (0.006281701345259291, 'today'), (0.004147024052205399, 'always'), (0.003104271786888771, 'thanksgiving'), (0.0026608671549073295, 'everyday'), (0.002271203129192141, 'work'), (0.0011065181736651512, 'easter'), (0.0008669983232314636, 'working'), (0.0008538124072770759, 'just')]}\n",
            "RMSE between LLM quinellas and Skew Normal quinellas: 0.009370\n",
            "RMSE between LLM quinellas and Harville quinellas: 0.009178\n",
            "RMSE between Skew and Harville quinellas: 0.001219\n",
            "The Harville model better predicts the actual quinella probabilities.\n",
            "{'prob': 0.9423919253749773}\n",
            "{'probs': [(0.2351301788968405, 'monday'), (0.22485031352046955, 'friday'), (0.10768145067132481, 'payday'), (0.09833395153952477, 'saturday'), (0.08971717530942754, 'sunday'), (0.0653190779423958, 'thursday'), (0.057501676641752576, 'wednesday'), (0.05068106783939651, 'tuesday'), (0.018882891040536684, 'mondays'), (0.009587058815267172, 'always'), (0.008895070528462033, 'fridays'), (0.008883601840979262, 'today'), (0.004193075675449125, 'work'), (0.003539780743937807, 'productive'), (0.0033353240890411063, 'saturdays'), (0.003144712131267888, 'thanksgiving'), (0.0031130324144975664, 'sundays'), (0.002788102163570624, 'not'), (0.0026867384348264085, 'working'), (0.001735719761032246, 'usually')]}\n",
            "RMSE between LLM quinellas and Skew Normal quinellas: 0.009697\n",
            "RMSE between LLM quinellas and Harville quinellas: 0.010227\n",
            "RMSE between Skew and Harville quinellas: 0.001154\n",
            "The Skew Normal model better predicts the actual quinella probabilities.\n",
            "{'prob': 0.9253688645549119}\n",
            "{'probs': [(0.2574308262710673, 'friday'), (0.16472304885878436, 'monday'), (0.1287858232496144, 'saturday'), (0.11793755299707818, 'sunday'), (0.06632127919174986, 'thursday'), (0.060382928817239084, 'wednesday'), (0.04817356946576837, 'tuesday'), (0.03798285480006598, 'payday'), (0.028119045960768085, 'always'), (0.022902518014782706, 'mondays'), (0.01865619433972479, 'fridays'), (0.009175911283920505, 'just'), (0.008540841442781236, 'work'), (0.006556815063102611, 'saturdays'), (0.0059484740928861125, 'sundays'), (0.00519162273324892, 'today'), (0.0035576916745583033, 'not'), (0.0034193797312283606, 'working'), (0.0032621445665222738, 'everyday'), (0.002931477445108524, 'thanksgiving')]}\n",
            "RMSE between LLM quinellas and Skew Normal quinellas: 0.010692\n",
            "RMSE between LLM quinellas and Harville quinellas: 0.010362\n",
            "RMSE between Skew and Harville quinellas: 0.001129\n",
            "The Harville model better predicts the actual quinella probabilities.\n",
            "{'prob': 0.976162591658067}\n",
            "{'probs': [(0.20932934347805615, 'friday'), (0.2008463774638698, 'monday'), (0.1457643575374119, 'saturday'), (0.13605870759910965, 'sunday'), (0.07667394605927522, 'thursday'), (0.05903380681708117, 'wednesday'), (0.05379653181073941, 'tuesday'), (0.04261691248923, 'payday'), (0.02732288207956085, 'mondays'), (0.011590770776187772, 'fridays'), (0.007829405721287345, 'not'), (0.006881773492741385, 'today'), (0.0063887002917521925, 'sundays'), (0.005695259127291211, 'saturdays'), (0.0034107948203469666, 'always'), (0.003402059401098114, 'thanksgiving'), (0.0009723880689581926, 'easter'), (0.000935928713045122, 'usually'), (0.0007784596269132098, 'tomorrow'), (0.0006715946260443759, 'halloween')]}\n",
            "RMSE between LLM quinellas and Skew Normal quinellas: 0.008965\n",
            "RMSE between LLM quinellas and Harville quinellas: 0.009315\n",
            "RMSE between Skew and Harville quinellas: 0.001065\n",
            "The Skew Normal model better predicts the actual quinella probabilities.\n",
            "{'prob': 0.9058502519037575}\n",
            "{'probs': [(0.28843244476220076, 'friday'), (0.1470274637967682, 'monday'), (0.12193504872374211, 'saturday'), (0.11173361642728388, 'sunday'), (0.08334285322998743, 'thursday'), (0.05999910131534724, 'wednesday'), (0.04937025083306189, 'tuesday'), (0.038546921210494765, 'always'), (0.035303894156113805, 'payday'), (0.010774751990408242, 'today'), (0.009404155211485505, 'fridays'), (0.008962217917923879, 'mondays'), (0.008210776469618743, 'not'), (0.006898847290515726, 'just'), (0.004789088926110464, 'usually'), (0.003797155093161511, 'probably'), (0.003242951487576082, 'saturdays'), (0.0030517574470669178, 'tomorrow'), (0.0026199859450009625, 'sundays'), (0.002556717766131887, 'easter')]}\n",
            "RMSE between LLM quinellas and Skew Normal quinellas: 0.008822\n",
            "RMSE between LLM quinellas and Harville quinellas: 0.008911\n",
            "RMSE between Skew and Harville quinellas: 0.001090\n",
            "The Skew Normal model better predicts the actual quinella probabilities.\n",
            "{'prob': 0.8885649174917489}\n",
            "{'probs': [(0.2150139328897594, 'monday'), (0.19431542627790685, 'friday'), (0.11219909738948311, 'saturday'), (0.10112302743346334, 'not'), (0.093297152139971, 'sunday'), (0.042104850518605574, 'thursday'), (0.04184361711412636, 'payday'), (0.036384920620250075, 'stressful'), (0.034939951079176496, 'mondays'), (0.03218764062141613, 'tuesday'), (0.029936385979247554, 'wednesday'), (0.011550258266032919, 'fridays'), (0.010596808745678907, 'always'), (0.00873329715239152, 'thanksgiving'), (0.008034180739139139, 'never'), (0.007305075519238711, 'work'), (0.0061584281535113855, 'stressed'), (0.005752380738654331, 'sundays'), (0.004655461945757285, 'saturdays'), (0.003868106676189926, 'usually')]}\n",
            "RMSE between LLM quinellas and Skew Normal quinellas: 0.010826\n",
            "RMSE between LLM quinellas and Harville quinellas: 0.011032\n",
            "RMSE between Skew and Harville quinellas: 0.001072\n",
            "The Skew Normal model better predicts the actual quinella probabilities.\n",
            "{'prob': 0.9299909392138943}\n",
            "{'probs': [(0.2017185517663833, 'monday'), (0.18879391169434193, 'friday'), (0.17854306269601017, 'saturday'), (0.17806998627591059, 'sunday'), (0.06376867453129785, 'thursday'), (0.059917984689333056, 'wednesday'), (0.048209543578244536, 'tuesday'), (0.021795327670575956, 'always'), (0.016431169822679382, 'payday'), (0.012869610388804952, 'mondays'), (0.004817868245199939, 'today'), (0.0045919527238169715, 'simply'), (0.004226188241827557, 'fridays'), (0.003144865381123163, 'sundays'), (0.0028784419401952596, 'saturdays'), (0.002427023237005904, 'everyday'), (0.0020899412662067564, 'just'), (0.0020192217741698184, 'not'), (0.001869165719126739, 'usually'), (0.0018175083577461155, 'thanksgiving')]}\n",
            "RMSE between LLM quinellas and Skew Normal quinellas: 0.008095\n",
            "RMSE between LLM quinellas and Harville quinellas: 0.008267\n",
            "RMSE between Skew and Harville quinellas: 0.001235\n",
            "The Skew Normal model better predicts the actual quinella probabilities.\n",
            "{'prob': 0.9646159129333682}\n",
            "{'probs': [(0.21757434253538607, 'monday'), (0.20089625433440722, 'friday'), (0.1406572571036657, 'saturday'), (0.13675054790151095, 'sunday'), (0.07305146728792802, 'thursday'), (0.06377237640274269, 'tuesday'), (0.06006156804894233, 'wednesday'), (0.030004777709902338, 'mondays'), (0.023608946751913246, 'payday'), (0.010175776755357885, 'fridays'), (0.00886275813558955, 'not'), (0.008369703089171236, 'thanksgiving'), (0.007512412402266764, 'sundays'), (0.006032744245121621, 'saturdays'), (0.005641312329318713, 'today'), (0.0028186004048844945, 'always'), (0.0011186541000469251, 'christmas'), (0.0011039713602342292, 'easter'), (0.0010170242110337621, 'usually'), (0.0009695048905762612, 'tomorrow')]}\n",
            "RMSE between LLM quinellas and Skew Normal quinellas: 0.009171\n",
            "RMSE between LLM quinellas and Harville quinellas: 0.009607\n",
            "RMSE between Skew and Harville quinellas: 0.001111\n",
            "The Skew Normal model better predicts the actual quinella probabilities.\n",
            "{'prob': 0.9800974120735191}\n",
            "{'probs': [(0.221063285793623, 'friday'), (0.20882678662471227, 'monday'), (0.15485188942970368, 'saturday'), (0.13945345007355242, 'sunday'), (0.07890406900594873, 'tuesday'), (0.07846823055550357, 'thursday'), (0.06995902321354533, 'wednesday'), (0.014000171839374924, 'today'), (0.01138272183914664, 'mondays'), (0.004091192283985969, 'payday'), (0.0032997092531775745, 'fridays'), (0.0029353624233917196, 'thanksgiving'), (0.002749883735858979, 'sundays'), (0.0020667433777800627, 'tomorrow'), (0.0019143987804920136, 'saturdays'), (0.0016951464947585406, 'yesterday'), (0.0014078449323616812, 'easter'), (0.0012799298003089423, 'sunny'), (0.0008693919427643239, 'always'), (0.0007807686000096014, 'morning')]}\n",
            "RMSE between LLM quinellas and Skew Normal quinellas: 0.010289\n",
            "RMSE between LLM quinellas and Harville quinellas: 0.010688\n",
            "RMSE between Skew and Harville quinellas: 0.001007\n",
            "The Skew Normal model better predicts the actual quinella probabilities.\n",
            "{'prob': 0.7932532038539648}\n",
            "{'probs': [(0.2309908848725321, 'friday'), (0.17169025102463795, 'monday'), (0.12163846241949017, 'sunday'), (0.0756410788377407, 'saturday'), (0.0752272856413397, 'payday'), (0.06657919004983277, 'always'), (0.056227170229424195, 'thursday'), (0.04580221813713315, 'wednesday'), (0.045410948004218826, 'tuesday'), (0.031606226143988295, 'mondays'), (0.013405489289004766, 'working'), (0.011175034444590025, 'work'), (0.009489737766005287, 'not'), (0.009053158517886713, 'fridays'), (0.00705512069655833, 'today'), (0.006474018849085028, 'simply'), (0.005974050631917162, 'given'), (0.005575537756162483, 'sundays'), (0.005558845047829822, 'important'), (0.005425291640622516, 'simple')]}\n",
            "RMSE between LLM quinellas and Skew Normal quinellas: 0.008844\n",
            "RMSE between LLM quinellas and Harville quinellas: 0.008895\n",
            "RMSE between Skew and Harville quinellas: 0.000986\n",
            "The Skew Normal model better predicts the actual quinella probabilities.\n"
          ]
        }
      ]
    },
    {
      "cell_type": "code",
      "source": [
        "prompt_pair_template = (\n",
        "    \"The most interesting chemical element has the name [MASK].\",\n",
        "    \"The two most interesting chemical elements have the names [ANSWER] and [MASK].\"\n",
        ")\n",
        "\n",
        "something_list = ['like the sound']\n",
        "for something in something_list:\n",
        "    prompt_pair = [pp.replace('SOMETHING', something) for pp in prompt_pair_template]\n",
        "    quinella_comparison(prompt_pair=prompt_pair, top_k=50)"
      ],
      "metadata": {
        "id": "QDRoVfdIY3m6",
        "outputId": "36d23cba-047e-46c9-f635-051babad56a8",
        "colab": {
          "base_uri": "https://localhost:8080/"
        }
      },
      "execution_count": 52,
      "outputs": [
        {
          "output_type": "stream",
          "name": "stdout",
          "text": [
            "{'prob': 0.3795658331364393}\n",
            "{'probs': [(0.11579575219299466, 'lithium'), (0.09582526030613091, 'water'), (0.0720433581951287, 'hydrogen'), (0.04146957479751664, 'oxygen'), (0.03368290190315331, 'methane'), (0.03240269410039673, 'carbon'), (0.024383122984585347, 'gold'), (0.024082898998029005, 'dna'), (0.02381726660141751, 'salt'), (0.023712130054563584, 'sulfur'), (0.022951110168472427, 'phosphorus'), (0.020419077185791362, 'graphene'), (0.0197395970725082, 'lsd'), (0.01953684442306059, 'helium'), (0.017535024843597456, 'lead'), (0.017095077627546917, 'iron'), (0.016986162456170715, 'arsenic'), (0.016125699723358065, 'uranium'), (0.015409806183306817, 'chlorine'), (0.015362177111933974, 'calcium'), (0.015005941150965594, 'nitrogen'), (0.014754963192639357, 'co'), (0.014496731011326034, 'c'), (0.01409304632242792, 'rust'), (0.014007845700407437, 'silicon'), (0.013964163328738542, 'z'), (0.012893155146814161, 'itself'), (0.012880921236510218, 'iodine'), (0.012409282647518298, 'cho'), (0.01202449476171, 'plutonium'), (0.012009774074812987, 'ho'), (0.011883702966644732, 'diamond'), (0.011622795077512226, 'mercury'), (0.011402659528436002, 'potassium'), (0.011398631858206575, 'copper'), (0.011320534559557515, 'gas'), (0.011147959379590093, 'sodium'), (0.010733640561679286, 'mercury'), (0.010723280014896613, 'ether'), (0.01056770864527944, 'r'), (0.00952803298964944, 'd'), (0.008739821728911613, 'atp'), (0.008435260911937659, 'aluminum'), (0.008402908279704878, 'coffee'), (0.008389712537704354, 'tnt'), (0.008187338364122049, 'water'), (0.008029107235425556, 'e'), (0.007890234809861944, 'alcohol'), (0.007370547574956071, 'caffeine'), (0.0073102674723904615, 'o')]}\n",
            "RMSE between LLM quinellas and Skew Normal quinellas: 0.002679\n",
            "RMSE between LLM quinellas and Harville quinellas: 0.002696\n",
            "RMSE between Skew and Harville quinellas: 0.000166\n",
            "The Skew Normal model better predicts the actual quinella probabilities.\n"
          ]
        }
      ]
    },
    {
      "cell_type": "code",
      "source": [
        "prompt_pair_template = (\n",
        "    \"I engaged in the vacation activity called [MASK] last summer and it is now my favorite SOMETHING.\",\n",
        "    \"I engaged in the vacation activities called [ANSWER] and [MASK] last summer and they are now my two favorite SOMETHINGs.\"\n",
        ")\n",
        "\n",
        "something_list = ['activity', 'vacation activity', '']\n",
        "for something in something_list:\n",
        "    prompt_pair = [pp.replace('SOMETHING', something) for pp in prompt_pair_template]\n",
        "    quinella_comparison(prompt_pair=prompt_pair)\n"
      ],
      "metadata": {
        "colab": {
          "base_uri": "https://localhost:8080/"
        },
        "id": "JZJhgHZRxttN",
        "outputId": "b09133a1-3a8b-429e-b312-90915380da34"
      },
      "execution_count": 55,
      "outputs": [
        {
          "output_type": "stream",
          "name": "stdout",
          "text": [
            "{'prob': 0.6315941195935011}\n",
            "{'probs': [(0.42812472787941647, 'swimming'), (0.14368691703526382, 'surfing'), (0.08261757494431823, 'camping'), (0.07949105053636614, 'hiking'), (0.06531014918578808, 'skiing'), (0.05010741407766632, 'sailing'), (0.0488411574777003, 'yoga'), (0.0430763645231793, 'fishing'), (0.033104422749643085, 'meditation'), (0.025640221590658267, 'diving')]}\n",
            "RMSE between LLM quinellas and Skew Normal quinellas: 0.023784\n",
            "RMSE between LLM quinellas and Harville quinellas: 0.024442\n",
            "RMSE between Skew and Harville quinellas: 0.002185\n",
            "The Skew Normal model better predicts the actual quinella probabilities.\n",
            "{'prob': 0.5109076499938965}\n",
            "{'probs': [(0.29392189306837174, 'swimming'), (0.18406638229373065, 'surfing'), (0.08161915914726851, 'sailing'), (0.08071128544375804, 'yoga'), (0.07826499706939469, 'camping'), (0.07196480082850265, 'hiking'), (0.06175679784936502, 'meditation'), (0.05460636367762035, 'blogging'), (0.04788634393336699, 'skiing'), (0.04520197668862132, 'fishing')]}\n",
            "RMSE between LLM quinellas and Skew Normal quinellas: 0.019957\n",
            "RMSE between LLM quinellas and Harville quinellas: 0.019972\n",
            "RMSE between Skew and Harville quinellas: 0.001734\n",
            "The Skew Normal model better predicts the actual quinella probabilities.\n",
            "{'prob': 0.5687339026480913}\n",
            "{'probs': [(0.22147485852903842, 'swimming'), (0.16223733925404554, 'surfing'), (0.14255620620815732, 'sailing'), (0.08831069102213263, 'skiing'), (0.0869156081010625, 'hiking'), (0.08037475640537911, 'blogging'), (0.07884219901264469, 'camping'), (0.05685606946500949, 'fishing'), (0.04138454517661977, 'diving'), (0.04104772682591053, 'reading')]}\n",
            "RMSE between LLM quinellas and Skew Normal quinellas: 0.018871\n",
            "RMSE between LLM quinellas and Harville quinellas: 0.019074\n",
            "RMSE between Skew and Harville quinellas: 0.001263\n",
            "The Skew Normal model better predicts the actual quinella probabilities.\n"
          ]
        }
      ]
    },
    {
      "cell_type": "code",
      "source": [
        "prompt_pair_template = (\n",
        "    \"I switched to the smartphone brand called [MASK] this year and it is now my favorite SOMETHING.\",\n",
        "    \"I switched to the smartphone brands called [ANSWER] and [MASK] this year and they are now my two favorite SOMETHINGs.\"\n",
        ")\n",
        "\n",
        "something_list = ['smartphone brand', 'brand']\n",
        "for something in something_list:\n",
        "    prompt_pair = [pp.replace('SOMETHING', something) for pp in prompt_pair_template]\n",
        "    quinella_comparison(prompt_pair=prompt_pair)\n"
      ],
      "metadata": {
        "colab": {
          "base_uri": "https://localhost:8080/"
        },
        "id": "66r94XlHzgt2",
        "outputId": "386b39eb-7d41-4ffb-db33-47a682946e45"
      },
      "execution_count": 28,
      "outputs": [
        {
          "output_type": "stream",
          "name": "stdout",
          "text": [
            "{'prob': 0.7154721049591899}\n",
            "{'probs': [(0.2930844866312661, 'xiaomi'), (0.15531123649427597, 'honor'), (0.12775639485817364, 'nokia'), (0.12639666034984054, 'oneplus'), (0.07624195213665853, 'huawei'), (0.07291735367401353, 'samsung'), (0.06670145275832139, 'motorola'), (0.03532356708714012, 'lg'), (0.03278034163110838, 'essential'), (0.013486554379201772, 'lenovo')]}\n",
            "RMSE between LLM quinellas and Skew Normal quinellas: 0.025941\n",
            "RMSE between LLM quinellas and Harville quinellas: 0.026609\n",
            "RMSE between Skew and Harville quinellas: 0.001684\n",
            "The Skew Normal model better predicts the actual quinella probabilities.\n",
            "{'prob': 0.6884101834148169}\n",
            "{'probs': [(0.25390568844685435, 'xiaomi'), (0.15295738853956556, 'honor'), (0.1487764235297814, 'nokia'), (0.13147140731958334, 'oneplus'), (0.08408810405261567, 'motorola'), (0.07404694472230158, 'samsung'), (0.06828638583225738, 'huawei'), (0.03737659045700754, 'essential'), (0.034095702120020575, 'lg'), (0.014995364980012589, 'blackberry')]}\n",
            "RMSE between LLM quinellas and Skew Normal quinellas: 0.020794\n",
            "RMSE between LLM quinellas and Harville quinellas: 0.021497\n",
            "RMSE between Skew and Harville quinellas: 0.001561\n",
            "The Skew Normal model better predicts the actual quinella probabilities.\n"
          ]
        }
      ]
    },
    {
      "cell_type": "code",
      "source": [
        "prompt_pair_template = (\n",
        "    \"The best mode of transportation is [MASK] because it is SOMETHING.\",\n",
        "    \"The two best modes of transportation are [ANSWER] and [MASK] because they are SOMETHING.\"\n",
        ")\n",
        "\n",
        "transport_adjectives = [\n",
        "    'fast',\n",
        "    'efficient',\n",
        "    'convenient',\n",
        "    'affordable',\n",
        "    'reliable',\n",
        "    'comfortable',\n",
        "    'eco-friendly',\n",
        "    'versatile',\n",
        "    'essential',\n",
        "    'accessible'\n",
        "]\n",
        "\n",
        "something_list = transport_adjectives\n",
        "for something in something_list:\n",
        "    prompt_pair = [pp.replace('SOMETHING', something) for pp in prompt_pair_template]\n",
        "    quinella_comparison(prompt_pair=prompt_pair, top_k=20)\n"
      ],
      "metadata": {
        "id": "GAWAksk9E59n",
        "outputId": "f56cd9f4-8a2f-4d45-a886-7952943e5f0b",
        "colab": {
          "base_uri": "https://localhost:8080/"
        }
      },
      "execution_count": 97,
      "outputs": [
        {
          "output_type": "stream",
          "name": "stdout",
          "text": [
            "{'prob': 0.800025041680783}\n",
            "{'probs': [(0.2593603197507496, 'cycling'), (0.19216904521577705, 'bicycle'), (0.11441489166820928, 'transit'), (0.09236855940714489, 'walking'), (0.07666961579160964, 'biking'), (0.03957732561160317, 'rail'), (0.0381996865330364, 'bus'), (0.030054962114852583, 'transportation'), (0.026711560519816442, 'bicycles'), (0.01690635273339669, 'driving'), (0.014834916352199677, 'transport'), (0.013543630292180012, 'bike'), (0.013302029495872914, 'buses'), (0.012605693254547733, 'uber'), (0.012369541688882987, 'electric'), (0.012137236365055952, 'train'), (0.009928311971678878, 'car'), (0.009194401533078935, 'underground'), (0.007859425588286196, 'automobile'), (0.00779249411202102, 'cars')]}\n",
            "RMSE between LLM quinellas and Skew Normal quinellas: 0.014350\n",
            "RMSE between LLM quinellas and Harville quinellas: 0.015152\n",
            "RMSE between Skew and Harville quinellas: 0.001322\n",
            "The Skew Normal model better predicts the actual quinella probabilities.\n",
            "{'prob': 0.6656899466179311}\n",
            "{'probs': [(0.17900357926996716, 'cycling'), (0.17451112582311484, 'bicycle'), (0.17243902281633114, 'transit'), (0.10351064282426682, 'transportation'), (0.06528969516825049, 'rail'), (0.05222771348723087, 'walking'), (0.0467597335267777, 'transport'), (0.028318076085425758, 'bus'), (0.02760095386807509, 'bicycles'), (0.02268816918288973, 'biking'), (0.018830132685566804, 'electric'), (0.016587862429042987, 'driving'), (0.013312295366203241, 'road'), (0.011656580421669064, 'mobility'), (0.011649855966872005, 'simply'), (0.011337102714473113, 'this'), (0.011251076140984879, 'convenient'), (0.011191489902711382, 'cars'), (0.01110732054627154, 'automobile'), (0.010727571773875396, 'underground')]}\n",
            "RMSE between LLM quinellas and Skew Normal quinellas: 0.012713\n",
            "RMSE between LLM quinellas and Harville quinellas: 0.013334\n",
            "RMSE between Skew and Harville quinellas: 0.001086\n",
            "The Skew Normal model better predicts the actual quinella probabilities.\n",
            "{'prob': 0.7182092210277915}\n",
            "{'probs': [(0.21692695845328544, 'cycling'), (0.18002786641643068, 'bicycle'), (0.16096354646527233, 'walking'), (0.12817684824592643, 'transit'), (0.04440179365134266, 'transportation'), (0.04274980526083622, 'biking'), (0.04042081292293563, 'simply'), (0.021422012787382348, 'driving'), (0.01964621273194486, 'convenient'), (0.019466053014144995, 'bus'), (0.018516730833799632, 'bicycles'), (0.017470187709104246, 'rail'), (0.017430594688939396, 'there'), (0.014480683220568955, 'transport'), (0.014313534879454451, 'here'), (0.010011257823309055, 'underground'), (0.009877285639938881, 'bike'), (0.008446072458048584, 'car'), (0.007846057244048374, 'fast'), (0.007405685553286794, 'travel')]}\n",
            "RMSE between LLM quinellas and Skew Normal quinellas: 0.013457\n",
            "RMSE between LLM quinellas and Harville quinellas: 0.013973\n",
            "RMSE between Skew and Harville quinellas: 0.001310\n",
            "The Skew Normal model better predicts the actual quinella probabilities.\n",
            "{'prob': 0.7603131337091327}\n",
            "{'probs': [(0.29289156125602395, 'cycling'), (0.13310694350158458, 'bicycle'), (0.12398828809638751, 'walking'), (0.115201272364323, 'biking'), (0.09016916510465614, 'transit'), (0.03848711332546333, 'transportation'), (0.025158514078316895, 'bus'), (0.023818194637301084, 'rail'), (0.02158433053550107, 'uber'), (0.02091917216233752, 'bicycles'), (0.01955775837828543, 'here'), (0.01524063405810165, 'bike'), (0.014621773976776118, 'driving'), (0.01249772393067571, 'transport'), (0.010686057819218213, 'there'), (0.009264652977888749, 'buses'), (0.0088618411799894, 'train'), (0.008624914139403151, 'this'), (0.007851425700818634, 'electric'), (0.007468662776947879, 'online')]}\n",
            "RMSE between LLM quinellas and Skew Normal quinellas: 0.016028\n",
            "RMSE between LLM quinellas and Harville quinellas: 0.016534\n",
            "RMSE between Skew and Harville quinellas: 0.001255\n",
            "The Skew Normal model better predicts the actual quinella probabilities.\n",
            "{'prob': 0.6781111704185605}\n",
            "{'probs': [(0.1657389016789316, 'transit'), (0.1620926820999378, 'bicycle'), (0.15452823146081776, 'cycling'), (0.10482290999312507, 'walking'), (0.08026970690431917, 'transportation'), (0.0729844314368312, 'rail'), (0.03427621266423329, 'transport'), (0.029803383408550824, 'bus'), (0.024012091749213288, 'electric'), (0.02270684564035836, 'underground'), (0.021077968551247633, 'biking'), (0.016805463055645675, 'bicycles'), (0.016701452202709504, 'driving'), (0.01515002977031177, 'convenient'), (0.014973339596526695, 'road'), (0.01440716495403396, 'train'), (0.01363327624881917, 'reliable'), (0.01214190054041159, 'there'), (0.012071562878362876, 'automobile'), (0.011802445165612789, 'water')]}\n",
            "RMSE between LLM quinellas and Skew Normal quinellas: 0.011949\n",
            "RMSE between LLM quinellas and Harville quinellas: 0.012373\n",
            "RMSE between Skew and Harville quinellas: 0.000937\n",
            "The Skew Normal model better predicts the actual quinella probabilities.\n",
            "{'prob': 0.8244172008708119}\n",
            "{'probs': [(0.3638957182726836, 'walking'), (0.19730835113480016, 'cycling'), (0.13479752186921254, 'bicycle'), (0.07929365297285446, 'transit'), (0.06078176398731607, 'biking'), (0.03385706486558814, 'transportation'), (0.026135106788167505, 'driving'), (0.019068716535677835, 'bicycles'), (0.012181664270325247, 'bike'), (0.011134549220680977, 'transport'), (0.009781327570574684, 'bus'), (0.007113231050077428, 'car'), (0.007076362448628631, 'simply'), (0.006486844960707113, 'convenient'), (0.006424325984233532, 'riding'), (0.0055627186355992325, 'train'), (0.00537786049706787, 'rail'), (0.004628645814433066, 'simple'), (0.004583336289784006, 'easy'), (0.004511236831587911, 'cars')]}\n",
            "RMSE between LLM quinellas and Skew Normal quinellas: 0.016084\n",
            "RMSE between LLM quinellas and Harville quinellas: 0.016602\n",
            "RMSE between Skew and Harville quinellas: 0.001955\n",
            "The Skew Normal model better predicts the actual quinella probabilities.\n",
            "{'prob': 0.8571805879473686}\n",
            "{'probs': [(0.4286941081565618, 'cycling'), (0.1771675194161686, 'bicycle'), (0.0676174797464913, 'walking'), (0.06695219267373521, 'biking'), (0.05602105596361948, 'transit'), (0.046164667244641536, 'green'), (0.03112722848961412, 'bicycles'), (0.02294978772969888, 'transportation'), (0.015527566507824839, 'transport'), (0.012705069337036549, 'bike'), (0.011974197069416551, 'electric'), (0.011453557272563681, 'sustainable'), (0.011072209416886643, 'water'), (0.007804110152149221, 'driving'), (0.0077329066907250886, 'rail'), (0.006654596625149542, 'bus'), (0.006092338087294429, 'mobility'), (0.004382367159819295, 'car'), (0.004002271489833739, 'uber'), (0.0039047707707695004, 'this')]}\n",
            "RMSE between LLM quinellas and Skew Normal quinellas: 0.017263\n",
            "RMSE between LLM quinellas and Harville quinellas: 0.018777\n",
            "RMSE between Skew and Harville quinellas: 0.002032\n",
            "The Skew Normal model better predicts the actual quinella probabilities.\n",
            "{'prob': 0.8130162577144802}\n",
            "{'probs': [(0.30108993966587444, 'bicycle'), (0.21312046677384747, 'cycling'), (0.08425296300380335, 'walking'), (0.07311679462976739, 'transit'), (0.06598355621127475, 'transportation'), (0.04975193410509751, 'bicycles'), (0.0433964776752333, 'biking'), (0.028881362157050106, 'transport'), (0.028457335916991962, 'mobility'), (0.017624458759836058, 'bus'), (0.015754258382018646, 'rail'), (0.012991073831366511, 'bike'), (0.011438700114262117, 'automobile'), (0.009800286741842572, 'motorcycles'), (0.009161464352297383, 'driving'), (0.007432933290041026, 'car'), (0.007249270528544701, 'travel'), (0.006990149809456214, 'buses'), (0.006821382756359445, 'train'), (0.00668519129503507, 'electric')]}\n",
            "RMSE between LLM quinellas and Skew Normal quinellas: 0.016665\n",
            "RMSE between LLM quinellas and Harville quinellas: 0.017748\n",
            "RMSE between Skew and Harville quinellas: 0.001587\n",
            "The Skew Normal model better predicts the actual quinella probabilities.\n",
            "{'prob': 0.41494525875896215}\n",
            "{'probs': [(0.18309489867555842, 'cycling'), (0.10420699138053184, 'transportation'), (0.08942193124734579, 'bicycle'), (0.07784464351505836, 'transit'), (0.05090659054634188, 'there'), (0.04604127170995353, 'reliable'), (0.043463475136878656, 'here'), (0.04249107752142297, 'public'), (0.041561988752183594, 'transport'), (0.03482746316554686, 'essential'), (0.033996750745732614, 'simple'), (0.03347638247931918, 'mobility'), (0.031183161565480035, 'shared'), (0.029975516743428656, 'available'), (0.029346941450432786, 'necessary'), (0.029270105057327, 'chosen'), (0.026492229515185633, 'convenient'), (0.024400014526957725, 'electric'), (0.02420597536433651, 'underground'), (0.023792590900977947, 'used')]}\n",
            "RMSE between LLM quinellas and Skew Normal quinellas: 0.007515\n",
            "RMSE between LLM quinellas and Harville quinellas: 0.007846\n",
            "RMSE between Skew and Harville quinellas: 0.000520\n",
            "The Skew Normal model better predicts the actual quinella probabilities.\n",
            "{'prob': 0.6084054950624704}\n",
            "{'probs': [(0.21953657519466524, 'transit'), (0.12739654006624204, 'cycling'), (0.08938540254690788, 'transportation'), (0.08041131193041333, 'bicycle'), (0.07974598256189849, 'walking'), (0.07314693899827635, 'convenient'), (0.03356382766973749, 'simply'), (0.03311078710916572, 'biking'), (0.031251382562969415, 'accessible'), (0.029859122996637844, 'public'), (0.025972625309078356, 'there'), (0.02343443601716022, 'transport'), (0.023416294984705155, 'easy'), (0.023109368492979964, 'reliable'), (0.021693533697482885, 'simple'), (0.02070560285856259, 'affordable'), (0.01898218334469652, 'available'), (0.016455226766992816, 'safe'), (0.01452058079237158, 'fast'), (0.014302276099056105, 'shared')]}\n",
            "RMSE between LLM quinellas and Skew Normal quinellas: 0.010082\n",
            "RMSE between LLM quinellas and Harville quinellas: 0.010076\n",
            "RMSE between Skew and Harville quinellas: 0.000772\n",
            "The Harville model better predicts the actual quinella probabilities.\n"
          ]
        }
      ]
    },
    {
      "cell_type": "code",
      "source": [
        "prompt_pair_template = (\n",
        "    \"The most challenging language to learn is [MASK] because it is SOMETHING.\",\n",
        "    \"The two most challenging languages to learn are [ANSWER] and [MASK] because they are SOMETHING.\"\n",
        ")\n",
        "\n",
        "language_adjectives = [\n",
        "    'complex',\n",
        "    'intricate',\n",
        "    'unique',\n",
        "    'difficult',\n",
        "    'uncommon',\n",
        "    'rich',\n",
        "    'nuanced',\n",
        "    'ancient',\n",
        "    'expressive',\n",
        "    'essential'\n",
        "]\n",
        "\n",
        "something_list = language_adjectives\n",
        "for something in something_list:\n",
        "    prompt_pair = [pp.replace('SOMETHING', something) for pp in prompt_pair_template]\n",
        "    quinella_comparison(prompt_pair=prompt_pair, top_k=20)\n"
      ],
      "metadata": {
        "collapsed": true,
        "id": "ZGNHJxGCFJXq",
        "outputId": "375b233f-61e8-4426-efc8-bbc05c66b3cb",
        "colab": {
          "base_uri": "https://localhost:8080/"
        }
      },
      "execution_count": 98,
      "outputs": [
        {
          "output_type": "stream",
          "name": "stdout",
          "text": [
            "{'prob': 0.8598209386691451}\n",
            "{'probs': [(0.2419088975472339, 'english'), (0.15717430692026563, 'chinese'), (0.08877156662090895, 'japanese'), (0.08410655785219186, 'spanish'), (0.06219077286672986, 'korean'), (0.057407461499151956, 'russian'), (0.04744182907567945, 'french'), (0.040595789175076724, 'greek'), (0.03545365547518774, 'mandarin'), (0.034800198798191385, 'german'), (0.02520611365604495, 'latin'), (0.022287295439390512, 'italian'), (0.01616240313881296, 'vietnamese'), (0.014607419351711875, 'portuguese'), (0.01370643165466549, 'hebrew'), (0.013153104338993906, 'python'), (0.012238990924194405, 'arabic'), (0.010995082748470664, 'klingon'), (0.010951056677849014, 'swedish'), (0.010841066239248758, 'dutch')]}\n",
            "RMSE between LLM quinellas and Skew Normal quinellas: 0.008457\n",
            "RMSE between LLM quinellas and Harville quinellas: 0.009148\n",
            "RMSE between Skew and Harville quinellas: 0.000951\n",
            "The Skew Normal model better predicts the actual quinella probabilities.\n",
            "{'prob': 0.8178384946659207}\n",
            "{'probs': [(0.16617682236322792, 'chinese'), (0.09403068355277491, 'greek'), (0.08968499851967335, 'japanese'), (0.0776972980083889, 'latin'), (0.07331606996723808, 'korean'), (0.07004907856032738, 'english'), (0.06515029731392576, 'spanish'), (0.06259506341166095, 'french'), (0.03842584982347787, 'russian'), (0.036589839142915546, 'mandarin'), (0.03569366157330875, 'italian'), (0.029348881620610213, 'german'), (0.028205169296880578, 'hebrew'), (0.025313276650297922, 'arabic'), (0.021421661174724178, 'sanskrit'), (0.020517309578724403, 'vietnamese'), (0.016791316640434113, 'thai'), (0.016431624177552506, 'klingon'), (0.016290758304212113, 'hungarian'), (0.016270340319644538, 'persian')]}\n",
            "RMSE between LLM quinellas and Skew Normal quinellas: 0.005929\n",
            "RMSE between LLM quinellas and Harville quinellas: 0.006061\n",
            "RMSE between Skew and Harville quinellas: 0.000492\n",
            "The Skew Normal model better predicts the actual quinella probabilities.\n",
            "{'prob': 0.7998399613425136}\n",
            "{'probs': [(0.18793285640379298, 'english'), (0.13451363291775728, 'spanish'), (0.0981243766291356, 'korean'), (0.08362693999672126, 'chinese'), (0.07996162006257088, 'japanese'), (0.0681916648397739, 'russian'), (0.04834170808175708, 'french'), (0.047428945777388494, 'german'), (0.0347573527955169, 'latin'), (0.03187595118049771, 'italian'), (0.02510751420662595, 'vietnamese'), (0.023483824293435724, 'mandarin'), (0.021507795788266015, 'greek'), (0.02059768595555115, 'arabic'), (0.02038493164667295, 'hebrew'), (0.017315240640210294, 'portuguese'), (0.015351284490662082, 'swedish'), (0.014516959895020994, 'klingon'), (0.014258975006077484, 'dutch'), (0.012720739392565291, 'finnish')]}\n",
            "RMSE between LLM quinellas and Skew Normal quinellas: 0.006716\n",
            "RMSE between LLM quinellas and Harville quinellas: 0.007237\n",
            "RMSE between Skew and Harville quinellas: 0.000701\n",
            "The Skew Normal model better predicts the actual quinella probabilities.\n",
            "{'prob': 0.8223390718922019}\n",
            "{'probs': [(0.2014853124820158, 'english'), (0.11038737004934275, 'spanish'), (0.10715407318097875, 'chinese'), (0.0803821554909653, 'japanese'), (0.07884087457465266, 'russian'), (0.06503054364700087, 'korean'), (0.047304277400530274, 'french'), (0.044035450842760164, 'german'), (0.04177949450500204, 'latin'), (0.04143831797838695, 'greek'), (0.035578043850162354, 'italian'), (0.025006724530538694, 'mandarin'), (0.019547621502644587, 'swedish'), (0.01748938655004762, 'hungarian'), (0.015874441438983904, 'hebrew'), (0.015321961110879478, 'portuguese'), (0.013809313916906972, 'vietnamese'), (0.013593107398809229, 'arabic'), (0.013199162963916091, 'romanian'), (0.012742366585475498, 'dutch')]}\n",
            "RMSE between LLM quinellas and Skew Normal quinellas: 0.006613\n",
            "RMSE between LLM quinellas and Harville quinellas: 0.007068\n",
            "RMSE between Skew and Harville quinellas: 0.000671\n",
            "The Skew Normal model better predicts the actual quinella probabilities.\n",
            "{'prob': 0.7722177971154451}\n",
            "{'probs': [(0.15815438918776248, 'spanish'), (0.13706845846845572, 'english'), (0.08946082810643499, 'chinese'), (0.08708888305237077, 'japanese'), (0.07701216644197048, 'russian'), (0.06876635259885461, 'korean'), (0.05074973562541982, 'french'), (0.04432950834226417, 'latin'), (0.042637367269601684, 'german'), (0.0329503715909522, 'mandarin'), (0.03105510267464493, 'italian'), (0.02717424720725386, 'portuguese'), (0.02602584753026218, 'greek'), (0.025830086155386955, 'vietnamese'), (0.023681805328433152, 'dutch'), (0.01836341025466435, 'swedish'), (0.017025623103820223, 'navajo'), (0.015058611921431386, 'czech'), (0.014030374449643798, 'arabic'), (0.013536830690372259, 'finnish')]}\n",
            "RMSE between LLM quinellas and Skew Normal quinellas: 0.005129\n",
            "RMSE between LLM quinellas and Harville quinellas: 0.005133\n",
            "RMSE between Skew and Harville quinellas: 0.000593\n",
            "The Skew Normal model better predicts the actual quinella probabilities.\n",
            "{'prob': 0.8566735293716192}\n",
            "{'probs': [(0.19728115460450052, 'english'), (0.12509160797770671, 'spanish'), (0.11545628413849246, 'chinese'), (0.06696909997990773, 'japanese'), (0.06243391137003971, 'french'), (0.05680288304023626, 'russian'), (0.04468043906618398, 'korean'), (0.03958980977382917, 'greek'), (0.03777261032936291, 'latin'), (0.03598898388880442, 'german'), (0.03320086778246378, 'mandarin'), (0.031218490724250404, 'italian'), (0.028953035907422427, 'hebrew'), (0.026694364833369677, 'arabic'), (0.02402487073170465, 'vietnamese'), (0.019410658041334863, 'portuguese'), (0.015569646350813095, 'hindi'), (0.013912753053527325, 'tamil'), (0.013685591164448124, 'turkish'), (0.011262937241601776, 'swedish')]}\n",
            "RMSE between LLM quinellas and Skew Normal quinellas: 0.006712\n",
            "RMSE between LLM quinellas and Harville quinellas: 0.007170\n",
            "RMSE between Skew and Harville quinellas: 0.000699\n",
            "The Skew Normal model better predicts the actual quinella probabilities.\n",
            "{'prob': 0.8671250911429524}\n",
            "{'probs': [(0.24166347970988175, 'english'), (0.22464007875545333, 'spanish'), (0.08459942307766478, 'chinese'), (0.07978759225031737, 'french'), (0.042522917463137355, 'russian'), (0.042420317061169284, 'latin'), (0.04201921229903265, 'korean'), (0.0359857312621701, 'japanese'), (0.029111631066422627, 'german'), (0.02310976317158679, 'mandarin'), (0.02139118495792442, 'greek'), (0.02112814522878536, 'arabic'), (0.018485164544991894, 'italian'), (0.01622658415917995, 'portuguese'), (0.015271153896020045, 'vietnamese'), (0.014699970343856889, 'hindi'), (0.013592915357610157, 'swedish'), (0.011226928263838106, 'catalan'), (0.01107911636449915, 'dutch'), (0.011038690766457986, 'hebrew')]}\n",
            "RMSE between LLM quinellas and Skew Normal quinellas: 0.009452\n",
            "RMSE between LLM quinellas and Harville quinellas: 0.010521\n",
            "RMSE between Skew and Harville quinellas: 0.001364\n",
            "The Skew Normal model better predicts the actual quinella probabilities.\n",
            "{'prob': 0.8238120805472136}\n",
            "{'probs': [(0.12954079712215733, 'greek'), (0.11548306547002432, 'latin'), (0.10948366341149969, 'english'), (0.10932485930096215, 'chinese'), (0.0756296866400082, 'spanish'), (0.06324028446339117, 'hebrew'), (0.05901899283008123, 'russian'), (0.04553185350871132, 'japanese'), (0.03750116020764666, 'arabic'), (0.03717122949664575, 'italian'), (0.029946072058579316, 'german'), (0.028598676745914754, 'korean'), (0.027386191218368286, 'sanskrit'), (0.02529921362640019, 'french'), (0.023235931391206874, 'persian'), (0.021260882705897054, 'portuguese'), (0.01804418602055211, 'hungarian'), (0.01701235497834008, 'vietnamese'), (0.01387779955863916, 'mandarin'), (0.013413099244974363, 'romanian')]}\n",
            "RMSE between LLM quinellas and Skew Normal quinellas: 0.006447\n",
            "RMSE between LLM quinellas and Harville quinellas: 0.006675\n",
            "RMSE between Skew and Harville quinellas: 0.000527\n",
            "The Skew Normal model better predicts the actual quinella probabilities.\n",
            "{'prob': 0.8470384762622416}\n",
            "{'probs': [(0.3053356229172125, 'english'), (0.10320376262165758, 'japanese'), (0.09808443471477563, 'korean'), (0.08743591882591076, 'chinese'), (0.07895057678950711, 'spanish'), (0.061322622150088796, 'french'), (0.03652624153710256, 'german'), (0.0347156479758755, 'russian'), (0.03393921971391777, 'greek'), (0.025186876215700423, 'latin'), (0.024819241509526437, 'mandarin'), (0.019150403268243556, 'dutch'), (0.01674195306241118, 'python'), (0.013618874441284958, 'hebrew'), (0.013497644180048588, 'vietnamese'), (0.011315106954705013, 'italian'), (0.010972197904619722, 'portuguese'), (0.008976143780904009, 'catalan'), (0.008911015184515453, 'danish'), (0.007296496251992461, 'swedish')]}\n",
            "RMSE between LLM quinellas and Skew Normal quinellas: 0.009712\n",
            "RMSE between LLM quinellas and Harville quinellas: 0.010423\n",
            "RMSE between Skew and Harville quinellas: 0.000952\n",
            "The Skew Normal model better predicts the actual quinella probabilities.\n",
            "{'prob': 0.8365966146811843}\n",
            "{'probs': [(0.39136271740677153, 'english'), (0.08120874492726463, 'spanish'), (0.06282301813244856, 'latin'), (0.061592166728344125, 'chinese'), (0.050035312976052716, 'french'), (0.041492287377185584, 'russian'), (0.04136561541693538, 'greek'), (0.038243813076702424, 'japanese'), (0.03665038784437666, 'german'), (0.034594619085605294, 'korean'), (0.02759836111722536, 'hebrew'), (0.02615737684131698, 'italian'), (0.020023108938436864, 'arabic'), (0.01641980664848005, 'mandarin'), (0.015574319071280837, 'persian'), (0.014319808237612676, 'sanskrit'), (0.013782945244974257, 'portuguese'), (0.009928400808526189, 'hungarian'), (0.00844450661203019, 'hindi'), (0.00838268350842968, 'swedish')]}\n",
            "RMSE between LLM quinellas and Skew Normal quinellas: 0.010108\n",
            "RMSE between LLM quinellas and Harville quinellas: 0.010716\n",
            "RMSE between Skew and Harville quinellas: 0.000798\n",
            "The Skew Normal model better predicts the actual quinella probabilities.\n"
          ]
        }
      ]
    },
    {
      "cell_type": "code",
      "source": [
        "prompt_pair_template = (\n",
        "    \"I brewed the tea variety called [MASK] yesterday and it is now my favorite SOMETHING.\",\n",
        "    \"I brewed the tea varieties called [ANSWER] and [MASK] yesterday and they are now my two favorite SOMETHINGs.\"\n",
        ")\n",
        "\n",
        "something_list = ['tea', 'tea variety', 'favorite tea']\n",
        "for something in something_list:\n",
        "    prompt_pair = [pp.replace('SOMETHING', something) for pp in prompt_pair_template]\n",
        "    quinella_comparison(prompt_pair=prompt_pair)\n"
      ],
      "metadata": {
        "colab": {
          "base_uri": "https://localhost:8080/"
        },
        "id": "qhHJgFT8z7dr",
        "outputId": "99d2a92b-ceb1-4c87-af70-d7a28d18d2ad"
      },
      "execution_count": 29,
      "outputs": [
        {
          "output_type": "stream",
          "name": "stdout",
          "text": [
            "{'prob': 0.09648891072720289}\n",
            "{'probs': [(0.16504693309716784, 'cinnamon'), (0.13301019450190324, 'ginger'), (0.1060471991192556, 'cascade'), (0.10083864474231295, 'rose'), (0.09705181873020778, 'tea'), (0.09551536526340312, 'ginger'), (0.07966699876073531, 'clover'), (0.07584137122499662, 'peach'), (0.07572219166950785, 'vanilla'), (0.07125928289050966, 'vanilla')]}\n",
            "RMSE between LLM quinellas and Skew Normal quinellas: 0.021880\n",
            "RMSE between LLM quinellas and Harville quinellas: 0.021960\n",
            "RMSE between Skew and Harville quinellas: 0.000563\n",
            "The Skew Normal model better predicts the actual quinella probabilities.\n",
            "{'prob': 0.0998301962390542}\n",
            "{'probs': [(0.174924761309061, 'cinnamon'), (0.12780889690156222, 'ginger'), (0.1221456961977998, 'cascade'), (0.11385447870354555, 'tea'), (0.09130866162716073, 'rose'), (0.07780159550739008, 'clover'), (0.0776424602850196, 'vanilla'), (0.07507351514583799, 'peach'), (0.07041582925464199, 'ginger'), (0.06902410506798105, 'vanilla')]}\n",
            "RMSE between LLM quinellas and Skew Normal quinellas: 0.024327\n",
            "RMSE between LLM quinellas and Harville quinellas: 0.024517\n",
            "RMSE between Skew and Harville quinellas: 0.000671\n",
            "The Skew Normal model better predicts the actual quinella probabilities.\n",
            "{'prob': 0.10171101847663522}\n",
            "{'probs': [(0.16191740174463237, 'cinnamon'), (0.13217267034762942, 'ginger'), (0.11154260310129144, 'cascade'), (0.10615136979161452, 'rose'), (0.09883606034094919, 'ginger'), (0.08524428011845964, 'tea'), (0.08181226580936403, 'clover'), (0.07840663153635155, 'vanilla'), (0.0733712311257469, 'peach'), (0.07054548608396097, 'vanilla')]}\n",
            "RMSE between LLM quinellas and Skew Normal quinellas: 0.021763\n",
            "RMSE between LLM quinellas and Harville quinellas: 0.021846\n",
            "RMSE between Skew and Harville quinellas: 0.000564\n",
            "The Skew Normal model better predicts the actual quinella probabilities.\n"
          ]
        }
      ]
    },
    {
      "cell_type": "code",
      "source": [
        "prompt_pair_template = (\n",
        "    \"The most important human organ is the [MASK] because it is SOMETHING.\",\n",
        "    \"The two most important human organs are the [ANSWER] and the [MASK] because they are SOMETHING.\"\n",
        ")\n",
        "\n",
        "organ_adjectives = [\n",
        "    'vital',\n",
        "    'complex',\n",
        "    'essential',\n",
        "    'sensitive',\n",
        "    'strong',\n",
        "    'efficient',\n",
        "    'delicate',\n",
        "    'versatile',\n",
        "    'powerful',\n",
        "    'remarkable'\n",
        "]\n",
        "\n",
        "something_list = organ_adjectives\n",
        "for something in something_list:\n",
        "    prompt_pair = [pp.replace('SOMETHING', something) for pp in prompt_pair_template]\n",
        "    quinella_comparison(prompt_pair=prompt_pair, top_k=20)\n"
      ],
      "metadata": {
        "id": "VLupYvgcFj2L",
        "outputId": "de5dc385-a802-4a42-b153-b90963830ce8",
        "colab": {
          "base_uri": "https://localhost:8080/"
        }
      },
      "execution_count": 99,
      "outputs": [
        {
          "output_type": "stream",
          "name": "stdout",
          "text": [
            "{'prob': 0.968490767176263}\n",
            "{'probs': [(0.5136260595670225, 'heart'), (0.30944774084312004, 'brain'), (0.05036030060399719, 'liver'), (0.03874833118923415, 'kidney'), (0.022174568206704038, 'organ'), (0.014354381378135874, 'eye'), (0.009996271377024206, 'ear'), (0.007718267818702663, 'lung'), (0.0064907796948654355, 'body'), (0.0045946177050162715, 'bladder'), (0.003334466387957748, 'mind'), (0.002981648511708063, 'soul'), (0.0029556303708087417, 'cell'), (0.002870826800146264, 'penis'), (0.002474356788826669, 'skull'), (0.0020755396972343115, 'blood'), (0.001581316905807179, 'thyroid'), (0.0015286811725427848, 'stomach'), (0.0014074962950158104, 'kidneys'), (0.0012787186861301675, 'prostate')]}\n",
            "RMSE between LLM quinellas and Skew Normal quinellas: 0.021030\n",
            "RMSE between LLM quinellas and Harville quinellas: 0.015773\n",
            "RMSE between Skew and Harville quinellas: 0.005756\n",
            "The Harville model better predicts the actual quinella probabilities.\n",
            "{'prob': 0.9821859890944324}\n",
            "{'probs': [(0.766264503949759, 'brain'), (0.15906778033815813, 'heart'), (0.014769951289094087, 'organ'), (0.014100199244743854, 'liver'), (0.009379402657750653, 'mind'), (0.006417276249100712, 'body'), (0.006051536807147934, 'kidney'), (0.004881223977351209, 'eye'), (0.0036848117923200634, 'cell'), (0.002648611278945907, 'skull'), (0.001954234115187218, 'hippocampus'), (0.0015684349675214727, 'cortex'), (0.0015118212538140579, 'ear'), (0.0012330831789365301, 'lung'), (0.0012201001133577655, 'retina'), (0.0012173850208939152, 'head'), (0.0011789469115415698, 'bladder'), (0.0010157266751659388, 'genome'), (0.0009643716381662397, 'soul'), (0.0008705985410438022, 'nucleus')]}\n",
            "RMSE between LLM quinellas and Skew Normal quinellas: 0.024335\n",
            "RMSE between LLM quinellas and Harville quinellas: 0.014544\n",
            "RMSE between Skew and Harville quinellas: 0.009971\n",
            "The Harville model better predicts the actual quinella probabilities.\n",
            "{'prob': 0.9443648390006274}\n",
            "{'probs': [(0.40213615532791797, 'brain'), (0.38306650320817676, 'heart'), (0.04174292701691764, 'liver'), (0.03521723694223434, 'kidney'), (0.03244611579141565, 'organ'), (0.019274170045645078, 'eye'), (0.016064258723249215, 'ear'), (0.014701646774701324, 'body'), (0.010814262796149715, 'mind'), (0.007327694287832757, 'soul'), (0.007189644539919268, 'lung'), (0.006329518762593057, 'penis'), (0.005233017690741666, 'bladder'), (0.004725555207910924, 'cell'), (0.004137289791363819, 'skull'), (0.002236101824703334, 'head'), (0.0019274711463614434, 'individual'), (0.0018791313480928074, 'stomach'), (0.0017774774123252314, 'blood'), (0.0017738213617480023, 'embryo')]}\n",
            "RMSE between LLM quinellas and Skew Normal quinellas: 0.023694\n",
            "RMSE between LLM quinellas and Harville quinellas: 0.018648\n",
            "RMSE between Skew and Harville quinellas: 0.005222\n",
            "The Harville model better predicts the actual quinella probabilities.\n",
            "{'prob': 0.9744025229010731}\n",
            "{'probs': [(0.5966101806499493, 'brain'), (0.21506887832913268, 'heart'), (0.07420583960399324, 'ear'), (0.03715580165954242, 'eye'), (0.01373796164896351, 'retina'), (0.00888806602096714, 'liver'), (0.008214349932424533, 'kidney'), (0.008115645670048249, 'skin'), (0.006460763144487158, 'organ'), (0.005382767701825054, 'mind'), (0.004001922836832261, 'bladder'), (0.0037553628964439776, 'skull'), (0.003406687485076515, 'blood'), (0.0032072988058204316, 'body'), (0.002457876156161994, 'nerve'), (0.0024246166333366822, 'cortex'), (0.002357271547608992, 'tongue'), (0.0016044914524420595, 'stomach'), (0.001543245132669538, 'thyroid'), (0.0014009726922741845, 'head')]}\n",
            "RMSE between LLM quinellas and Skew Normal quinellas: 0.020472\n",
            "RMSE between LLM quinellas and Harville quinellas: 0.016128\n",
            "RMSE between Skew and Harville quinellas: 0.005108\n",
            "The Harville model better predicts the actual quinella probabilities.\n",
            "{'prob': 0.971651065396145}\n",
            "{'probs': [(0.4786070137500301, 'brain'), (0.43144544621092545, 'heart'), (0.01582340767331547, 'liver'), (0.012880125804581302, 'body'), (0.010040048913920473, 'organ'), (0.007074803134933591, 'kidney'), (0.006961227242222051, 'skull'), (0.005256373959284257, 'penis'), (0.00509009714239969, 'bladder'), (0.0046585817874059505, 'mind'), (0.004109400162785834, 'cell'), (0.003932009358104725, 'muscle'), (0.0029099300807719874, 'lung'), (0.001994626534388772, 'ear'), (0.0018405493205680384, 'leg'), (0.0017973267126730615, 'eye'), (0.0015194766583239217, 'head'), (0.001461709609444776, 'stomach'), (0.0013421988362271907, 'soul'), (0.0012556471076933214, 'blood')]}\n",
            "RMSE between LLM quinellas and Skew Normal quinellas: 0.015566\n",
            "RMSE between LLM quinellas and Harville quinellas: 0.007390\n",
            "RMSE between Skew and Harville quinellas: 0.008413\n",
            "The Harville model better predicts the actual quinella probabilities.\n",
            "{'prob': 0.9736862792633474}\n",
            "{'probs': [(0.4669528992437009, 'heart'), (0.37474660575424484, 'brain'), (0.048605615254205176, 'liver'), (0.032049785562203205, 'kidney'), (0.017994388965930634, 'organ'), (0.014451233876159257, 'eye'), (0.008146785610883354, 'body'), (0.007097923420152703, 'bladder'), (0.005493256976265961, 'lung'), (0.005143486714529979, 'ear'), (0.0028310969630492007, 'mind'), (0.0026408766443222795, 'cell'), (0.0024935664438051055, 'kidneys'), (0.002152499536648056, 'blood'), (0.0019981052019693263, 'stomach'), (0.0018002035397487368, 'penis'), (0.0015446021302547503, 'skull'), (0.0014598694245829811, 'muscle'), (0.0013211177897556128, 'intestine'), (0.0010760809475879032, 'prostate')]}\n",
            "RMSE between LLM quinellas and Skew Normal quinellas: 0.013985\n",
            "RMSE between LLM quinellas and Harville quinellas: 0.010621\n",
            "RMSE between Skew and Harville quinellas: 0.006213\n",
            "The Harville model better predicts the actual quinella probabilities.\n",
            "{'prob': 0.9700969778932631}\n",
            "{'probs': [(0.607098638331928, 'heart'), (0.2607699351424161, 'brain'), (0.025040562759788634, 'liver'), (0.023689711686108627, 'eye'), (0.01974820517963494, 'kidney'), (0.011939640602938884, 'ear'), (0.010754128842155541, 'bladder'), (0.010701951190762095, 'organ'), (0.00456715398786611, 'skull'), (0.003425677860785914, 'skin'), (0.0030932186186370773, 'body'), (0.003054139381801116, 'mind'), (0.002960345853288463, 'lung'), (0.0026983264405207796, 'retina'), (0.0025543367633281307, 'stomach'), (0.0019712914702711107, 'hand'), (0.0016572747718184542, 'penis'), (0.001559204307943192, 'soul'), (0.0014217621579761131, 'breast'), (0.0012944946500307564, 'head')]}\n",
            "RMSE between LLM quinellas and Skew Normal quinellas: 0.023364\n",
            "RMSE between LLM quinellas and Harville quinellas: 0.016113\n",
            "RMSE between Skew and Harville quinellas: 0.007333\n",
            "The Harville model better predicts the actual quinella probabilities.\n",
            "{'prob': 0.964799934416078}\n",
            "{'probs': [(0.5040944558336939, 'brain'), (0.3129957922997908, 'heart'), (0.04927090597523062, 'liver'), (0.036838768117060126, 'kidney'), (0.029476722512950103, 'organ'), (0.015862057813541785, 'bladder'), (0.010338246947480884, 'ear'), (0.0068189207911099154, 'eye'), (0.005673034371751233, 'body'), (0.0050375225075172895, 'lung'), (0.0037527731606946794, 'penis'), (0.0031701494275136613, 'cell'), (0.00256379810716278, 'stomach'), (0.0023930136329394203, 'muscle'), (0.0022680073634737674, 'leg'), (0.002115903157553103, 'mind'), (0.0019006905730211106, 'hippocampus'), (0.0018483048812644534, 'intestine'), (0.0018403317343339079, 'skull'), (0.0017406007919164147, 'thyroid')]}\n",
            "RMSE between LLM quinellas and Skew Normal quinellas: 0.022104\n",
            "RMSE between LLM quinellas and Harville quinellas: 0.016797\n",
            "RMSE between Skew and Harville quinellas: 0.005624\n",
            "The Harville model better predicts the actual quinella probabilities.\n",
            "{'prob': 0.9828055131365545}\n",
            "{'probs': [(0.6634518918950768, 'brain'), (0.2605981355157063, 'heart'), (0.014966739836663856, 'organ'), (0.013254131756882767, 'liver'), (0.010109883845547257, 'kidney'), (0.0063145121557939155, 'mind'), (0.004206440082113352, 'body'), (0.0036410334145807375, 'ear'), (0.0036389057789674795, 'bladder'), (0.0034211653365635026, 'eye'), (0.002903233774434031, 'cell'), (0.0026165549531689957, 'lung'), (0.0023403859079546173, 'penis'), (0.0022200104397246965, 'skull'), (0.001274775329640698, 'hippocampus'), (0.0012484843062279029, 'muscle'), (0.0010567140006496865, 'neuron'), (0.0009549666562059673, 'soul'), (0.0009111129851422144, 'blood'), (0.0008709220289551652, 'head')]}\n",
            "RMSE between LLM quinellas and Skew Normal quinellas: 0.020315\n",
            "RMSE between LLM quinellas and Harville quinellas: 0.011020\n",
            "RMSE between Skew and Harville quinellas: 0.009403\n",
            "The Harville model better predicts the actual quinella probabilities.\n",
            "{'prob': 0.9660496492870152}\n",
            "{'probs': [(0.5193430690825678, 'brain'), (0.3596135455786486, 'heart'), (0.020232479090032778, 'eye'), (0.016456106153651916, 'kidney'), (0.011760458068578911, 'organ'), (0.010699302350156327, 'liver'), (0.009714809050182583, 'mind'), (0.008657298414243307, 'ear'), (0.00730959930085949, 'body'), (0.006594836802361755, 'skull'), (0.004727946253784193, 'lung'), (0.0036328151563223775, 'penis'), (0.00358216335621283, 'human'), (0.0032206974165429696, 'retina'), (0.003183463540070896, 'cell'), (0.0028712045268338166, 'bladder'), (0.0027806886740329197, 'soul'), (0.001953746014561796, 'genome'), (0.0018619231475909058, 'head'), (0.0018038480227638824, 'individual')]}\n",
            "RMSE between LLM quinellas and Skew Normal quinellas: 0.021381\n",
            "RMSE between LLM quinellas and Harville quinellas: 0.013601\n",
            "RMSE between Skew and Harville quinellas: 0.007839\n",
            "The Harville model better predicts the actual quinella probabilities.\n"
          ]
        }
      ]
    },
    {
      "cell_type": "code",
      "source": [
        "prompt_pair_template = (\n",
        "    \"I ate the fruit called [MASK] this afternoon and it is now my favorite SOMETHING.\",\n",
        "    \"I ate the fruits called [ANSWER] and [MASK] this afternoon and they are now my two favorite SOMETHINGs.\"\n",
        ")\n",
        "\n",
        "something_list = ['fruit', 'type of fruit', 'favorite fruit']\n",
        "for something in something_list:\n",
        "    prompt_pair = [pp.replace('SOMETHING', something) for pp in prompt_pair_template]\n",
        "    quinella_comparison(prompt_pair=prompt_pair)\n"
      ],
      "metadata": {
        "colab": {
          "base_uri": "https://localhost:8080/"
        },
        "id": "ztHtOG090GOY",
        "outputId": "a9661dcd-70bd-4664-c99e-9adca9cace1f"
      },
      "execution_count": 30,
      "outputs": [
        {
          "output_type": "stream",
          "name": "stdout",
          "text": [
            "{'prob': 0.2631769422441721}\n",
            "{'probs': [(0.16551755620778225, 'mango'), (0.14393737453513394, 'pineapple'), (0.1328730998266746, 'apple'), (0.13285384891980295, 'banana'), (0.09005343506777044, 'orange'), (0.07505096978389689, 'pumpkin'), (0.06780742680877752, 'strawberry'), (0.06537321333271098, 'pear'), (0.0639128904957105, 'lemon'), (0.0626201850217399, 'grapes')]}\n",
            "RMSE between LLM quinellas and Skew Normal quinellas: 0.023441\n",
            "RMSE between LLM quinellas and Harville quinellas: 0.023067\n",
            "RMSE between Skew and Harville quinellas: 0.000842\n",
            "The Harville model better predicts the actual quinella probabilities.\n",
            "{'prob': 0.2485560579225421}\n",
            "{'probs': [(0.1717720440938174, 'mango'), (0.15037793332998234, 'pineapple'), (0.14376653228233646, 'banana'), (0.1224847845065573, 'apple'), (0.07613743498207008, 'strawberry'), (0.07598010881351965, 'orange'), (0.0682770167311929, 'grapes'), (0.0673325576310414, 'pumpkin'), (0.06207267859735935, 'pear'), (0.06179890903212314, 'lemon')]}\n",
            "RMSE between LLM quinellas and Skew Normal quinellas: 0.024127\n",
            "RMSE between LLM quinellas and Harville quinellas: 0.023651\n",
            "RMSE between Skew and Harville quinellas: 0.000919\n",
            "The Harville model better predicts the actual quinella probabilities.\n",
            "{'prob': 0.26606701128184795}\n",
            "{'probs': [(0.1789737518518413, 'mango'), (0.1518488758186845, 'pineapple'), (0.13022331361916648, 'apple'), (0.1264904207600032, 'banana'), (0.07973854544548532, 'orange'), (0.07052421844279674, 'pumpkin'), (0.06977328545935461, 'pear'), (0.0671550449649354, 'strawberry'), (0.0627101007976981, 'peach'), (0.06256244284003434, 'lemon')]}\n",
            "RMSE between LLM quinellas and Skew Normal quinellas: 0.021640\n",
            "RMSE between LLM quinellas and Harville quinellas: 0.021282\n",
            "RMSE between Skew and Harville quinellas: 0.000919\n",
            "The Harville model better predicts the actual quinella probabilities.\n"
          ]
        }
      ]
    },
    {
      "cell_type": "code",
      "source": [
        "prompt_pair_template = (\n",
        "    \"I played the board game called [MASK] last weekend and it is now my favorite SOMETHING.\",\n",
        "    \"I played the board games called [ANSWER] and [MASK] last weekend and they are now my two favorite SOMETHINGs.\"\n",
        ")\n",
        "\n",
        "something_list = ['board game', 'game', 'favorite board game']\n",
        "for something in something_list:\n",
        "    prompt_pair = [pp.replace('SOMETHING', something) for pp in prompt_pair_template]\n",
        "    quinella_comparison(prompt_pair=prompt_pair)\n"
      ],
      "metadata": {
        "colab": {
          "base_uri": "https://localhost:8080/"
        },
        "id": "r5sCm1sw07E4",
        "outputId": "01c22f3d-74c6-4566-a642-0644f84e5ae4"
      },
      "execution_count": null,
      "outputs": [
        {
          "output_type": "stream",
          "name": "stdout",
          "text": [
            "{'probs': [(0.18014872053863223, 'solitaire'), (0.14387330036504362, 'risk'), (0.141436089053964, 'chess'), (0.1251084095848629, 'labyrinth'), (0.11078781341128204, 'cthulhu'), (0.07533666897853732, 'minecraft'), (0.07213013533745527, 'magic'), (0.0520308342274773, 'survivor'), (0.051515416145592595, 'journey'), (0.04763261235715275, 'pathfinder')]}\n",
            "RMSE between LLM quinellas and Skew Normal quinellas: 0.318397\n",
            "RMSE between LLM quinellas and Harville quinellas: 0.318429\n",
            "RMSE between Skew and Harville quinellas: 0.001007\n",
            "The Skew Normal model better predicts the actual quinella probabilities.\n",
            "{'probs': [(0.21528250885499112, 'risk'), (0.21089580387718687, 'solitaire'), (0.14691972499085737, 'chess'), (0.09138884652531944, 'labyrinth'), (0.08618000077499434, 'cthulhu'), (0.057190390092902055, 'magic'), (0.04879540922956983, 'pathfinder'), (0.04834397849477075, 'chess'), (0.047902211549789665, 'dice'), (0.04710112560961856, 'survivor')]}\n",
            "RMSE between LLM quinellas and Skew Normal quinellas: 0.319090\n",
            "RMSE between LLM quinellas and Harville quinellas: 0.319214\n",
            "RMSE between Skew and Harville quinellas: 0.001677\n",
            "The Skew Normal model better predicts the actual quinella probabilities.\n",
            "{'probs': [(0.1911953133038329, 'risk'), (0.1848978337287847, 'solitaire'), (0.1365107540300262, 'chess'), (0.1240922741996379, 'labyrinth'), (0.08417068109514064, 'cthulhu'), (0.07096546217008615, 'minecraft'), (0.06896073298189379, 'magic'), (0.04843925684201789, 'survivor'), (0.046334706494208046, 'journey'), (0.04443298515437177, 'pathfinder')]}\n",
            "RMSE between LLM quinellas and Skew Normal quinellas: 0.318482\n",
            "RMSE between LLM quinellas and Harville quinellas: 0.318537\n",
            "RMSE between Skew and Harville quinellas: 0.001281\n",
            "The Skew Normal model better predicts the actual quinella probabilities.\n"
          ]
        }
      ]
    },
    {
      "cell_type": "code",
      "source": [
        "prompt_pair_template = (\n",
        "    \"The best file compression format is [MASK] because it is SOMETHING.\",\n",
        "    \"The two best file compression formats are [ANSWER] and [MASK] because they are SOMETHING.\"\n",
        ")\n",
        "\n",
        "compression_adjectives = [\n",
        "    'efficient',\n",
        "    'fast',\n",
        "    'widely-used',\n",
        "    'reliable',\n",
        "    'versatile',\n",
        "    'secure',\n",
        "    'flexible',\n",
        "    'compact',\n",
        "    'popular',\n",
        "    'simple'\n",
        "]\n",
        "\n",
        "something_list = compression_adjectives\n",
        "for something in something_list:\n",
        "    prompt_pair = [pp.replace('SOMETHING',something) for pp in prompt_pair_template]\n",
        "    quinella_comparison(prompt_pair=prompt_pair, top_k=20)\n"
      ],
      "metadata": {
        "id": "7eJ3B2ibHevY",
        "outputId": "b2f1a0ad-4842-4457-c643-d238f578cd08",
        "colab": {
          "base_uri": "https://localhost:8080/"
        }
      },
      "execution_count": 108,
      "outputs": [
        {
          "output_type": "stream",
          "name": "stdout",
          "text": [
            "{'prob': 0.625015867408365}\n",
            "{'probs': [(0.25375046242251464, 'jpeg'), (0.10849393536832357, 'png'), (0.1008718392193903, 'fat'), (0.09675858538687448, 'json'), (0.0913690735390925, 'xml'), (0.08318027081509827, 'svg'), (0.06240498539069504, 'compressed'), (0.03918844212132298, 'csv'), (0.022014863672495156, 'mov'), (0.018601012356954764, 'ascii'), (0.014829171222441342, 'aac'), (0.014059191147283953, 'python'), (0.013827476522875937, ','), (0.013110182635878535, 'this'), (0.01287630292771588, 'aes'), (0.012661184795296267, 'java'), (0.012376466596052602, 'pdf'), (0.010865105518348114, 'compression'), (0.009827447779265733, 'doc'), (0.008934000562079882, 'raw')]}\n",
            "RMSE between LLM quinellas and Skew Normal quinellas: 0.015070\n",
            "RMSE between LLM quinellas and Harville quinellas: 0.015109\n",
            "RMSE between Skew and Harville quinellas: 0.000884\n",
            "The Skew Normal model better predicts the actual quinella probabilities.\n",
            "{'prob': 0.6032590437680483}\n",
            "{'probs': [(0.20939538833512783, 'jpeg'), (0.1454355242611984, 'fat'), (0.13125678483218411, 'png'), (0.1092846264471212, 'json'), (0.06508131865691617, 'compressed'), (0.05964263074074646, 'svg'), (0.05685530318370949, 'xml'), (0.03376367865410679, 'mov'), (0.029549921311099243, 'csv'), (0.02029317839050438, 'java'), (0.0202164907418908, 'aac'), (0.01729572630574971, 'raw'), (0.014460632999062936, 'aes'), (0.014046032776141078, 'swift'), (0.01312856449784011, 'python'), (0.012985911021276096, 'zip'), (0.012912260063986405, ','), (0.012192412154085466, 'zip'), (0.011169963434315162, 'ascii'), (0.011033651192938173, 'pdf')]}\n",
            "RMSE between LLM quinellas and Skew Normal quinellas: 0.013143\n",
            "RMSE between LLM quinellas and Harville quinellas: 0.013264\n",
            "RMSE between Skew and Harville quinellas: 0.000946\n",
            "The Skew Normal model better predicts the actual quinella probabilities.\n",
            "{'prob': 0.6038294564932585}\n",
            "{'probs': [(0.30979584699194906, 'jpeg'), (0.1254129426750242, 'png'), (0.09193932560685068, 'fat'), (0.06124555384185275, 'xml'), (0.0575296624185756, 'json'), (0.05568744261243678, 'svg'), (0.04463888041473303, 'compressed'), (0.0396515936433052, 'aac'), (0.0281247825368391, 'csv'), (0.02417486415993368, 'java'), (0.021329789355444273, 'ascii'), (0.019236880477482416, ','), (0.017466938759175033, 'python'), (0.016885050950838743, 'raw'), (0.0166018674324613, 'raw'), (0.01603776766533025, 'rsa'), (0.014959625434225705, 'mov'), (0.014301636026903217, 'aes'), (0.014015296839375864, 'doc'), (0.01096425215726309, 'compression')]}\n",
            "RMSE between LLM quinellas and Skew Normal quinellas: 0.016768\n",
            "RMSE between LLM quinellas and Harville quinellas: 0.016355\n",
            "RMSE between Skew and Harville quinellas: 0.001007\n",
            "The Harville model better predicts the actual quinella probabilities.\n",
            "{'prob': 0.5614037998020649}\n",
            "{'probs': [(0.3309473211750829, 'jpeg'), (0.09982898219739346, 'fat'), (0.09287291560751698, 'png'), (0.07916962686665957, 'json'), (0.07741993342631455, 'compressed'), (0.07302731901981734, 'xml'), (0.04482218179698387, 'svg'), (0.024039358215259606, 'csv'), (0.020456003567601567, 'python'), (0.018446105603302333, 'java'), (0.01642753647735576, 'this'), (0.01617355952960665, 'aac'), (0.014611204321997607, 'mov'), (0.01460914228757487, 'compression'), (0.014516314242367247, 'aes'), (0.014489482911109528, 'simple'), (0.013173184979218907, ','), (0.012236955824056142, 'ascii'), (0.011495467820866242, 'doc'), (0.01123740412991487, 'raw')]}\n",
            "RMSE between LLM quinellas and Skew Normal quinellas: 0.019502\n",
            "RMSE between LLM quinellas and Harville quinellas: 0.019448\n",
            "RMSE between Skew and Harville quinellas: 0.001014\n",
            "The Harville model better predicts the actual quinella probabilities.\n",
            "{'prob': 0.6204394577071071}\n",
            "{'probs': [(0.17307562306437593, 'png'), (0.16092087714769887, 'jpeg'), (0.13092958612616956, 'fat'), (0.10090685671083656, 'json'), (0.0825415329529839, 'svg'), (0.06842535789561924, 'xml'), (0.04308024538188736, 'compressed'), (0.03769333724682094, 'csv'), (0.03039923360208902, 'aac'), (0.024667426292754025, 'raw'), (0.023633372728644908, 'mov'), (0.016105312434837177, 'pdf'), (0.015940619622912048, 'python'), (0.01499548939956548, 'java'), (0.014723638257958431, 'raw'), (0.01455708562126617, 'zip'), (0.012830874027801559, 'ascii'), (0.011883515467193647, 'zip'), (0.011848819753176336, 'doc'), (0.010841196265408823, ',')]}\n",
            "RMSE between LLM quinellas and Skew Normal quinellas: 0.010660\n",
            "RMSE between LLM quinellas and Harville quinellas: 0.010817\n",
            "RMSE between Skew and Harville quinellas: 0.000861\n",
            "The Skew Normal model better predicts the actual quinella probabilities.\n",
            "{'prob': 0.5059393476694822}\n",
            "{'probs': [(0.1614698435524424, 'jpeg'), (0.13469853904984042, 'json'), (0.13210040452998212, 'fat'), (0.08539999351088554, 'xml'), (0.056657468624868326, 'aes'), (0.0540987746379032, 'compressed'), (0.051322717773821844, 'png'), (0.04972888655738263, 'rsa'), (0.03376171465833636, 'java'), (0.02966214866950015, 'svg'), (0.029009117559254744, 'python'), (0.027066793726075556, 'ssl'), (0.025746406562666108, 'aac'), (0.025313039303405897, 'csv'), (0.022190809204244488, 'doc'), (0.021684867388377983, 'encrypted'), (0.017017286671806933, 'mysql'), (0.01619171013307548, 'compression'), (0.014109870891104482, 'http'), (0.012769606995025357, 'fast')]}\n",
            "RMSE between LLM quinellas and Skew Normal quinellas: 0.011954\n",
            "RMSE between LLM quinellas and Harville quinellas: 0.012241\n",
            "RMSE between Skew and Harville quinellas: 0.000686\n",
            "The Skew Normal model better predicts the actual quinella probabilities.\n",
            "{'prob': 0.577101934235543}\n",
            "{'probs': [(0.14985072337833974, 'png'), (0.14928388211116939, 'jpeg'), (0.1330001382931119, 'json'), (0.118840390248607, 'fat'), (0.08774322864571901, 'svg'), (0.08342772248998025, 'xml'), (0.04248394995144127, 'compressed'), (0.0345861737887431, 'csv'), (0.027323776646075725, 'mov'), (0.02556987344142445, 'aac'), (0.019805693501814214, 'python'), (0.01929695843500866, 'java'), (0.017034021612002993, 'ascii'), (0.015658331578381434, 'raw'), (0.01447125027539464, 'zip'), (0.013947369769206104, 'aes'), (0.012268326348185952, 'pdf'), (0.012052521992140207, 'swift'), (0.01173247069730467, 'raw'), (0.011623196795949297, ',')]}\n",
            "RMSE between LLM quinellas and Skew Normal quinellas: 0.010687\n",
            "RMSE between LLM quinellas and Harville quinellas: 0.010930\n",
            "RMSE between Skew and Harville quinellas: 0.000801\n",
            "The Skew Normal model better predicts the actual quinella probabilities.\n",
            "{'prob': 0.61932288762182}\n",
            "{'probs': [(0.23411337330590123, 'jpeg'), (0.1636717657101797, 'fat'), (0.13631042643017022, 'png'), (0.08641369422647674, 'json'), (0.05531251945556524, 'svg'), (0.04968434496954251, 'xml'), (0.04278135083270447, 'compressed'), (0.03703713300019102, 'csv'), (0.025871723346719045, 'zip'), (0.022556769092178276, 'mov'), (0.022396967382900743, 'aac'), (0.017255960513755088, 'raw'), (0.016399790453698493, 'java'), (0.014481711290845732, 'pdf'), (0.013208906699177972, 'zip'), (0.013094595702043953, 'python'), (0.012583692492939402, 'zip'), (0.012540552181876195, 'doc'), (0.012263655987045166, 'aes'), (0.01202106692608879, 'ascii')]}\n",
            "RMSE between LLM quinellas and Skew Normal quinellas: 0.014097\n",
            "RMSE between LLM quinellas and Harville quinellas: 0.014189\n",
            "RMSE between Skew and Harville quinellas: 0.001115\n",
            "The Skew Normal model better predicts the actual quinella probabilities.\n",
            "{'prob': 0.556986226234585}\n",
            "{'probs': [(0.32682192751365075, 'jpeg'), (0.13371147937959907, 'compressed'), (0.09336168178804491, 'fat'), (0.09319692892415028, 'png'), (0.05180091419563685, 'svg'), (0.04530539559367335, 'xml'), (0.03767005042499904, 'json'), (0.025942347585164185, 'aac'), (0.02252811987165024, 'java'), (0.02164682280605514, 'compression'), (0.021548493109438283, ','), (0.018307739801430578, 'python'), (0.017096992186511156, 'mov'), (0.016024510100235336, 'raw'), (0.015045124116779525, 'csv'), (0.014832834169292512, 'raw'), (0.01453656761437461, 'ascii'), (0.011361779325178125, 'this'), (0.009817507986976207, 'simple'), (0.009442783507159836, 'c')]}\n",
            "RMSE between LLM quinellas and Skew Normal quinellas: 0.019397\n",
            "RMSE between LLM quinellas and Harville quinellas: 0.019453\n",
            "RMSE between Skew and Harville quinellas: 0.001199\n",
            "The Skew Normal model better predicts the actual quinella probabilities.\n",
            "{'prob': 0.5591079313308001}\n",
            "{'probs': [(0.21659248812297388, 'jpeg'), (0.11360193898909242, 'svg'), (0.11038085788967031, 'png'), (0.09439647097215655, 'json'), (0.07148015740544107, 'compressed'), (0.06912017850223834, 'fat'), (0.06530227318606763, 'xml'), (0.03584478645905836, 'this'), (0.028994926970837425, 'csv'), (0.02815953697517215, ','), (0.023246722673045433, 'ascii'), (0.02117928418173129, 'aac'), (0.021095729524307466, 'mov'), (0.01924109963665942, 'simple'), (0.015928629953977393, 'python'), (0.014776867954474348, 'compression'), (0.014722558509873036, 'java'), (0.014033044775125434, 'aes'), (0.011255626563568226, 'raw'), (0.010646820754529822, 'swift')]}\n",
            "RMSE between LLM quinellas and Skew Normal quinellas: 0.013229\n",
            "RMSE between LLM quinellas and Harville quinellas: 0.013229\n",
            "RMSE between Skew and Harville quinellas: 0.000773\n",
            "The Harville model better predicts the actual quinella probabilities.\n"
          ]
        }
      ]
    },
    {
      "cell_type": "code",
      "source": [
        "prompt_pair_template = (\n",
        "    \"The most reliable database is [MASK] because it is SOMETHING.\",\n",
        "    \"The two most reliable databases are [ANSWER] and [MASK] because they are SOMETHING.\"\n",
        ")\n",
        "\n",
        "database_adjectives = [\n",
        "    'robust',\n",
        "    'scalable',\n",
        "    'efficient',\n",
        "    'secure',\n",
        "    'versatile',\n",
        "    'fast',\n",
        "    'flexible',\n",
        "    'popular',\n",
        "    'stable',\n",
        "    'powerful'\n",
        "]\n",
        "\n",
        "something_list = database_adjectives\n",
        "for something in something_list:\n",
        "    prompt_pair = [pp.replace('SOMETHING', something) for pp in prompt_pair_template]\n",
        "    quinella_comparison(prompt_pair=prompt_pair, top_k=20)\n"
      ],
      "metadata": {
        "id": "V7P35VozIKSF",
        "outputId": "648a5368-6f67-4bbe-f073-8cf20396b732",
        "colab": {
          "base_uri": "https://localhost:8080/"
        }
      },
      "execution_count": 111,
      "outputs": [
        {
          "output_type": "stream",
          "name": "stdout",
          "text": [
            "{'prob': 0.8615010119974613}\n",
            "{'probs': [(0.8394767117890969, 'mysql'), (0.040853193478330684, 'sql'), (0.02228943428871732, 'cassandra'), (0.015289383129277103, 'oracle'), (0.010334398269267187, 'relational'), (0.0098534147771788, 'immutable'), (0.009130073652945799, 'xml'), (0.007795294842370396, 'mongo'), (0.0065209449044395405, 'jenkins'), (0.005169197989442215, 'json'), (0.004215026971437634, 'simple'), (0.003953979938727759, 'prometheus'), (0.0038357658924297335, 'known'), (0.0038039596152714965, 'python'), (0.003642486956429164, 'this'), (0.00353047649494416, 'available'), (0.002826119086161029, 'reliable'), (0.002776949311857098, 'ruby'), (0.0024175357043791593, 'amazon'), (0.0022856529072968067, 'java')]}\n",
            "RMSE between LLM quinellas and Skew Normal quinellas: 0.019821\n",
            "RMSE between LLM quinellas and Harville quinellas: 0.022003\n",
            "RMSE between Skew and Harville quinellas: 0.003554\n",
            "The Skew Normal model better predicts the actual quinella probabilities.\n",
            "{'prob': 0.8414492784067988}\n",
            "{'probs': [(0.6672519207743521, 'mysql'), (0.0753817797993759, 'sql'), (0.057905847834524515, 'relational'), (0.02570556550181568, 'immutable'), (0.024677670939557347, 'xml'), (0.01951637630685314, 'json'), (0.018756977807142323, 'oracle'), (0.01874177912324918, 'cassandra'), (0.011255824095656753, 'mongo'), (0.010870384940858884, 'elastic'), (0.010853034622718123, 'simple'), (0.009911133487861329, 'distributed'), (0.008696465672790135, 'jenkins'), (0.007576119459964198, 'fast'), (0.007541359609468556, 'scalable'), (0.006997836765300454, 'java'), (0.0058705176637090925, 'reliable'), (0.004762512357190216, 'ruby'), (0.004261457449324838, 'small'), (0.0034654357882871723, 'php')]}\n",
            "RMSE between LLM quinellas and Skew Normal quinellas: 0.017817\n",
            "RMSE between LLM quinellas and Harville quinellas: 0.019289\n",
            "RMSE between Skew and Harville quinellas: 0.002261\n",
            "The Skew Normal model better predicts the actual quinella probabilities.\n",
            "{'prob': 0.817842920543626}\n",
            "{'probs': [(0.7521094112951634, 'mysql'), (0.08579481820359502, 'sql'), (0.026311825370733156, 'relational'), (0.01524081448918688, 'immutable'), (0.013589878485399607, 'xml'), (0.01309653231484134, 'reliable'), (0.010723999261452585, 'simple'), (0.010357256436447764, 'oracle'), (0.009628133356185599, 'cassandra'), (0.00954109718589862, 'fast'), (0.007324201171167378, 'one'), (0.00701836350940298, 'available'), (0.006297433770130922, 'known'), (0.004994366868823102, 'json'), (0.004984398209055571, 'distributed'), (0.004716708264664081, 'ruby'), (0.004689035668268621, 'there'), (0.004665595254192792, 'this'), (0.004559168936065779, 'large'), (0.004356961949324751, 'small')]}\n",
            "RMSE between LLM quinellas and Skew Normal quinellas: 0.020948\n",
            "RMSE between LLM quinellas and Harville quinellas: 0.024239\n",
            "RMSE between Skew and Harville quinellas: 0.004490\n",
            "The Skew Normal model better predicts the actual quinella probabilities.\n",
            "{'prob': 0.8860571105033159}\n",
            "{'probs': [(0.8741725114760713, 'mysql'), (0.03449698975057697, 'sql'), (0.013073093058781213, 'oracle'), (0.009974045754871319, 'cassandra'), (0.009620896492230184, 'relational'), (0.008881724188837686, 'immutable'), (0.00703238392349988, 'xml'), (0.0062420210849234315, 'trusted'), (0.005505345111720593, 'mongo'), (0.003757793629566744, 'json'), (0.0035516952952504735, 'reliable'), (0.0033026006952907075, 'jenkins'), (0.0032436526169636907, 'available'), (0.0029311898576116174, 'ruby'), (0.0027294217364738096, 'known'), (0.0024491684686299134, 'free'), (0.0024106734804757728, 'simple'), (0.0023148180799952385, 'secure'), (0.0022036999853493272, 'python'), (0.0021062753128800933, 'this')]}\n",
            "RMSE between LLM quinellas and Skew Normal quinellas: 0.020032\n",
            "RMSE between LLM quinellas and Harville quinellas: 0.022680\n",
            "RMSE between Skew and Harville quinellas: 0.004262\n",
            "The Skew Normal model better predicts the actual quinella probabilities.\n",
            "{'prob': 0.9169127981876954}\n",
            "{'probs': [(0.8031138910037204, 'mysql'), (0.06619228821145505, 'sql'), (0.024531939480581074, 'oracle'), (0.022701083786239633, 'cassandra'), (0.018387931049719586, 'mongo'), (0.01225736866112856, 'relational'), (0.012070052433342327, 'xml'), (0.006258242910090383, 'json'), (0.004799652038406124, 'java'), (0.004369740788340044, 'python'), (0.004294210149624518, 'jenkins'), (0.004181893595257175, 'immutable'), (0.003803077407390405, 'ruby'), (0.0023320158342794834, 'php'), (0.002036429028000595, 'simple'), (0.001991377346278242, 'haskell'), (0.0018717751913329605, 'excel'), (0.0018447181799818178, 'elastic'), (0.001524080781429443, 'elastic'), (0.0014382321234021479, 'prometheus')]}\n",
            "RMSE between LLM quinellas and Skew Normal quinellas: 0.022755\n",
            "RMSE between LLM quinellas and Harville quinellas: 0.025860\n",
            "RMSE between Skew and Harville quinellas: 0.004454\n",
            "The Skew Normal model better predicts the actual quinella probabilities.\n",
            "{'prob': 0.9326550089754164}\n",
            "{'probs': [(0.8621606269815035, 'mysql'), (0.03628256687625453, 'sql'), (0.030645286080335083, 'cassandra'), (0.014941858824527407, 'mongo'), (0.008305364593776647, 'ruby'), (0.007879771485793104, 'oracle'), (0.004980916849582013, 'jenkins'), (0.0047948630350070146, 'json'), (0.004153714070739277, 'immutable'), (0.0033370779243159215, 'apache'), (0.003161199801475427, 'java'), (0.0030151752174605436, 'fast'), (0.0029028059830566977, 'relational'), (0.0025241045376170244, 'xml'), (0.0024817651122307, 'python'), (0.0020653350198078435, 'simple'), (0.0019204993598106628, 'mysql'), (0.0017224081420340691, 'kafka'), (0.0013753413122503059, 'php'), (0.00134931879242221, 'dash')]}\n",
            "RMSE between LLM quinellas and Skew Normal quinellas: 0.022138\n",
            "RMSE between LLM quinellas and Harville quinellas: 0.025152\n",
            "RMSE between Skew and Harville quinellas: 0.004334\n",
            "The Skew Normal model better predicts the actual quinella probabilities.\n",
            "{'prob': 0.8728375760838389}\n",
            "{'probs': [(0.6847512654875715, 'mysql'), (0.06963060397645605, 'sql'), (0.03948434987206832, 'xml'), (0.031160903866028117, 'relational'), (0.029014095016897053, 'cassandra'), (0.0238908932748986, 'json'), (0.021794807737601465, 'oracle'), (0.019430455654356114, 'mongo'), (0.012291188459434823, 'java'), (0.011810010550647324, 'immutable'), (0.00922178895713254, 'python'), (0.008635683852435981, 'elastic'), (0.00701111982331847, 'ruby'), (0.006912375924815226, 'jenkins'), (0.005964030957669177, 'haskell'), (0.004076723203547798, 'simple'), (0.004041319424501443, 'elastic'), (0.003981412662288309, 'php'), (0.003459160906738407, 'excel'), (0.0034378103915932825, 'kafka')]}\n",
            "RMSE between LLM quinellas and Skew Normal quinellas: 0.017739\n",
            "RMSE between LLM quinellas and Harville quinellas: 0.018945\n",
            "RMSE between Skew and Harville quinellas: 0.002014\n",
            "The Skew Normal model better predicts the actual quinella probabilities.\n",
            "{'prob': 0.7353511517867446}\n",
            "{'probs': [(0.7426582016156703, 'mysql'), (0.04841769466957831, 'available'), (0.027569582304866884, 'here'), (0.026109550438474047, 'oracle'), (0.023754138206359018, 'mongo'), (0.014418499857380015, 'known'), (0.013181473392610393, 'there'), (0.01164152154746569, 'used'), (0.011506288427468406, 'sql'), (0.011174879451667915, 'simple'), (0.009892305830727373, 'google'), (0.009356483046858464, 'one'), (0.008911387923447195, 'wikipedia'), (0.008066169208334889, 'free'), (0.0071848261005005324, 'cassandra'), (0.0059666179328686795, 'best'), (0.005620931064092273, 'fast'), (0.004970085974623533, 'ours'), (0.0048417071551350235, 'python'), (0.004757655851871028, 'this')]}\n",
            "RMSE between LLM quinellas and Skew Normal quinellas: 0.016905\n",
            "RMSE between LLM quinellas and Harville quinellas: 0.017855\n",
            "RMSE between Skew and Harville quinellas: 0.001883\n",
            "The Skew Normal model better predicts the actual quinella probabilities.\n",
            "{'prob': 0.8979232449783012}\n",
            "{'probs': [(0.8717367515286321, 'mysql'), (0.023686092748430823, 'sql'), (0.022201891958061472, 'cassandra'), (0.013659821013466411, 'mongo'), (0.012046314010451295, 'immutable'), (0.00979532236943494, 'oracle'), (0.005795223287638064, 'xml'), (0.005512102434816736, 'ruby'), (0.005285207987818241, 'json'), (0.005243352972496814, 'jenkins'), (0.0046894907220598105, 'relational'), (0.0031909602883359684, 'python'), (0.0030395174565631955, 'simple'), (0.002515056606713904, 'fast'), (0.0022117179477294507, 'known'), (0.002105303951639992, 'java'), (0.0019922563079755214, 'distributed'), (0.0018321452386383945, 'mysql'), (0.0017993866932610307, 'apache'), (0.001662084475835898, 'available')]}\n",
            "RMSE between LLM quinellas and Skew Normal quinellas: 0.019543\n",
            "RMSE between LLM quinellas and Harville quinellas: 0.021150\n",
            "RMSE between Skew and Harville quinellas: 0.002852\n",
            "The Skew Normal model better predicts the actual quinella probabilities.\n",
            "{'prob': 0.9065366737777367}\n",
            "{'probs': [(0.8236248873819305, 'mysql'), (0.05437199366455616, 'sql'), (0.0371057518022116, 'cassandra'), (0.013225481445022736, 'mongo'), (0.009871731900365928, 'oracle'), (0.008103339509399806, 'ruby'), (0.007456714450998808, 'immutable'), (0.006949083021555182, 'relational'), (0.006326838313468512, 'xml'), (0.00562571998992528, 'jenkins'), (0.005120137079055144, 'python'), (0.00439940680989109, 'simple'), (0.0032973202548146037, 'json'), (0.0029071676157648284, 'java'), (0.0027473266632605446, 'fast'), (0.0019679192814665257, 'prometheus'), (0.0017639138249398898, 'known'), (0.0017466835133125448, 'this'), (0.001704920291186236, 'distributed'), (0.0016836631868740292, 'big')]}\n",
            "RMSE between LLM quinellas and Skew Normal quinellas: 0.022590\n",
            "RMSE between LLM quinellas and Harville quinellas: 0.025863\n",
            "RMSE between Skew and Harville quinellas: 0.004557\n",
            "The Skew Normal model better predicts the actual quinella probabilities.\n"
          ]
        }
      ]
    },
    {
      "cell_type": "code",
      "source": [
        "prompt_pair_template = (\n",
        "    \"I bought clothes from the American fashion brand called [MASK] this season and it is now my favorite SOMETHING.\",\n",
        "    \"I bought clothes from the American fashion brands called [ANSWER] and [MASK] this season and they are now my two favorite SOMETHINGs.\"\n",
        ")\n",
        "something_list = ['fashion brand', 'brand', 'clothing option']\n",
        "for something in something_list:\n",
        "    prompt_pair = [pp.replace('SOMETHING', something) for pp in prompt_pair_template]\n",
        "    quinella_comparison(prompt_pair=prompt_pair)"
      ],
      "metadata": {
        "colab": {
          "base_uri": "https://localhost:8080/"
        },
        "id": "HMls2spj3HvM",
        "outputId": "679e7e48-ec04-4051-81f4-f27ff40435af"
      },
      "execution_count": 32,
      "outputs": [
        {
          "output_type": "stream",
          "name": "stdout",
          "text": [
            "{'prob': 0.33633195143193007}\n",
            "{'probs': [(0.26993113240007577, 'guess'), (0.16116632355226748, 'coach'), (0.15070151182768515, 'gap'), (0.08649240840821819, 'mac'), (0.07487993303576726, 'supreme'), (0.06341791164353949, 'adidas'), (0.06178505370821364, 'nike'), (0.04898453628874048, 'benefit'), (0.04860889699950807, 'diesel'), (0.034032292135984445, 'versus')]}\n",
            "RMSE between LLM quinellas and Skew Normal quinellas: 0.027655\n",
            "RMSE between LLM quinellas and Harville quinellas: 0.028713\n",
            "RMSE between Skew and Harville quinellas: 0.001660\n",
            "The Skew Normal model better predicts the actual quinella probabilities.\n",
            "{'prob': 0.3634163774549961}\n",
            "{'probs': [(0.27488883805200454, 'guess'), (0.20045599229660266, 'coach'), (0.1348978150434897, 'gap'), (0.08031843154181904, 'mac'), (0.07466322622806826, 'supreme'), (0.05620257433021012, 'diesel'), (0.05129796990771486, 'adidas'), (0.04867750927408384, 'benefit'), (0.045462781931876986, 'nike'), (0.033134861394130036, 'versus')]}\n",
            "RMSE between LLM quinellas and Skew Normal quinellas: 0.029313\n",
            "RMSE between LLM quinellas and Harville quinellas: 0.030665\n",
            "RMSE between Skew and Harville quinellas: 0.002019\n",
            "The Skew Normal model better predicts the actual quinella probabilities.\n",
            "{'prob': 0.3044822243973613}\n",
            "{'probs': [(0.26753237190212364, 'guess'), (0.21057032449714155, 'coach'), (0.11290780809813993, 'gap'), (0.08070003477966446, 'supreme'), (0.07392693316973399, 'mac'), (0.05994778190041816, 'diesel'), (0.05101461986825717, 'adidas'), (0.05030246672752213, 'nike'), (0.04766772522779805, 'benefit'), (0.045429933829200866, 'versus')]}\n",
            "RMSE between LLM quinellas and Skew Normal quinellas: 0.028612\n",
            "RMSE between LLM quinellas and Harville quinellas: 0.029881\n",
            "RMSE between Skew and Harville quinellas: 0.001942\n",
            "The Skew Normal model better predicts the actual quinella probabilities.\n"
          ]
        }
      ]
    },
    {
      "cell_type": "code",
      "source": [
        "prompt_pair_template = (\n",
        "    \"I planted the flower called [MASK] this spring and it is now my favorite SOMETHING.\",\n",
        "    \"I planted the flowers called [ANSWER] and [MASK] this spring and they are now my two favorite SOMETHINGs.\"\n",
        ")\n",
        "\n",
        "something_list = ['flower', 'type of flower', 'thing']\n",
        "for something in something_list:\n",
        "    prompt_pair = [pp.replace('SOMETHING', something) for pp in prompt_pair_template]\n",
        "    quinella_comparison(prompt_pair=prompt_pair)\n",
        "\n"
      ],
      "metadata": {
        "colab": {
          "base_uri": "https://localhost:8080/"
        },
        "id": "yf4hET_I3YWg",
        "outputId": "71ece627-ba13-496e-bd39-e155885599be"
      },
      "execution_count": 33,
      "outputs": [
        {
          "output_type": "stream",
          "name": "stdout",
          "text": [
            "{'prob': 0.15694523323327303}\n",
            "{'probs': [(0.23674427368017123, 'iris'), (0.15368748983829156, 'rose'), (0.11892663922839976, 'lily'), (0.10107148905010585, 'orange'), (0.07791660533072951, 'roses'), (0.07302101694245007, 'willow'), (0.06770247836232214, 'violet'), (0.06718625066692169, 'ivy'), (0.05577244647107658, 'yellow'), (0.0479713104295316, 'purple')]}\n",
            "RMSE between LLM quinellas and Skew Normal quinellas: 0.026688\n",
            "RMSE between LLM quinellas and Harville quinellas: 0.027231\n",
            "RMSE between Skew and Harville quinellas: 0.001157\n",
            "The Skew Normal model better predicts the actual quinella probabilities.\n",
            "{'prob': 0.15492503624409437}\n",
            "{'probs': [(0.24355152370138602, 'iris'), (0.17195497159651663, 'rose'), (0.10517101011147668, 'lily'), (0.09947027730911422, 'orange'), (0.08081201763340533, 'roses'), (0.0698827025566312, 'violet'), (0.061748124014398095, 'willow'), (0.059502887207511804, 'yellow'), (0.055677849955068394, 'ivy'), (0.05222863591449162, 'clover')]}\n",
            "RMSE between LLM quinellas and Skew Normal quinellas: 0.025734\n",
            "RMSE between LLM quinellas and Harville quinellas: 0.026392\n",
            "RMSE between Skew and Harville quinellas: 0.001307\n",
            "The Skew Normal model better predicts the actual quinella probabilities.\n",
            "{'prob': 0.16733907163143158}\n",
            "{'probs': [(0.25344676972751845, 'rose'), (0.1241328645268205, 'iris'), (0.12149079669650804, 'roses'), (0.114600774626033, 'orange'), (0.07540924101519733, 'lily'), (0.06828059334270412, 'violet'), (0.062499821904579145, 'basil'), (0.06238054806194337, 'pumpkin'), (0.0610270395598906, 'mint'), (0.056731550538805436, 'yellow')]}\n",
            "RMSE between LLM quinellas and Skew Normal quinellas: 0.021080\n",
            "RMSE between LLM quinellas and Harville quinellas: 0.021606\n",
            "RMSE between Skew and Harville quinellas: 0.001091\n",
            "The Skew Normal model better predicts the actual quinella probabilities.\n"
          ]
        }
      ]
    },
    {
      "cell_type": "code",
      "source": [
        "prompt_pair_template = (\n",
        "    \"I cooked the pasta called [MASK] last night and it is now my favorite SOMETHING.\",\n",
        "    \"I cooked the pastas called [ANSWER] and [MASK] last night and they are now my two favorite SOMETHINGs.\"\n",
        ")\n",
        "\n",
        "something_list = ['pasta', 'type of pasta', 'food']\n",
        "for something in something_list:\n",
        "    prompt_pair = [pp.replace('SOMETHING', something) for pp in prompt_pair_template]\n",
        "    quinella_comparison(prompt_pair=prompt_pair)\n"
      ],
      "metadata": {
        "colab": {
          "base_uri": "https://localhost:8080/"
        },
        "id": "miXQ3G9t3nii",
        "outputId": "06499ad9-94e5-4804-f15f-cf3579aa1ab1"
      },
      "execution_count": 34,
      "outputs": [
        {
          "output_type": "stream",
          "name": "stdout",
          "text": [
            "{'prob': 0.1100191529840231}\n",
            "{'probs': [(0.13890214287614094, 'spaghetti'), (0.1247219068174878, 'salmon'), (0.12297178230017386, 'spinach'), (0.11958182498744668, 'chicken'), (0.10859841510059165, 'this'), (0.08672798736289995, 'chicken'), (0.0861117623120531, 'rice'), (0.08378329404372388, 'mushroom'), (0.06489880156772881, 'kale'), (0.06370208263175332, 'pizza')]}\n",
            "RMSE between LLM quinellas and Skew Normal quinellas: 0.022127\n",
            "RMSE between LLM quinellas and Harville quinellas: 0.022285\n",
            "RMSE between Skew and Harville quinellas: 0.000526\n",
            "The Skew Normal model better predicts the actual quinella probabilities.\n",
            "{'prob': 0.11125759454444051}\n",
            "{'probs': [(0.14851822357720523, 'spaghetti'), (0.12220236768729653, 'spinach'), (0.1211850226849461, 'salmon'), (0.11810917256005381, 'chicken'), (0.0994349392430932, 'this'), (0.08684216622730426, 'mushroom'), (0.08494064835256201, 'rice'), (0.08049416076539696, 'chicken'), (0.0711266076329378, 'roma'), (0.0671466912692041, 'kale')]}\n",
            "RMSE between LLM quinellas and Skew Normal quinellas: 0.022100\n",
            "RMSE between LLM quinellas and Harville quinellas: 0.022255\n",
            "RMSE between Skew and Harville quinellas: 0.000522\n",
            "The Skew Normal model better predicts the actual quinella probabilities.\n",
            "{'prob': 0.2060669893398881}\n",
            "{'probs': [(0.2169513715469814, 'spaghetti'), (0.12873228161387945, 'salmon'), (0.11859938734828586, 'spinach'), (0.11212007697002946, 'chicken'), (0.10785465036149669, 'rice'), (0.07566640737463508, 'pizza'), (0.0745833014048524, 'pasta'), (0.06442316351087482, 'lobster'), (0.05252837751786908, 'this'), (0.04854098235109575, 'kale')]}\n",
            "RMSE between LLM quinellas and Skew Normal quinellas: 0.025236\n",
            "RMSE between LLM quinellas and Harville quinellas: 0.025737\n",
            "RMSE between Skew and Harville quinellas: 0.000962\n",
            "The Skew Normal model better predicts the actual quinella probabilities.\n"
          ]
        }
      ]
    },
    {
      "cell_type": "code",
      "source": [
        "# The question must evoke an obvious finite set of choices ... say 10 roughly\n",
        "prompt_pair_template = (\n",
        "    \"My favourite planet in the solar system is called [MASK] and I hope SOMETHING.\",\n",
        "    \"My favourite two planets in the solar system are called [ANSWER] and [MASK] and I hope SOMETHING\"\n",
        ")\n",
        "\n",
        "something_list = ['to visit', 'to view tonight', 'you agree']\n",
        "# when subbed in the sentence should be gramatical\n",
        "for something in something_list:\n",
        "    prompt_pair = [pp.replace('SOMETHING', something) for pp in prompt_pair_template]\n",
        "    quinella_comparison(prompt_pair=prompt_pair)"
      ],
      "metadata": {
        "colab": {
          "base_uri": "https://localhost:8080/"
        },
        "id": "amht247b35HF",
        "outputId": "65365043-cc1f-4039-f545-f5dbec7c51ec"
      },
      "execution_count": 35,
      "outputs": [
        {
          "output_type": "stream",
          "name": "stdout",
          "text": [
            "{'prob': 0.95700728520751}\n",
            "{'probs': [(0.3707822575559922, 'venus'), (0.3424750002712201, 'pluto'), (0.14857316220011976, 'mars'), (0.05586722001767207, 'jupiter'), (0.023066732399958118, 'earth'), (0.015660153571023443, 'mercury'), (0.012561704905948483, 'saturn'), (0.010904684455385408, 'neptune'), (0.010370272858153739, 'ceres'), (0.009738811764526683, 'pandora')]}\n",
            "RMSE between LLM quinellas and Skew Normal quinellas: 0.040022\n",
            "RMSE between LLM quinellas and Harville quinellas: 0.045158\n",
            "RMSE between Skew and Harville quinellas: 0.006048\n",
            "The Skew Normal model better predicts the actual quinella probabilities.\n",
            "{'prob': 0.9431076450273395}\n",
            "{'probs': [(0.3928213503160743, 'pluto'), (0.3827107629324292, 'venus'), (0.0637801422351983, 'jupiter'), (0.05764980033562753, 'mars'), (0.02550365165500837, 'mercury'), (0.02220131779387423, 'ceres'), (0.015804528551749155, 'neptune'), (0.015083749380043752, 'saturn'), (0.013661435514641163, 'europa'), (0.010783261285353993, 'io')]}\n",
            "RMSE between LLM quinellas and Skew Normal quinellas: 0.043198\n",
            "RMSE between LLM quinellas and Harville quinellas: 0.050594\n",
            "RMSE between Skew and Harville quinellas: 0.008372\n",
            "The Skew Normal model better predicts the actual quinella probabilities.\n",
            "{'prob': 0.9556795391254127}\n",
            "{'probs': [(0.37507030402003133, 'pluto'), (0.35788705899932477, 'venus'), (0.11390207656943944, 'mars'), (0.04270431806227229, 'jupiter'), (0.04064155372668387, 'earth'), (0.029993049043988577, 'mercury'), (0.016595484768366066, 'neptune'), (0.010448558883477281, 'saturn'), (0.008613664055798442, 'ceres'), (0.004143931870617962, 'pandora')]}\n",
            "RMSE between LLM quinellas and Skew Normal quinellas: 0.040241\n",
            "RMSE between LLM quinellas and Harville quinellas: 0.045673\n",
            "RMSE between Skew and Harville quinellas: 0.006534\n",
            "The Skew Normal model better predicts the actual quinella probabilities.\n"
          ]
        }
      ]
    },
    {
      "cell_type": "code",
      "source": [
        "prompt_pair_template = (\n",
        "    \"When I go bowling I like to try to hit the pin number [MASK], and I hope SOMETHING.\",\n",
        "    \"When I go bowling I like to try to hit the two pins numbered [ANSWER] and [MASK], and I hope SOMETHING\"\n",
        ")\n",
        "\n",
        "something_list = ['that helps my score', 'to win', 'I do not miss']\n",
        "for something in something_list:\n",
        "    prompt_pair = [pp.replace('SOMETHING', something) for pp in prompt_pair_template]\n",
        "    quinella_comparison(prompt_pair=prompt_pair)"
      ],
      "metadata": {
        "colab": {
          "base_uri": "https://localhost:8080/"
        },
        "id": "zrqAaBBd5AMS",
        "outputId": "a14d54c0-4c56-4a3c-bf6f-7bc1266e95ff"
      },
      "execution_count": 6,
      "outputs": [
        {
          "output_type": "stream",
          "name": "stdout",
          "text": [
            "{'probs': [(0.47241685683155266, 'one'), (0.08008466724016236, 'three'), (0.07723511929286091, '1'), (0.07580817371996354, 'five'), (0.0589791946348988, '10'), (0.05832720952020096, 'two'), (0.052688464280762216, '3'), (0.051532524733345964, 'six'), (0.03873512647860087, 'four'), (0.03419266326765175, '20')]}\n",
            "RMSE between LLM quinellas and Skew Normal quinellas: 0.060681\n",
            "RMSE between LLM quinellas and Harville quinellas: 0.060886\n",
            "RMSE between Skew and Harville quinellas: 0.001063\n",
            "The Skew Normal model better predicts the actual quinella probabilities.\n",
            "{'probs': [(0.6717796476490402, 'one'), (0.06669171111444643, '1'), (0.04749896646535182, 'two'), (0.04747288218721718, 'three'), (0.03467246574057959, 'five'), (0.028026662630477348, 'right'), (0.027841517367278742, '3'), (0.02678417194079787, '10'), (0.026054904191682254, 'six'), (0.023177070713128557, '20')]}\n",
            "RMSE between LLM quinellas and Skew Normal quinellas: 0.080839\n",
            "RMSE between LLM quinellas and Harville quinellas: 0.080610\n",
            "RMSE between Skew and Harville quinellas: 0.002373\n",
            "The Harville model better predicts the actual quinella probabilities.\n",
            "{'probs': [(0.567167386857133, 'one'), (0.08486429715733143, '1'), (0.06102207596827285, 'right'), (0.05414352113236793, 'two'), (0.05312227308943814, 'three'), (0.04039741695821996, 'five'), (0.03879849756223505, '3'), (0.03857179283943271, 'six'), (0.03515600681311279, '10'), (0.026756731622456176, 'four')]}\n",
            "RMSE between LLM quinellas and Skew Normal quinellas: 0.070477\n",
            "RMSE between LLM quinellas and Harville quinellas: 0.070634\n",
            "RMSE between Skew and Harville quinellas: 0.001708\n",
            "The Skew Normal model better predicts the actual quinella probabilities.\n"
          ]
        }
      ]
    },
    {
      "cell_type": "markdown",
      "source": [
        "# All together"
      ],
      "metadata": {
        "id": "_zf2wYLj6ceB"
      }
    },
    {
      "cell_type": "code",
      "source": [
        "import pandas as pd\n",
        "\n",
        "# List of categories, templates, and substitutions exactly as provided\n",
        "examples = [\n",
        "    {\n",
        "        \"category\": \"Country Visits by Region\",\n",
        "        \"prompt_pair_template\": (\n",
        "            \"I visited the country called [MASK] last year and it is one of my favorite countries in SOMETHING\",\n",
        "            \"I visited two countries called [ANSWER] and [MASK] last year and they are my two favorite countries in SOMETHING\"\n",
        "        ),\n",
        "        \"substitutions\": ['Asia', 'Europe', 'the Americas', 'Africa', 'the Southern Hemisphere', 'the World']\n",
        "    },\n",
        "    {\n",
        "        \"category\": \"Favorite Sports\",\n",
        "        \"prompt_pair_template\": (\n",
        "            \"I learned the sport called [MASK] last year and it is one of my favorite forms of SOMETHING now\",\n",
        "            \"I visited two sports called [ANSWER] and [MASK] last year and they are my two favorite forms of SOMETHING now\"\n",
        "        ),\n",
        "        \"substitutions\": ['exercise', 'sport', 'relaxation', 'competition']\n",
        "    },\n",
        "    {\n",
        "        \"category\": \"Favorite Hobbies\",\n",
        "        \"prompt_pair_template\": (\n",
        "            \"I picked up the hobby called [MASK] last year and it is one of my favorite things to do SOMETHING.\",\n",
        "            \"I engaged in two hobbies called [ANSWER] and [MASK] last year and they are my two favorite things to do SOMETHING.\"\n",
        "        ),\n",
        "        \"substitutions\": ['in the evening', 'when I am bored', 'with friends', 'in the evening']\n",
        "    },\n",
        "    {\n",
        "        \"category\": \"Favorite Ice Cream Flavors\",\n",
        "        \"prompt_pair_template\": (\n",
        "            \"I tried the icecream flavor called [MASK] last year and it is now my favourite SOMETHING.\",\n",
        "            \"I tried the icecream flavors called [ANSWER] and [MASK] last year and they are now my two favorite SOMETHING.\"\n",
        "        ),\n",
        "        \"substitutions\": ['treat', 'ice cream', 'guilty pleasure']\n",
        "    },\n",
        "    {\n",
        "        \"category\": \"Favorite Breakfast Cereals\",\n",
        "        \"prompt_pair_template\": (\n",
        "            \"I ate the breakfast cereal named [MASK] this morning and it is now my favorite SOMETHING.\",\n",
        "            \"I ate the breakfast cereals named [ANSWER] and [MASK] this morning and they are now my two favorite SOMETHING.\"\n",
        "        ),\n",
        "        \"substitutions\": ['meal choice', 'cereal', 'morning staple']\n",
        "    },\n",
        "    {\n",
        "        \"category\": \"Favorite Dog Breeds\",\n",
        "        \"prompt_pair_template\": (\n",
        "            \"I adopted the dog breed called [MASK] last year and it is now my favorite SOMETHING.\",\n",
        "            \"I adopted the dog breeds called [ANSWER] and [MASK] last year and they are now my two favorite SOMETHING.\"\n",
        "        ),\n",
        "        \"substitutions\": ['pet', '', 'canine']\n",
        "    },\n",
        "    {\n",
        "        \"category\": \"Favorite Programming Languages\",\n",
        "        \"prompt_pair_template\": (\n",
        "            \"I learned the programming language called [MASK] last year and it is now my favorite SOMETHING.\",\n",
        "            \"I learned the programming languages called [ANSWER] and [MASK] last year and they are now my two favorite SOMETHING.\"\n",
        "        ),\n",
        "        \"substitutions\": ['language', 'coding language', 'programming language']\n",
        "    },\n",
        "    {\n",
        "        \"category\": \"Favorite Musical Instruments\",\n",
        "        \"prompt_pair_template\": (\n",
        "            \"I learned to play the musical instrument called [MASK] last year and it is now my favorite SOMETHING.\",\n",
        "            \"I learned to play the musical instruments called [ANSWER] and [MASK] last year and they are now my two favorite SOMETHING.\"\n",
        "        ),\n",
        "        \"substitutions\": ['instrument', 'musical instrument', '']\n",
        "    },\n",
        "    {\n",
        "        \"category\": \"Favorite Vacation Activities\",\n",
        "        \"prompt_pair_template\": (\n",
        "            \"I engaged in the vacation activity called [MASK] last summer and it is now my favorite SOMETHING.\",\n",
        "            \"I engaged in the vacation activities called [ANSWER] and [MASK] last summer and they are now my two favorite SOMETHINGs.\"\n",
        "        ),\n",
        "        \"substitutions\": ['activity', 'vacation activity', '']\n",
        "    },\n",
        "    # Continue to add the remaining examples similarly...\n",
        "]\n"
      ],
      "metadata": {
        "id": "9XeEFYUy7Cna"
      },
      "execution_count": null,
      "outputs": []
    },
    {
      "cell_type": "code",
      "source": [
        "import pandas as pd\n",
        "\n",
        "TOP_K = 4\n",
        "\n",
        "# DataFrame to store accuracy results\n",
        "results = []\n",
        "\n",
        "# Loop through each example exactly as provided\n",
        "for example in examples:\n",
        "    category = example[\"category\"]\n",
        "    prompt_pair_template = example[\"prompt_pair_template\"]\n",
        "    substitutions = example[\"substitutions\"]\n",
        "\n",
        "    # Track accuracies for each model in the current category\n",
        "    harville_accuracies = []\n",
        "    skew_accuracies = []\n",
        "\n",
        "    for substitution in substitutions:\n",
        "        # Replace placeholders with current substitution in both prompt templates\n",
        "        prompt_pair = [pp.replace(\"SOMETHING\", substitution).replace(\"REGION\", substitution) for pp in prompt_pair_template]\n",
        "\n",
        "        # Run quinella_comparison for Harville and Skew models and capture accuracy\n",
        "        try:\n",
        "            harville_accuracy, skew_accuracy = quinella_comparison(prompt_pair=prompt_pair, top_k=TOP_K)\n",
        "\n",
        "            if harville_accuracy is not None and skew_accuracy is not None:\n",
        "                harville_accuracies.append(harville_accuracy)\n",
        "                skew_accuracies.append(skew_accuracy)\n",
        "        except Exception as e:\n",
        "            print(e)\n",
        "\n",
        "    # Calculate average accuracy for each model in the category\n",
        "    if harville_accuracies and skew_accuracies:\n",
        "        avg_harville_accuracy = sum(harville_accuracies) / len(harville_accuracies)\n",
        "        avg_skew_accuracy = sum(skew_accuracies) / len(skew_accuracies)\n",
        "\n",
        "        # Determine the winning model for the category (1 if Skew wins, 0 if Harville wins)\n",
        "        model_win = 1 if avg_skew_accuracy < avg_harville_accuracy else 0\n",
        "\n",
        "        # Append results to the DataFrame\n",
        "        results.append({\n",
        "            \"Category\": category,\n",
        "            \"Harville Accuracy\": avg_harville_accuracy,\n",
        "            \"Skew Accuracy\": avg_skew_accuracy,\n",
        "            \"Skew Win\": model_win\n",
        "        })\n",
        "\n",
        "# Convert results to a DataFrame\n",
        "results_df = pd.DataFrame(results)\n",
        "\n",
        "# Check if the required columns are present in the DataFrame before calculating overall metrics\n",
        "if \"Harville Accuracy\" in results_df.columns and \"Skew Accuracy\" in results_df.columns:\n",
        "    # Calculate overall average accuracies\n",
        "    overall_harville_accuracy = results_df[\"Harville Accuracy\"].mean()\n",
        "    overall_skew_accuracy = results_df[\"Skew Accuracy\"].mean()\n",
        "    overall_model_win = 1 if overall_skew_accuracy > overall_harville_accuracy else 0\n",
        "\n",
        "    # Add an overall summary row\n",
        "    summary_row = pd.DataFrame([{\n",
        "        \"Category\": \"Overall\",\n",
        "        \"Harville Accuracy\": overall_harville_accuracy,\n",
        "        \"Skew Accuracy\": overall_skew_accuracy,\n",
        "        \"Model Win\": overall_model_win\n",
        "    }])\n",
        "\n",
        "# Display the DataFrame\n",
        "print(results_df)\n"
      ],
      "metadata": {
        "colab": {
          "base_uri": "https://localhost:8080/"
        },
        "id": "YfX0z1as9dgX",
        "outputId": "ebf3fd61-107b-404d-f370-8c41b2fed416"
      },
      "execution_count": null,
      "outputs": [
        {
          "output_type": "stream",
          "name": "stderr",
          "text": [
            "/usr/local/lib/python3.10/dist-packages/transformers/tokenization_utils_base.py:1601: FutureWarning: `clean_up_tokenization_spaces` was not set. It will be set to `True` by default. This behavior will be depracted in transformers v4.45, and will be then set to `False` by default. For more details check this issue: https://github.com/huggingface/transformers/issues/31884\n",
            "  warnings.warn(\n"
          ]
        },
        {
          "output_type": "stream",
          "name": "stdout",
          "text": [
            "{'probs': [(0.30040617864945307, 'vietnam'), (0.28587588044119433, 'myanmar'), (0.2086695260412975, 'cambodia'), (0.20504841486805517, 'burma')]}\n",
            "RMSE between LLM quinellas and Skew Normal quinellas: 0.081318\n",
            "RMSE between LLM quinellas and Harville quinellas: 0.081727\n",
            "RMSE between Skew and Harville quinellas: 0.001176\n",
            "The Skew Normal model better predicts the actual quinella probabilities.\n",
            "{'probs': [(0.32754779736635087, 'poland'), (0.28626227003523325, 'slovenia'), (0.24871608290902272, 'luxembourg'), (0.13747384968939316, 'romania')]}\n",
            "RMSE between LLM quinellas and Skew Normal quinellas: 0.051526\n",
            "RMSE between LLM quinellas and Harville quinellas: 0.053074\n",
            "RMSE between Skew and Harville quinellas: 0.003235\n",
            "The Skew Normal model better predicts the actual quinella probabilities.\n",
            "{'probs': [(0.3442923651911901, 'venezuela'), (0.26691868637341254, 'haiti'), (0.2020611394032034, 'honduras'), (0.18672780903219396, 'guatemala')]}\n",
            "RMSE between LLM quinellas and Skew Normal quinellas: 0.084540\n",
            "RMSE between LLM quinellas and Harville quinellas: 0.085791\n",
            "RMSE between Skew and Harville quinellas: 0.001546\n",
            "The Skew Normal model better predicts the actual quinella probabilities.\n",
            "{'probs': [(0.34557299727937346, 'rwanda'), (0.2513552739809259, 'ghana'), (0.2345491144644565, 'mali'), (0.16852261427524415, 'uganda')]}\n",
            "RMSE between LLM quinellas and Skew Normal quinellas: 0.080352\n",
            "RMSE between LLM quinellas and Harville quinellas: 0.081469\n",
            "RMSE between Skew and Harville quinellas: 0.001841\n",
            "The Skew Normal model better predicts the actual quinella probabilities.\n",
            "{'probs': [(0.4545452116037604, 'venezuela'), (0.2583112546928508, 'peru'), (0.14741901031426563, 'panama'), (0.13972452338912314, 'chile')]}\n",
            "RMSE between LLM quinellas and Skew Normal quinellas: 0.041369\n",
            "RMSE between LLM quinellas and Harville quinellas: 0.039665\n",
            "RMSE between Skew and Harville quinellas: 0.004849\n",
            "The Harville model better predicts the actual quinella probabilities.\n",
            "{'probs': [(0.3603472077111898, 'ghana'), (0.2692967629724539, 'congo'), (0.21812018945673603, 'rwanda'), (0.1522358398596203, 'cambodia')]}\n",
            "RMSE between LLM quinellas and Skew Normal quinellas: 0.032802\n",
            "RMSE between LLM quinellas and Harville quinellas: 0.032389\n",
            "RMSE between Skew and Harville quinellas: 0.002616\n",
            "The Harville model better predicts the actual quinella probabilities.\n",
            "{'probs': [(0.4008831417147282, 'yoga'), (0.22997742387036257, 'boxing'), (0.18632096896339928, 'cycling'), (0.1828184654515099, 'running')]}\n",
            "RMSE between LLM quinellas and Skew Normal quinellas: 0.112886\n",
            "RMSE between LLM quinellas and Harville quinellas: 0.113506\n",
            "RMSE between Skew and Harville quinellas: 0.001381\n",
            "The Skew Normal model better predicts the actual quinella probabilities.\n",
            "{'probs': [(0.5278094659681541, 'wrestling'), (0.32365395926951324, 'boxing'), (0.0811815437844377, 'cycling'), (0.06735503097789491, 'fencing')]}\n",
            "RMSE between LLM quinellas and Skew Normal quinellas: 0.201061\n",
            "RMSE between LLM quinellas and Harville quinellas: 0.215885\n",
            "RMSE between Skew and Harville quinellas: 0.017141\n",
            "The Skew Normal model better predicts the actual quinella probabilities.\n",
            "{'probs': [(0.7756480413727834, 'yoga'), (0.11669975027815212, 'meditation'), (0.06855407877989766, 'massage'), (0.039098129569166785, 'mindfulness')]}\n",
            "RMSE between LLM quinellas and Skew Normal quinellas: 0.135604\n",
            "RMSE between LLM quinellas and Harville quinellas: 0.119497\n",
            "RMSE between Skew and Harville quinellas: 0.017985\n",
            "The Harville model better predicts the actual quinella probabilities.\n",
            "{'probs': [(0.46874360096760986, 'wrestling'), (0.34188603880684854, 'boxing'), (0.1303402986386059, 'fencing'), (0.05903006158693572, 'chess')]}\n",
            "RMSE between LLM quinellas and Skew Normal quinellas: 0.191664\n",
            "RMSE between LLM quinellas and Harville quinellas: 0.200970\n",
            "RMSE between Skew and Harville quinellas: 0.012370\n",
            "The Skew Normal model better predicts the actual quinella probabilities.\n",
            "{'probs': [(0.6615749992321854, 'knitting'), (0.14801119736846963, 'crochet'), (0.10828575772181084, 'reading'), (0.08212804567753405, 'mahjong')]}\n",
            "RMSE between LLM quinellas and Skew Normal quinellas: 0.146790\n",
            "RMSE between LLM quinellas and Harville quinellas: 0.140505\n",
            "RMSE between Skew and Harville quinellas: 0.008547\n",
            "The Harville model better predicts the actual quinella probabilities.\n",
            "{'probs': [(0.6349501745234233, 'knitting'), (0.14099262767691847, 'reading'), (0.11415208489689774, 'writing'), (0.10990511290276045, 'crochet')]}\n",
            "RMSE between LLM quinellas and Skew Normal quinellas: 0.164037\n",
            "RMSE between LLM quinellas and Harville quinellas: 0.164747\n",
            "RMSE between Skew and Harville quinellas: 0.005325\n",
            "The Skew Normal model better predicts the actual quinella probabilities.\n",
            "{'probs': [(0.5948870120835111, 'knitting'), (0.20064314931962535, 'crochet'), (0.10877166634996054, 'blogging'), (0.095698172246903, 'fishing')]}\n",
            "RMSE between LLM quinellas and Skew Normal quinellas: 0.153266\n",
            "RMSE between LLM quinellas and Harville quinellas: 0.145653\n",
            "RMSE between Skew and Harville quinellas: 0.009538\n",
            "The Harville model better predicts the actual quinella probabilities.\n",
            "{'probs': [(0.6615749992321854, 'knitting'), (0.14801119736846963, 'crochet'), (0.10828575772181084, 'reading'), (0.08212804567753405, 'mahjong')]}\n",
            "RMSE between LLM quinellas and Skew Normal quinellas: 0.146790\n",
            "RMSE between LLM quinellas and Harville quinellas: 0.140505\n",
            "RMSE between Skew and Harville quinellas: 0.008547\n",
            "The Harville model better predicts the actual quinella probabilities.\n",
            "{'probs': [(0.4188619158818345, 'vanilla'), (0.221116806458215, 'vanilla'), (0.18752539615977384, 'caramel'), (0.1724958815001766, 'strawberry')]}\n",
            "RMSE between LLM quinellas and Skew Normal quinellas: 0.118889\n",
            "RMSE between LLM quinellas and Harville quinellas: 0.119647\n",
            "RMSE between Skew and Harville quinellas: 0.001539\n",
            "The Skew Normal model better predicts the actual quinella probabilities.\n",
            "{'probs': [(0.44390640717081914, 'vanilla'), (0.20213762258331555, 'vanilla'), (0.18854563485017914, 'strawberry'), (0.16541033539568617, 'coconut')]}\n",
            "RMSE between LLM quinellas and Skew Normal quinellas: 0.146186\n",
            "RMSE between LLM quinellas and Harville quinellas: 0.145710\n",
            "RMSE between Skew and Harville quinellas: 0.001552\n",
            "The Harville model better predicts the actual quinella probabilities.\n",
            "{'probs': [(0.3217409306202112, 'vanilla'), (0.23521970355435606, 'peach'), (0.22524760931505522, 'vanilla'), (0.21779175651037755, 'caramel')]}\n",
            "RMSE between LLM quinellas and Skew Normal quinellas: 0.151916\n",
            "RMSE between LLM quinellas and Harville quinellas: 0.152252\n",
            "RMSE between Skew and Harville quinellas: 0.000447\n",
            "The Skew Normal model better predicts the actual quinella probabilities.\n",
            "{'probs': [(0.3235933452060915, 'luna'), (0.31640344275078724, 'milk'), (0.19229402207627644, 'vanilla'), (0.1677091899668448, 'cereal')]}\n",
            "RMSE between LLM quinellas and Skew Normal quinellas: 0.143255\n",
            "RMSE between LLM quinellas and Harville quinellas: 0.144567\n",
            "RMSE between Skew and Harville quinellas: 0.002545\n",
            "The Skew Normal model better predicts the actual quinella probabilities.\n",
            "{'probs': [(0.3221684008939006, 'milk'), (0.31162206687720195, 'luna'), (0.20568439178266437, 'crunch'), (0.16052514044623306, 'ginger')]}\n",
            "RMSE between LLM quinellas and Skew Normal quinellas: 0.067576\n",
            "RMSE between LLM quinellas and Harville quinellas: 0.068380\n",
            "RMSE between Skew and Harville quinellas: 0.002572\n",
            "The Skew Normal model better predicts the actual quinella probabilities.\n",
            "{'probs': [(0.3505986677137472, 'milk'), (0.31556364623932676, 'luna'), (0.17619912918059313, 'crunch'), (0.1576385568663329, 'cereal')]}\n",
            "RMSE between LLM quinellas and Skew Normal quinellas: 0.166362\n",
            "RMSE between LLM quinellas and Harville quinellas: 0.168456\n",
            "RMSE between Skew and Harville quinellas: 0.003337\n",
            "The Skew Normal model better predicts the actual quinella probabilities.\n",
            "{'probs': [(0.2684614209650286, 'pug'), (0.2574495438807302, 'bengal'), (0.25145408888944953, 'daisy'), (0.2226349462647916, 'angus')]}\n",
            "RMSE between LLM quinellas and Skew Normal quinellas: 0.144776\n",
            "RMSE between LLM quinellas and Harville quinellas: 0.144802\n",
            "RMSE between Skew and Harville quinellas: 0.000458\n",
            "The Skew Normal model better predicts the actual quinella probabilities.\n",
            "{'probs': [(0.3548001007445259, 'lab'), (0.23600726810078998, 'bengal'), (0.2108043378701796, 'angus'), (0.1983882932845045, 'chow')]}\n",
            "RMSE between LLM quinellas and Skew Normal quinellas: 0.075264\n",
            "RMSE between LLM quinellas and Harville quinellas: 0.075088\n",
            "RMSE between Skew and Harville quinellas: 0.000775\n",
            "The Harville model better predicts the actual quinella probabilities.\n",
            "{'probs': [(0.3197422677257249, 'pug'), (0.2546078338896847, 'newfoundland'), (0.22318181083383962, 'lab'), (0.20246808755075082, 'labrador')]}\n",
            "RMSE between LLM quinellas and Skew Normal quinellas: 0.043126\n",
            "RMSE between LLM quinellas and Harville quinellas: 0.043834\n",
            "RMSE between Skew and Harville quinellas: 0.000893\n",
            "The Skew Normal model better predicts the actual quinella probabilities.\n",
            "{'probs': [(0.3426317162090317, 'rust'), (0.2502423826565434, 'scala'), (0.22119984156889624, 'python'), (0.18592605956552863, 'ruby')]}\n",
            "RMSE between LLM quinellas and Skew Normal quinellas: 0.095300\n",
            "RMSE between LLM quinellas and Harville quinellas: 0.095843\n",
            "RMSE between Skew and Harville quinellas: 0.001251\n",
            "The Skew Normal model better predicts the actual quinella probabilities.\n",
            "{'probs': [(0.28108043696431334, 'python'), (0.2795603678694666, 'rust'), (0.22614759594081094, 'scala'), (0.21321159922540914, 'ruby')]}\n",
            "RMSE between LLM quinellas and Skew Normal quinellas: 0.103248\n",
            "RMSE between LLM quinellas and Harville quinellas: 0.103434\n",
            "RMSE between Skew and Harville quinellas: 0.000786\n",
            "The Skew Normal model better predicts the actual quinella probabilities.\n",
            "{'probs': [(0.34531624219170204, 'rust'), (0.2667618571356526, 'scala'), (0.21408318992234143, 'python'), (0.17383871075030394, 'ruby')]}\n",
            "RMSE between LLM quinellas and Skew Normal quinellas: 0.093212\n",
            "RMSE between LLM quinellas and Harville quinellas: 0.094035\n",
            "RMSE between Skew and Harville quinellas: 0.001806\n",
            "The Skew Normal model better predicts the actual quinella probabilities.\n",
            "{'probs': [(0.40829573602325486, 'guitar'), (0.2550946950776, 'trumpet'), (0.20532924379139234, 'violin'), (0.1312803251077528, 'piano')]}\n",
            "RMSE between LLM quinellas and Skew Normal quinellas: 0.075702\n",
            "RMSE between LLM quinellas and Harville quinellas: 0.075891\n",
            "RMSE between Skew and Harville quinellas: 0.003623\n",
            "The Skew Normal model better predicts the actual quinella probabilities.\n",
            "{'probs': [(0.4176146975904618, 'guitar'), (0.22562442732785057, 'violin'), (0.20548041611528411, 'trumpet'), (0.15128045896640352, 'piano')]}\n",
            "RMSE between LLM quinellas and Skew Normal quinellas: 0.071769\n",
            "RMSE between LLM quinellas and Harville quinellas: 0.070581\n",
            "RMSE between Skew and Harville quinellas: 0.002354\n",
            "The Harville model better predicts the actual quinella probabilities.\n",
            "{'probs': [(0.44396127069616903, 'guitar'), (0.20353571416650934, 'trumpet'), (0.2018564782754823, 'violin'), (0.1506465368618393, 'whistle')]}\n",
            "RMSE between LLM quinellas and Skew Normal quinellas: 0.088266\n",
            "RMSE between LLM quinellas and Harville quinellas: 0.087239\n",
            "RMSE between Skew and Harville quinellas: 0.002247\n",
            "The Harville model better predicts the actual quinella probabilities.\n",
            "{'probs': [(0.5833395603704808, 'swimming'), (0.19578000885281355, 'surfing'), (0.11257023177710018, 'camping'), (0.10831019899960538, 'hiking')]}\n",
            "RMSE between LLM quinellas and Skew Normal quinellas: 0.087983\n",
            "RMSE between LLM quinellas and Harville quinellas: 0.088654\n",
            "RMSE between Skew and Harville quinellas: 0.007898\n",
            "The Skew Normal model better predicts the actual quinella probabilities.\n",
            "{'probs': [(0.45902436381976575, 'swimming'), (0.2874605669926443, 'surfing'), (0.12746645788091748, 'sailing'), (0.12604861130667253, 'yoga')]}\n",
            "RMSE between LLM quinellas and Skew Normal quinellas: 0.053714\n",
            "RMSE between LLM quinellas and Harville quinellas: 0.050176\n",
            "RMSE between Skew and Harville quinellas: 0.007077\n",
            "The Harville model better predicts the actual quinella probabilities.\n",
            "{'probs': [(0.3603683566949489, 'swimming'), (0.2639812199445461, 'surfing'), (0.23195746058537045, 'sailing'), (0.14369296277513455, 'skiing')]}\n",
            "RMSE between LLM quinellas and Skew Normal quinellas: 0.054613\n",
            "RMSE between LLM quinellas and Harville quinellas: 0.053716\n",
            "RMSE between Skew and Harville quinellas: 0.002914\n",
            "The Harville model better predicts the actual quinella probabilities.\n",
            "                         Category  Harville Accuracy  Skew Accuracy  Skew Win\n",
            "0        Country Visits by Region           0.062352       0.061984         1\n",
            "1                 Favorite Sports           0.162464       0.160304         1\n",
            "2                Favorite Hobbies           0.147853       0.152720         0\n",
            "3      Favorite Ice Cream Flavors           0.139203       0.138997         1\n",
            "4      Favorite Breakfast Cereals           0.127135       0.125731         1\n",
            "5             Favorite Dog Breeds           0.087908       0.087722         1\n",
            "6  Favorite Programming Languages           0.097771       0.097253         1\n",
            "7    Favorite Musical Instruments           0.077904       0.078579         0\n",
            "8    Favorite Vacation Activities           0.064182       0.065437         0\n"
          ]
        }
      ]
    }
  ]
}